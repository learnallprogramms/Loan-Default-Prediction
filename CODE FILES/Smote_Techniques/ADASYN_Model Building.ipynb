{
 "cells": [
  {
   "cell_type": "code",
   "execution_count": 33,
   "id": "ecf69eba",
   "metadata": {},
   "outputs": [],
   "source": [
    "# Import necessary libraries\n",
    "import numpy as np  # For numerical operations\n",
    "import pandas as pd  # For data manipulation and analysis\n",
    "import matplotlib.pyplot as plt  # For data visualization\n",
    "import seaborn as sns  # For enhanced data visualization\n",
    "\n",
    "# Suppress warnings\n",
    "import warnings  # For managing warnings in the code\n",
    "warnings.filterwarnings('ignore')  # Ignore all warnings\n",
    "\n",
    "## display all columns of the dataframe\n",
    "pd.options.display.max_columns=None\n",
    "## display all rows of the dataframe\n",
    "pd.options.display.max_rows=None\n",
    "\n",
    "from sklearn.preprocessing import StandardScaler\n",
    "from sklearn.preprocessing import MinMaxScaler\n",
    "\n",
    "from sklearn.feature_selection import SelectFromModel, RFECV\n",
    "from sklearn.model_selection import train_test_split, GridSearchCV, cross_val_score\n",
    "from sklearn.linear_model import LogisticRegression, LassoCV\n",
    "from sklearn.neighbors import KNeighborsClassifier\n",
    "from sklearn.naive_bayes import GaussianNB\n",
    "from sklearn.tree import DecisionTreeClassifier\n",
    "from sklearn.ensemble import RandomForestClassifier, GradientBoostingClassifier, AdaBoostClassifier, StackingClassifier, ExtraTreesClassifier\n",
    "import xgboost as xgb\n",
    "from xgboost import XGBClassifier\n",
    "\n",
    "\n",
    "from sklearn import metrics\n",
    "from sklearn.metrics import accuracy_score, recall_score, precision_score,f1_score, classification_report, confusion_matrix, roc_auc_score, roc_curve, auc\n",
    "\n",
    "from scipy import stats\n",
    "from scipy.stats import shapiro, levene, mannwhitneyu\n",
    "from scipy.stats import chi2_contingency"
   ]
  },
  {
   "cell_type": "code",
   "execution_count": 34,
   "id": "4cf3d126",
   "metadata": {},
   "outputs": [
    {
     "name": "stdout",
     "output_type": "stream",
     "text": [
      "(85048, 26)\n",
      "\n",
      "0    83194\n",
      "1     1854\n",
      "Name: V32, dtype: int64\n"
     ]
    }
   ],
   "source": [
    "df = pd.read_csv('data_with_encoding.csv')\n",
    "print(df.shape)\n",
    "print()\n",
    "print(df.V32.value_counts())"
   ]
  },
  {
   "cell_type": "code",
   "execution_count": 35,
   "id": "1f911add",
   "metadata": {},
   "outputs": [],
   "source": [
    "# Define columns and target variable\n",
    "columns = ['V3', 'V9', 'V17', 'V19', 'V20', 'Total_Interest_Paid', 'Total_Past_Due', 'LoanBurden', 'Loan_Affordability_Index']\n",
    "X = df[columns]\n",
    "y = df['V32']\n",
    "\n",
    "# Replace infinity values with NaNs\n",
    "X.replace([np.inf, -np.inf], np.nan, inplace=True)\n",
    "\n",
    "# Handle NaN values - here we drop rows with NaNs\n",
    "X.dropna(inplace=True)\n",
    "\n",
    "# Ensure the target variable 'y' matches the cleaned features 'X'\n",
    "y = y.loc[X.index]\n",
    "\n",
    "# Split data into training and testing sets\n",
    "X_train, X_test, y_train, y_test = train_test_split(X, y, test_size=0.2, random_state=50)\n",
    "\n",
    "# Feature scaling\n",
    "scaler = StandardScaler()\n",
    "X_train_scaled = scaler.fit_transform(X_train)\n",
    "X_test_scaled = scaler.transform(X_test)\n",
    "\n",
    "# Convert scaled features back to DataFrame\n",
    "X_train_scaled = pd.DataFrame(X_train_scaled, columns=X_train.columns)\n",
    "X_test_scaled = pd.DataFrame(X_test_scaled, columns=X_train.columns)\n"
   ]
  },
  {
   "cell_type": "code",
   "execution_count": 36,
   "id": "ad825c99",
   "metadata": {},
   "outputs": [
    {
     "name": "stdout",
     "output_type": "stream",
     "text": [
      "Before Counter({0: 64724, 1: 1469})\n",
      "After Counter({0: 64724, 1: 64721})\n"
     ]
    }
   ],
   "source": [
    "from imblearn.over_sampling import ADASYN\n",
    "from collections import Counter\n",
    "\n",
    "counter = Counter(y_train)\n",
    "print('Before',counter)\n",
    "# oversampling the train dataset using ADASYN\n",
    "ada = ADASYN(random_state=130)\n",
    "X_train_ada, y_train_ada = ada.fit_resample(X_train_scaled, y_train)\n",
    "\n",
    "counter = Counter(y_train_ada)\n",
    "print('After',counter)"
   ]
  },
  {
   "cell_type": "code",
   "execution_count": 37,
   "id": "b8eea9d5",
   "metadata": {},
   "outputs": [],
   "source": [
    "features = pd.DataFrame(X_train_ada, columns = X_train.columns)\n",
    "target = y_train_ada"
   ]
  },
  {
   "cell_type": "code",
   "execution_count": 38,
   "id": "8eace009",
   "metadata": {},
   "outputs": [
    {
     "name": "stdout",
     "output_type": "stream",
     "text": [
      "(90611, 9) (38834, 9)\n",
      "(90611,) (38834,)\n"
     ]
    }
   ],
   "source": [
    "X_train, X_test, y_train, y_test = train_test_split(features,target, test_size = 0.3, random_state = 50)\n",
    "\n",
    "print(X_train.shape, X_test.shape)\n",
    "print(y_train.shape, y_test.shape)"
   ]
  },
  {
   "cell_type": "markdown",
   "id": "dde5eac2",
   "metadata": {},
   "source": [
    "# <font color = 'purple'>Logistic Regression"
   ]
  },
  {
   "cell_type": "code",
   "execution_count": 39,
   "id": "4278a266",
   "metadata": {},
   "outputs": [],
   "source": [
    "# Fit the model\n",
    "lr_model = LogisticRegression().fit(X_train, y_train)\n",
    "\n",
    "# Predictions for the test set\n",
    "y_pred_test = lr_model.predict(X_test)\n",
    "\n",
    "# Predictions for the train set\n",
    "y_pred_train = lr_model.predict(X_train)\n",
    "\n",
    "# Calculate scores for the test set\n",
    "accuracy_test = accuracy_score(y_test, y_pred_test)\n",
    "precision_test = precision_score(y_test, y_pred_test)\n",
    "recall_test = recall_score(y_test, y_pred_test)\n",
    "f1_test = f1_score(y_test, y_pred_test)\n",
    "cv_scores_test = cross_val_score(lr_model, X_train, y_train, cv=5, scoring='recall')\n",
    "\n",
    "# Calculate scores for the train set\n",
    "accuracy_train = accuracy_score(y_train, y_pred_train)\n",
    "precision_train = precision_score(y_train, y_pred_train)\n",
    "recall_train = recall_score(y_train, y_pred_train)\n",
    "f1_train = f1_score(y_train, y_pred_train)\n",
    "cv_scores_train = cross_val_score(lr_model, X_train, y_train, cv=5, scoring='recall')"
   ]
  },
  {
   "cell_type": "code",
   "execution_count": 40,
   "id": "df04f98d",
   "metadata": {},
   "outputs": [
    {
     "data": {
      "image/png": "[encoded data removed]",
      "text/plain": [
       "<Figure size 432x288 with 1 Axes>"
      ]
     },
     "metadata": {
      "needs_background": "light"
     },
     "output_type": "display_data"
    },
    {
     "name": "stdout",
     "output_type": "stream",
     "text": [
      "Train Set Scores\n"
     ]
    },
    {
     "data": {
      "text/html": [
       "<div>\n",
       "<style scoped>\n",
       "    .dataframe tbody tr th:only-of-type {\n",
       "        vertical-align: middle;\n",
       "    }\n",
       "\n",
       "    .dataframe tbody tr th {\n",
       "        vertical-align: top;\n",
       "    }\n",
       "\n",
       "    .dataframe thead th {\n",
       "        text-align: right;\n",
       "    }\n",
       "</style>\n",
       "<table border=\"1\" class=\"dataframe\">\n",
       "  <thead>\n",
       "    <tr style=\"text-align: right;\">\n",
       "      <th></th>\n",
       "      <th>Model</th>\n",
       "      <th>Accuracy</th>\n",
       "      <th>Precision</th>\n",
       "      <th>Recall</th>\n",
       "      <th>F1 Score</th>\n",
       "      <th>Cross_val_score</th>\n",
       "    </tr>\n",
       "  </thead>\n",
       "  <tbody>\n",
       "    <tr>\n",
       "      <th>0</th>\n",
       "      <td>LogisticRegression</td>\n",
       "      <td>0.7</td>\n",
       "      <td>0.75</td>\n",
       "      <td>0.6</td>\n",
       "      <td>0.67</td>\n",
       "      <td>0.6</td>\n",
       "    </tr>\n",
       "  </tbody>\n",
       "</table>\n",
       "</div>"
      ],
      "text/plain": [
       "                Model  Accuracy  Precision  Recall  F1 Score  Cross_val_score\n",
       "0  LogisticRegression       0.7       0.75     0.6      0.67              0.6"
      ]
     },
     "execution_count": 40,
     "metadata": {},
     "output_type": "execute_result"
    }
   ],
   "source": [
    "# Store the results for the train set\n",
    "scores_train = []\n",
    "scores_train.append({\n",
    "    'Model': 'LogisticRegression',\n",
    "    'Accuracy': round(accuracy_train, 2),\n",
    "    'Precision': round(precision_train, 2),\n",
    "    'Recall': round(recall_train, 2),\n",
    "    'F1 Score': round(f1_train, 2),\n",
    "    'Cross_val_score': round(cv_scores_train.mean(), 2)\n",
    "})\n",
    "\n",
    "\n",
    "# Confusion matrix for the train set\n",
    "cm_train = confusion_matrix(y_train, y_pred_train)\n",
    "conf_matrix_train = pd.DataFrame(cm_train, columns=['Non_Defaulters:0', 'Defaulters:1'], index=['Non_Defaulters:0', 'Defaulters:1'])\n",
    "sns.heatmap(conf_matrix_train, annot=True, fmt='d', cmap='magma', cbar=False, linewidth=0.2)\n",
    "plt.title('Confusion Matrix - Train Set')\n",
    "plt.show()\n",
    "\n",
    "# Convert the results to DataFrames\n",
    "scores_train_df = pd.DataFrame(scores_train)\n",
    "\n",
    "\n",
    "print(\"Train Set Scores\")\n",
    "scores_train_df\n",
    "\n"
   ]
  },
  {
   "cell_type": "code",
   "execution_count": 41,
   "id": "ff062d19",
   "metadata": {},
   "outputs": [
    {
     "data": {
      "image/png": "[encoded data removed]",
      "text/plain": [
       "<Figure size 432x288 with 1 Axes>"
      ]
     },
     "metadata": {
      "needs_background": "light"
     },
     "output_type": "display_data"
    },
    {
     "name": "stdout",
     "output_type": "stream",
     "text": [
      "Test Set Scores\n"
     ]
    },
    {
     "data": {
      "text/html": [
       "<div>\n",
       "<style scoped>\n",
       "    .dataframe tbody tr th:only-of-type {\n",
       "        vertical-align: middle;\n",
       "    }\n",
       "\n",
       "    .dataframe tbody tr th {\n",
       "        vertical-align: top;\n",
       "    }\n",
       "\n",
       "    .dataframe thead th {\n",
       "        text-align: right;\n",
       "    }\n",
       "</style>\n",
       "<table border=\"1\" class=\"dataframe\">\n",
       "  <thead>\n",
       "    <tr style=\"text-align: right;\">\n",
       "      <th></th>\n",
       "      <th>Model</th>\n",
       "      <th>Accuracy</th>\n",
       "      <th>Precision</th>\n",
       "      <th>Recall</th>\n",
       "      <th>F1 Score</th>\n",
       "      <th>Cross_val_score</th>\n",
       "    </tr>\n",
       "  </thead>\n",
       "  <tbody>\n",
       "    <tr>\n",
       "      <th>0</th>\n",
       "      <td>LogisticRegression</td>\n",
       "      <td>0.7</td>\n",
       "      <td>0.75</td>\n",
       "      <td>0.6</td>\n",
       "      <td>0.67</td>\n",
       "      <td>0.6</td>\n",
       "    </tr>\n",
       "  </tbody>\n",
       "</table>\n",
       "</div>"
      ],
      "text/plain": [
       "                Model  Accuracy  Precision  Recall  F1 Score  Cross_val_score\n",
       "0  LogisticRegression       0.7       0.75     0.6      0.67              0.6"
      ]
     },
     "execution_count": 41,
     "metadata": {},
     "output_type": "execute_result"
    }
   ],
   "source": [
    "# Store the results for the test set\n",
    "scores_test = []\n",
    "scores_test.append({\n",
    "    'Model': 'LogisticRegression',\n",
    "    'Accuracy': round(accuracy_test, 2),\n",
    "    'Precision': round(precision_test, 2),\n",
    "    'Recall': round(recall_test, 2),\n",
    "    'F1 Score': round(f1_test, 2),\n",
    "    'Cross_val_score': round(cv_scores_test.mean(), 2)\n",
    "})\n",
    "\n",
    "# Confusion matrix for the test set\n",
    "cm_test = confusion_matrix(y_test, y_pred_test)\n",
    "conf_matrix_test = pd.DataFrame(cm_test, columns=['Non_Defaulters:0', 'Defaulters:1'], index=['Non_Defaulters:0', 'Defaulters:1'])\n",
    "sns.heatmap(conf_matrix_test, annot=True, fmt='d', cmap='magma', cbar=False, linewidth=0.2)\n",
    "plt.title('Confusion Matrix - Test Set')\n",
    "plt.show()\n",
    "\n",
    "scores_test_df = pd.DataFrame(scores_test)\n",
    "\n",
    "print(\"Test Set Scores\")\n",
    "scores_test_df"
   ]
  },
  {
   "cell_type": "code",
   "execution_count": null,
   "id": "7c141c9d",
   "metadata": {},
   "outputs": [],
   "source": []
  },
  {
   "cell_type": "markdown",
   "id": "9a7d778c",
   "metadata": {},
   "source": [
    "# <font color = 'purple'>Naive Bayes"
   ]
  },
  {
   "cell_type": "code",
   "execution_count": 42,
   "id": "7971c4b2",
   "metadata": {},
   "outputs": [],
   "source": [
    "from sklearn.naive_bayes import GaussianNB\n",
    "\n",
    "# Fit the Naive Bayes model\n",
    "nb_model = GaussianNB().fit(X_train, y_train)\n",
    "\n",
    "# Predictions for the test set\n",
    "y_pred_test_nb = nb_model.predict(X_test)\n",
    "\n",
    "# Predictions for the train set\n",
    "y_pred_train_nb = nb_model.predict(X_train)\n",
    "\n",
    "# Calculate scores for the test set\n",
    "accuracy_test_nb = accuracy_score(y_test, y_pred_test_nb)\n",
    "precision_test_nb = precision_score(y_test, y_pred_test_nb)\n",
    "recall_test_nb = recall_score(y_test, y_pred_test_nb)\n",
    "f1_test_nb = f1_score(y_test, y_pred_test_nb)\n",
    "cv_scores_test_nb = cross_val_score(nb_model, X_train, y_train, cv=5, scoring='recall')\n",
    "\n",
    "# Calculate scores for the train set\n",
    "accuracy_train_nb = accuracy_score(y_train, y_pred_train_nb)\n",
    "precision_train_nb = precision_score(y_train, y_pred_train_nb)\n",
    "recall_train_nb = recall_score(y_train, y_pred_train_nb)\n",
    "f1_train_nb = f1_score(y_train, y_pred_train_nb)\n",
    "cv_scores_train_nb = cross_val_score(nb_model, X_train, y_train, cv=5, scoring='recall')\n"
   ]
  },
  {
   "cell_type": "code",
   "execution_count": 43,
   "id": "87de4b7f",
   "metadata": {},
   "outputs": [
    {
     "data": {
      "image/png": "[encoded data removed]",
      "text/plain": [
       "<Figure size 432x288 with 1 Axes>"
      ]
     },
     "metadata": {
      "needs_background": "light"
     },
     "output_type": "display_data"
    },
    {
     "name": "stdout",
     "output_type": "stream",
     "text": [
      "Train Set Scores - Naive Bayes\n",
      "        Model  Accuracy  Precision  Recall  F1 Score  Cross_val_score\n",
      "0  NaiveBayes      0.52       0.51    0.95      0.66             0.94\n"
     ]
    }
   ],
   "source": [
    "# Store the results for the train set\n",
    "scores_train_nb = [{\n",
    "    'Model': 'NaiveBayes',\n",
    "    'Accuracy': round(accuracy_train_nb, 2),\n",
    "    'Precision': round(precision_train_nb, 2),\n",
    "    'Recall': round(recall_train_nb, 2),\n",
    "    'F1 Score': round(f1_train_nb, 2),\n",
    "    'Cross_val_score': round(cv_scores_train_nb.mean(), 2)\n",
    "}]\n",
    "\n",
    "# Confusion matrix for the train set\n",
    "cm_train_nb = confusion_matrix(y_train, y_pred_train_nb)\n",
    "conf_matrix_train_nb = pd.DataFrame(cm_train_nb, columns=['Non_Defaulters:0', 'Defaulters:1'], index=['Non_Defaulters:0', 'Defaulters:1'])\n",
    "sns.heatmap(conf_matrix_train_nb, annot=True, fmt='d', cmap='magma', cbar=False, linewidth=0.2)\n",
    "plt.title('Confusion Matrix - Train Set (Naive Bayes)')\n",
    "plt.show()\n",
    "\n",
    "# Convert the results to DataFrames\n",
    "scores_train_nb_df = pd.DataFrame(scores_train_nb)\n",
    "\n",
    "print(\"Train Set Scores - Naive Bayes\")\n",
    "print(scores_train_nb_df)\n"
   ]
  },
  {
   "cell_type": "code",
   "execution_count": 44,
   "id": "7e3d99b5",
   "metadata": {},
   "outputs": [
    {
     "data": {
      "image/png": "[encoded data removed]",
      "text/plain": [
       "<Figure size 432x288 with 1 Axes>"
      ]
     },
     "metadata": {
      "needs_background": "light"
     },
     "output_type": "display_data"
    },
    {
     "name": "stdout",
     "output_type": "stream",
     "text": [
      "Test Set Scores - Naive Bayes\n",
      "        Model  Accuracy  Precision  Recall  F1 Score  Cross_val_score\n",
      "0  NaiveBayes      0.53       0.52    0.95      0.67             0.94\n"
     ]
    }
   ],
   "source": [
    "# Store the results for the test set\n",
    "scores_test_nb = [{\n",
    "    'Model': 'NaiveBayes',\n",
    "    'Accuracy': round(accuracy_test_nb, 2),\n",
    "    'Precision': round(precision_test_nb, 2),\n",
    "    'Recall': round(recall_test_nb, 2),\n",
    "    'F1 Score': round(f1_test_nb, 2),\n",
    "    'Cross_val_score': round(cv_scores_test_nb.mean(), 2)\n",
    "}]\n",
    "\n",
    "# Confusion matrix for the test set\n",
    "cm_test_nb = confusion_matrix(y_test, y_pred_test_nb)\n",
    "conf_matrix_test_nb = pd.DataFrame(cm_test_nb, columns=['Non_Defaulters:0', 'Defaulters:1'], index=['Non_Defaulters:0', 'Defaulters:1'])\n",
    "sns.heatmap(conf_matrix_test_nb, annot=True, fmt='d', cmap='magma', cbar=False, linewidth=0.2)\n",
    "plt.title('Confusion Matrix - Test Set (Naive Bayes)')\n",
    "plt.show()\n",
    "\n",
    "scores_test_nb_df = pd.DataFrame(scores_test_nb)\n",
    "\n",
    "print(\"Test Set Scores - Naive Bayes\")\n",
    "print(scores_test_nb_df)"
   ]
  },
  {
   "cell_type": "code",
   "execution_count": null,
   "id": "d7c70ebb",
   "metadata": {},
   "outputs": [],
   "source": []
  },
  {
   "cell_type": "markdown",
   "id": "96a2972d",
   "metadata": {},
   "source": [
    "# <font color = 'purple'>KNN Classifier"
   ]
  },
  {
   "cell_type": "code",
   "execution_count": 45,
   "id": "c9068354",
   "metadata": {},
   "outputs": [],
   "source": [
    "# Fit the KNN model\n",
    "knn_model = KNeighborsClassifier().fit(X_train, y_train)\n",
    "\n",
    "# Predictions for the test set\n",
    "y_pred_test_knn = knn_model.predict(X_test)\n",
    "\n",
    "# Predictions for the train set\n",
    "y_pred_train_knn = knn_model.predict(X_train)\n",
    "\n",
    "# Calculate scores for the test set\n",
    "accuracy_test_knn = accuracy_score(y_test, y_pred_test_knn)\n",
    "precision_test_knn = precision_score(y_test, y_pred_test_knn)\n",
    "recall_test_knn = recall_score(y_test, y_pred_test_knn)\n",
    "f1_test_knn = f1_score(y_test, y_pred_test_knn)\n",
    "cv_scores_test_knn = cross_val_score(knn_model, X_train, y_train, cv=5, scoring='recall')\n",
    "\n",
    "# Calculate scores for the train set\n",
    "accuracy_train_knn = accuracy_score(y_train, y_pred_train_knn)\n",
    "precision_train_knn = precision_score(y_train, y_pred_train_knn)\n",
    "recall_train_knn = recall_score(y_train, y_pred_train_knn)\n",
    "f1_train_knn = f1_score(y_train, y_pred_train_knn)\n",
    "cv_scores_train_knn = cross_val_score(knn_model, X_train, y_train, cv=5, scoring='recall')\n"
   ]
  },
  {
   "cell_type": "code",
   "execution_count": 46,
   "id": "ce1537e8",
   "metadata": {},
   "outputs": [
    {
     "data": {
      "image/png": "[encoded data removed]",
      "text/plain": [
       "<Figure size 432x288 with 1 Axes>"
      ]
     },
     "metadata": {
      "needs_background": "light"
     },
     "output_type": "display_data"
    },
    {
     "name": "stdout",
     "output_type": "stream",
     "text": [
      "Train Set Scores - KNN\n",
      "                  Model  Accuracy  Precision  Recall  F1 Score  \\\n",
      "0  KNeighborsClassifier      0.95       0.91     1.0      0.95   \n",
      "\n",
      "   Cross_val_score  \n",
      "0             0.99  \n"
     ]
    }
   ],
   "source": [
    "# Store the results for the train set\n",
    "scores_train_knn = [{\n",
    "    'Model': 'KNeighborsClassifier',\n",
    "    'Accuracy': round(accuracy_train_knn, 2),\n",
    "    'Precision': round(precision_train_knn, 2),\n",
    "    'Recall': round(recall_train_knn, 2),\n",
    "    'F1 Score': round(f1_train_knn, 2),\n",
    "    'Cross_val_score': round(cv_scores_train_knn.mean(), 2)\n",
    "}]\n",
    "\n",
    "# Confusion matrix for the train set\n",
    "cm_train_knn = confusion_matrix(y_train, y_pred_train_knn)\n",
    "conf_matrix_train_knn = pd.DataFrame(cm_train_knn, columns=['Non_Defaulters:0', 'Defaulters:1'], index=['Non_Defaulters:0', 'Defaulters:1'])\n",
    "sns.heatmap(conf_matrix_train_knn, annot=True, fmt='d', cmap='magma', cbar=False, linewidth=0.2)\n",
    "plt.title('Confusion Matrix - Train Set (KNN)')\n",
    "plt.show()\n",
    "\n",
    "# Convert the results to DataFrames\n",
    "scores_train_knn_df = pd.DataFrame(scores_train_knn)\n",
    "\n",
    "print(\"Train Set Scores - KNN\")\n",
    "print(scores_train_knn_df)\n"
   ]
  },
  {
   "cell_type": "code",
   "execution_count": 47,
   "id": "1e322ce2",
   "metadata": {},
   "outputs": [
    {
     "data": {
      "image/png": "[encoded data removed]",
      "text/plain": [
       "<Figure size 432x288 with 1 Axes>"
      ]
     },
     "metadata": {
      "needs_background": "light"
     },
     "output_type": "display_data"
    },
    {
     "name": "stdout",
     "output_type": "stream",
     "text": [
      "Test Set Scores - KNN\n",
      "                  Model  Accuracy  Precision  Recall  F1 Score  \\\n",
      "0  KNeighborsClassifier      0.92       0.88    0.99      0.93   \n",
      "\n",
      "   Cross_val_score  \n",
      "0             0.99  \n"
     ]
    }
   ],
   "source": [
    "# Store the results for the test set\n",
    "scores_test_knn = [{\n",
    "    'Model': 'KNeighborsClassifier',\n",
    "    'Accuracy': round(accuracy_test_knn, 2),\n",
    "    'Precision': round(precision_test_knn, 2),\n",
    "    'Recall': round(recall_test_knn, 2),\n",
    "    'F1 Score': round(f1_test_knn, 2),\n",
    "    'Cross_val_score': round(cv_scores_test_knn.mean(), 2)\n",
    "}]\n",
    "\n",
    "# Confusion matrix for the test set\n",
    "cm_test_knn = confusion_matrix(y_test, y_pred_test_knn)\n",
    "conf_matrix_test_knn = pd.DataFrame(cm_test_knn, columns=['Non_Defaulters:0', 'Defaulters:1'], index=['Non_Defaulters:0', 'Defaulters:1'])\n",
    "sns.heatmap(conf_matrix_test_knn, annot=True, fmt='d', cmap='magma', cbar=False, linewidth=0.2)\n",
    "plt.title('Confusion Matrix - Test Set (KNN)')\n",
    "plt.show()\n",
    "\n",
    "scores_test_knn_df = pd.DataFrame(scores_test_knn)\n",
    "\n",
    "print(\"Test Set Scores - KNN\")\n",
    "print(scores_test_knn_df)\n"
   ]
  },
  {
   "cell_type": "code",
   "execution_count": null,
   "id": "520b13a1",
   "metadata": {},
   "outputs": [],
   "source": []
  },
  {
   "cell_type": "markdown",
   "id": "8ad6c93a",
   "metadata": {},
   "source": [
    "# <font color = 'purple'>Decision Tree Classifier"
   ]
  },
  {
   "cell_type": "code",
   "execution_count": 48,
   "id": "0047e6db",
   "metadata": {},
   "outputs": [],
   "source": [
    "# Fit the Decision Tree model\n",
    "dt_model = DecisionTreeClassifier().fit(X_train, y_train)\n",
    "\n",
    "# Predictions for the test set\n",
    "y_pred_test_dt = dt_model.predict(X_test)\n",
    "\n",
    "# Predictions for the train set\n",
    "y_pred_train_dt = dt_model.predict(X_train)\n",
    "\n",
    "# Calculate scores for the test set\n",
    "accuracy_test_dt = accuracy_score(y_test, y_pred_test_dt)\n",
    "precision_test_dt = precision_score(y_test, y_pred_test_dt)\n",
    "recall_test_dt = recall_score(y_test, y_pred_test_dt)\n",
    "f1_test_dt = f1_score(y_test, y_pred_test_dt)\n",
    "cv_scores_test_dt = cross_val_score(dt_model, X_train, y_train, cv=5, scoring='recall')\n",
    "\n",
    "# Calculate scores for the train set\n",
    "accuracy_train_dt = accuracy_score(y_train, y_pred_train_dt)\n",
    "precision_train_dt = precision_score(y_train, y_pred_train_dt)\n",
    "recall_train_dt = recall_score(y_train, y_pred_train_dt)\n",
    "f1_train_dt = f1_score(y_train, y_pred_train_dt)\n",
    "cv_scores_train_dt = cross_val_score(dt_model, X_train, y_train, cv=5, scoring='recall')"
   ]
  },
  {
   "cell_type": "code",
   "execution_count": 49,
   "id": "70eec7bf",
   "metadata": {},
   "outputs": [
    {
     "data": {
      "image/png": "[encoded data removed]",
      "text/plain": [
       "<Figure size 432x288 with 1 Axes>"
      ]
     },
     "metadata": {
      "needs_background": "light"
     },
     "output_type": "display_data"
    },
    {
     "name": "stdout",
     "output_type": "stream",
     "text": [
      "Train Set Scores - Decision Tree\n",
      "                    Model  Accuracy  Precision  Recall  F1 Score  \\\n",
      "0  DecisionTreeClassifier       1.0        1.0     1.0       1.0   \n",
      "\n",
      "   Cross_val_score  \n",
      "0             0.96  \n"
     ]
    }
   ],
   "source": [
    "# Store the results for the train set\n",
    "scores_train_dt = [{\n",
    "    'Model': 'DecisionTreeClassifier',\n",
    "    'Accuracy': round(accuracy_train_dt, 2),\n",
    "    'Precision': round(precision_train_dt, 2),\n",
    "    'Recall': round(recall_train_dt, 2),\n",
    "    'F1 Score': round(f1_train_dt, 2),\n",
    "    'Cross_val_score': round(cv_scores_train_dt.mean(), 2)\n",
    "}]\n",
    "\n",
    "# Confusion matrix for the train set\n",
    "cm_train_dt = confusion_matrix(y_train, y_pred_train_dt)\n",
    "conf_matrix_train_dt = pd.DataFrame(cm_train_dt, columns=['Non_Defaulters:0', 'Defaulters:1'], index=['Non_Defaulters:0', 'Defaulters:1'])\n",
    "sns.heatmap(conf_matrix_train_dt, annot=True, fmt='d', cmap='magma', cbar=False, linewidth=0.2)\n",
    "plt.title('Confusion Matrix - Train Set (Decision Tree)')\n",
    "plt.show()\n",
    "\n",
    "# Convert the results to DataFrames\n",
    "scores_train_dt_df = pd.DataFrame(scores_train_dt)\n",
    "\n",
    "print(\"Train Set Scores - Decision Tree\")\n",
    "print(scores_train_dt_df)\n"
   ]
  },
  {
   "cell_type": "code",
   "execution_count": 50,
   "id": "e9d86ba3",
   "metadata": {},
   "outputs": [
    {
     "data": {
      "image/png": "[encoded data removed]",
      "text/plain": [
       "<Figure size 432x288 with 1 Axes>"
      ]
     },
     "metadata": {
      "needs_background": "light"
     },
     "output_type": "display_data"
    },
    {
     "name": "stdout",
     "output_type": "stream",
     "text": [
      "Test Set Scores - Decision Tree\n",
      "                    Model  Accuracy  Precision  Recall  F1 Score  \\\n",
      "0  DecisionTreeClassifier      0.96       0.95    0.97      0.96   \n",
      "\n",
      "   Cross_val_score  \n",
      "0             0.96  \n"
     ]
    }
   ],
   "source": [
    "# Store the results for the test set\n",
    "scores_test_dt = [{\n",
    "    'Model': 'DecisionTreeClassifier',\n",
    "    'Accuracy': round(accuracy_test_dt, 2),\n",
    "    'Precision': round(precision_test_dt, 2),\n",
    "    'Recall': round(recall_test_dt, 2),\n",
    "    'F1 Score': round(f1_test_dt, 2),\n",
    "    'Cross_val_score': round(cv_scores_test_dt.mean(), 2)\n",
    "}]\n",
    "\n",
    "# Confusion matrix for the test set\n",
    "cm_test_dt = confusion_matrix(y_test, y_pred_test_dt)\n",
    "conf_matrix_test_dt = pd.DataFrame(cm_test_dt, columns=['Non_Defaulters:0', 'Defaulters:1'], index=['Non_Defaulters:0', 'Defaulters:1'])\n",
    "sns.heatmap(conf_matrix_test_dt, annot=True, fmt='d', cmap='magma', cbar=False, linewidth=0.2)\n",
    "plt.title('Confusion Matrix - Test Set (Decision Tree)')\n",
    "plt.show()\n",
    "\n",
    "scores_test_dt_df = pd.DataFrame(scores_test_dt)\n",
    "\n",
    "print(\"Test Set Scores - Decision Tree\")\n",
    "print(scores_test_dt_df)\n"
   ]
  },
  {
   "cell_type": "code",
   "execution_count": null,
   "id": "fb819178",
   "metadata": {},
   "outputs": [],
   "source": []
  },
  {
   "cell_type": "markdown",
   "id": "6a5e2d1f",
   "metadata": {},
   "source": [
    "# <font color = 'purple'>Random Forest"
   ]
  },
  {
   "cell_type": "code",
   "execution_count": 51,
   "id": "4c63bc19",
   "metadata": {},
   "outputs": [],
   "source": [
    "# Fit the Random Forest model\n",
    "rf_model = RandomForestClassifier().fit(X_train, y_train)\n",
    "\n",
    "# Predictions for the test set\n",
    "y_pred_test_rf = rf_model.predict(X_test)\n",
    "\n",
    "# Predictions for the train set\n",
    "y_pred_train_rf = rf_model.predict(X_train)\n",
    "\n",
    "# Calculate scores for the test set\n",
    "accuracy_test_rf = accuracy_score(y_test, y_pred_test_rf)\n",
    "precision_test_rf = precision_score(y_test, y_pred_test_rf)\n",
    "recall_test_rf = recall_score(y_test, y_pred_test_rf)\n",
    "f1_test_rf = f1_score(y_test, y_pred_test_rf)\n",
    "cv_scores_test_rf = cross_val_score(rf_model, X_train, y_train, cv=5, scoring='recall')\n",
    "\n",
    "# Calculate scores for the train set\n",
    "accuracy_train_rf = accuracy_score(y_train, y_pred_train_rf)\n",
    "precision_train_rf = precision_score(y_train, y_pred_train_rf)\n",
    "recall_train_rf = recall_score(y_train, y_pred_train_rf)\n",
    "f1_train_rf = f1_score(y_train, y_pred_train_rf)\n",
    "cv_scores_train_rf = cross_val_score(rf_model, X_train, y_train, cv=5, scoring='recall')"
   ]
  },
  {
   "cell_type": "code",
   "execution_count": 52,
   "id": "22406284",
   "metadata": {},
   "outputs": [
    {
     "data": {
      "image/png": "[encoded data removed]",
      "text/plain": [
       "<Figure size 432x288 with 1 Axes>"
      ]
     },
     "metadata": {
      "needs_background": "light"
     },
     "output_type": "display_data"
    },
    {
     "name": "stdout",
     "output_type": "stream",
     "text": [
      "Train Set Scores - Random Forest\n",
      "                    Model  Accuracy  Precision  Recall  F1 Score  \\\n",
      "0  RandomForestClassifier       1.0        1.0     1.0       1.0   \n",
      "\n",
      "   Cross_val_score  \n",
      "0             0.98  \n"
     ]
    }
   ],
   "source": [
    "# Store the results for the train set\n",
    "scores_train_rf = [{\n",
    "    'Model': 'RandomForestClassifier',\n",
    "    'Accuracy': round(accuracy_train_rf, 2),\n",
    "    'Precision': round(precision_train_rf, 2),\n",
    "    'Recall': round(recall_train_rf, 2),\n",
    "    'F1 Score': round(f1_train_rf, 2),\n",
    "    'Cross_val_score': round(cv_scores_train_rf.mean(), 2)\n",
    "}]\n",
    "\n",
    "# Confusion matrix for the train set\n",
    "cm_train_rf = confusion_matrix(y_train, y_pred_train_rf)\n",
    "conf_matrix_train_rf = pd.DataFrame(cm_train_rf, columns=['Non_Defaulters:0', 'Defaulters:1'], index=['Non_Defaulters:0', 'Defaulters:1'])\n",
    "sns.heatmap(conf_matrix_train_rf, annot=True, fmt='d', cmap='magma', cbar=False, linewidth=0.2)\n",
    "plt.title('Confusion Matrix - Train Set (Random Forest)')\n",
    "plt.show()\n",
    "\n",
    "# Convert the results to DataFrames\n",
    "scores_train_rf_df = pd.DataFrame(scores_train_rf)\n",
    "\n",
    "print(\"Train Set Scores - Random Forest\")\n",
    "print(scores_train_rf_df)"
   ]
  },
  {
   "cell_type": "code",
   "execution_count": 53,
   "id": "edc486cd",
   "metadata": {},
   "outputs": [
    {
     "data": {
      "image/png": "[encoded data removed]",
      "text/plain": [
       "<Figure size 432x288 with 1 Axes>"
      ]
     },
     "metadata": {
      "needs_background": "light"
     },
     "output_type": "display_data"
    },
    {
     "name": "stdout",
     "output_type": "stream",
     "text": [
      "Test Set Scores - Random Forest\n",
      "                    Model  Accuracy  Precision  Recall  F1 Score  \\\n",
      "0  RandomForestClassifier      0.98       0.98    0.98      0.98   \n",
      "\n",
      "   Cross_val_score  \n",
      "0             0.98  \n"
     ]
    }
   ],
   "source": [
    "# Store the results for the test set\n",
    "scores_test_rf = [{\n",
    "    'Model': 'RandomForestClassifier',\n",
    "    'Accuracy': round(accuracy_test_rf, 2),\n",
    "    'Precision': round(precision_test_rf, 2),\n",
    "    'Recall': round(recall_test_rf, 2),\n",
    "    'F1 Score': round(f1_test_rf, 2),\n",
    "    'Cross_val_score': round(cv_scores_test_rf.mean(), 2)\n",
    "}]\n",
    "\n",
    "# Confusion matrix for the test set\n",
    "cm_test_rf = confusion_matrix(y_test, y_pred_test_rf)\n",
    "conf_matrix_test_rf = pd.DataFrame(cm_test_rf, columns=['Non_Defaulters:0', 'Defaulters:1'], index=['Non_Defaulters:0', 'Defaulters:1'])\n",
    "sns.heatmap(conf_matrix_test_rf, annot=True, fmt='d', cmap='magma', cbar=False, linewidth=0.2)\n",
    "plt.title('Confusion Matrix - Test Set (Random Forest)')\n",
    "plt.show()\n",
    "\n",
    "scores_test_rf_df = pd.DataFrame(scores_test_rf)\n",
    "\n",
    "print(\"Test Set Scores - Random Forest\")\n",
    "print(scores_test_rf_df)\n"
   ]
  },
  {
   "cell_type": "code",
   "execution_count": null,
   "id": "72542aab",
   "metadata": {},
   "outputs": [],
   "source": []
  },
  {
   "cell_type": "markdown",
   "id": "3a612b54",
   "metadata": {},
   "source": [
    "# <font color = 'purple'>Ada Boost"
   ]
  },
  {
   "cell_type": "code",
   "execution_count": 54,
   "id": "882a7794",
   "metadata": {},
   "outputs": [],
   "source": [
    "# Fit the AdaBoost model\n",
    "ada_model = AdaBoostClassifier().fit(X_train, y_train)\n",
    "\n",
    "# Predictions for the test set\n",
    "y_pred_test_ada = ada_model.predict(X_test)\n",
    "\n",
    "# Predictions for the train set\n",
    "y_pred_train_ada = ada_model.predict(X_train)\n",
    "\n",
    "# Calculate scores for the test set\n",
    "accuracy_test_ada = accuracy_score(y_test, y_pred_test_ada)\n",
    "precision_test_ada = precision_score(y_test, y_pred_test_ada)\n",
    "recall_test_ada = recall_score(y_test, y_pred_test_ada)\n",
    "f1_test_ada = f1_score(y_test, y_pred_test_ada)\n",
    "cv_scores_test_ada = cross_val_score(ada_model, X_train, y_train, cv=5, scoring='recall')\n",
    "\n",
    "# Calculate scores for the train set\n",
    "accuracy_train_ada = accuracy_score(y_train, y_pred_train_ada)\n",
    "precision_train_ada = precision_score(y_train, y_pred_train_ada)\n",
    "recall_train_ada = recall_score(y_train, y_pred_train_ada)\n",
    "f1_train_ada = f1_score(y_train, y_pred_train_ada)\n",
    "cv_scores_train_ada = cross_val_score(ada_model, X_train, y_train, cv=5, scoring='recall')\n"
   ]
  },
  {
   "cell_type": "code",
   "execution_count": 55,
   "id": "736b5904",
   "metadata": {},
   "outputs": [
    {
     "data": {
      "image/png": "[encoded data removed]",
      "text/plain": [
       "<Figure size 432x288 with 1 Axes>"
      ]
     },
     "metadata": {
      "needs_background": "light"
     },
     "output_type": "display_data"
    },
    {
     "name": "stdout",
     "output_type": "stream",
     "text": [
      "Train Set Scores - AdaBoost\n",
      "                Model  Accuracy  Precision  Recall  F1 Score  Cross_val_score\n",
      "0  AdaBoostClassifier      0.85       0.85    0.85      0.85             0.84\n"
     ]
    }
   ],
   "source": [
    "# Store the results for the train set\n",
    "scores_train_ada = [{\n",
    "    'Model': 'AdaBoostClassifier',\n",
    "    'Accuracy': round(accuracy_train_ada, 2),\n",
    "    'Precision': round(precision_train_ada, 2),\n",
    "    'Recall': round(recall_train_ada, 2),\n",
    "    'F1 Score': round(f1_train_ada, 2),\n",
    "    'Cross_val_score': round(cv_scores_train_ada.mean(), 2)\n",
    "}]\n",
    "\n",
    "# Confusion matrix for the train set\n",
    "cm_train_ada = confusion_matrix(y_train, y_pred_train_ada)\n",
    "conf_matrix_train_ada = pd.DataFrame(cm_train_ada, columns=['Non_Defaulters:0', 'Defaulters:1'], index=['Non_Defaulters:0', 'Defaulters:1'])\n",
    "sns.heatmap(conf_matrix_train_ada, annot=True, fmt='d', cmap='magma', cbar=False, linewidth=0.2)\n",
    "plt.title('Confusion Matrix - Train Set (AdaBoost)')\n",
    "plt.show()\n",
    "\n",
    "# Convert the results to DataFrames\n",
    "scores_train_ada_df = pd.DataFrame(scores_train_ada)\n",
    "\n",
    "print(\"Train Set Scores - AdaBoost\")\n",
    "print(scores_train_ada_df)\n"
   ]
  },
  {
   "cell_type": "code",
   "execution_count": 56,
   "id": "fd475ece",
   "metadata": {},
   "outputs": [
    {
     "data": {
      "image/png": "[encoded data removed]",
      "text/plain": [
       "<Figure size 432x288 with 1 Axes>"
      ]
     },
     "metadata": {
      "needs_background": "light"
     },
     "output_type": "display_data"
    },
    {
     "name": "stdout",
     "output_type": "stream",
     "text": [
      "Test Set Scores - AdaBoost\n",
      "                Model  Accuracy  Precision  Recall  F1 Score  Cross_val_score\n",
      "0  AdaBoostClassifier      0.84       0.85    0.84      0.84             0.84\n"
     ]
    }
   ],
   "source": [
    "# Store the results for the test set\n",
    "scores_test_ada = [{\n",
    "    'Model': 'AdaBoostClassifier',\n",
    "    'Accuracy': round(accuracy_test_ada, 2),\n",
    "    'Precision': round(precision_test_ada, 2),\n",
    "    'Recall': round(recall_test_ada, 2),\n",
    "    'F1 Score': round(f1_test_ada, 2),\n",
    "    'Cross_val_score': round(cv_scores_test_ada.mean(), 2)\n",
    "}]\n",
    "\n",
    "# Confusion matrix for the test set\n",
    "cm_test_ada = confusion_matrix(y_test, y_pred_test_ada)\n",
    "conf_matrix_test_ada = pd.DataFrame(cm_test_ada, columns=['Non_Defaulters:0', 'Defaulters:1'], index=['Non_Defaulters:0', 'Defaulters:1'])\n",
    "sns.heatmap(conf_matrix_test_ada, annot=True, fmt='d', cmap='magma', cbar=False, linewidth=0.2)\n",
    "plt.title('Confusion Matrix - Test Set (AdaBoost)')\n",
    "plt.show()\n",
    "\n",
    "scores_test_ada_df = pd.DataFrame(scores_test_ada)\n",
    "\n",
    "print(\"Test Set Scores - AdaBoost\")\n",
    "print(scores_test_ada_df)\n"
   ]
  },
  {
   "cell_type": "code",
   "execution_count": null,
   "id": "74d67030",
   "metadata": {},
   "outputs": [],
   "source": []
  },
  {
   "cell_type": "markdown",
   "id": "fd33e7c6",
   "metadata": {},
   "source": [
    "# <font color = 'purple'>Gradient Boost"
   ]
  },
  {
   "cell_type": "code",
   "execution_count": 57,
   "id": "ddc093bc",
   "metadata": {},
   "outputs": [],
   "source": [
    "# Fit the Gradient Boosting model\n",
    "gbm_model = GradientBoostingClassifier().fit(X_train, y_train)\n",
    "\n",
    "# Predictions for the test set\n",
    "y_pred_test_gbm = gbm_model.predict(X_test)\n",
    "\n",
    "# Predictions for the train set\n",
    "y_pred_train_gbm = gbm_model.predict(X_train)\n",
    "\n",
    "# Calculate scores for the test set\n",
    "accuracy_test_gbm = accuracy_score(y_test, y_pred_test_gbm)\n",
    "precision_test_gbm = precision_score(y_test, y_pred_test_gbm)\n",
    "recall_test_gbm = recall_score(y_test, y_pred_test_gbm)\n",
    "f1_test_gbm = f1_score(y_test, y_pred_test_gbm)\n",
    "cv_scores_test_gbm = cross_val_score(gbm_model, X_train, y_train, cv=5, scoring='recall')\n",
    "\n",
    "# Calculate scores for the train set\n",
    "accuracy_train_gbm = accuracy_score(y_train, y_pred_train_gbm)\n",
    "precision_train_gbm = precision_score(y_train, y_pred_train_gbm)\n",
    "recall_train_gbm = recall_score(y_train, y_pred_train_gbm)\n",
    "f1_train_gbm = f1_score(y_train, y_pred_train_gbm)\n",
    "cv_scores_train_gbm = cross_val_score(gbm_model, X_train, y_train, cv=5, scoring='recall')"
   ]
  },
  {
   "cell_type": "code",
   "execution_count": 58,
   "id": "a322a820",
   "metadata": {},
   "outputs": [
    {
     "data": {
      "image/png": "[encoded data removed]",
      "text/plain": [
       "<Figure size 432x288 with 1 Axes>"
      ]
     },
     "metadata": {
      "needs_background": "light"
     },
     "output_type": "display_data"
    },
    {
     "name": "stdout",
     "output_type": "stream",
     "text": [
      "Train Set Scores - Gradient Boosting\n",
      "                        Model  Accuracy  Precision  Recall  F1 Score  \\\n",
      "0  GradientBoostingClassifier       0.9       0.92    0.88       0.9   \n",
      "\n",
      "   Cross_val_score  \n",
      "0             0.87  \n"
     ]
    }
   ],
   "source": [
    "# Store the results for the train set\n",
    "scores_train_gbm = [{\n",
    "    'Model': 'GradientBoostingClassifier',\n",
    "    'Accuracy': round(accuracy_train_gbm, 2),\n",
    "    'Precision': round(precision_train_gbm, 2),\n",
    "    'Recall': round(recall_train_gbm, 2),\n",
    "    'F1 Score': round(f1_train_gbm, 2),\n",
    "    'Cross_val_score': round(cv_scores_train_gbm.mean(), 2)\n",
    "}]\n",
    "\n",
    "# Confusion matrix for the train set\n",
    "cm_train_gbm = confusion_matrix(y_train, y_pred_train_gbm)\n",
    "conf_matrix_train_gbm = pd.DataFrame(cm_train_gbm, columns=['Non_Defaulters:0', 'Defaulters:1'], index=['Non_Defaulters:0', 'Defaulters:1'])\n",
    "sns.heatmap(conf_matrix_train_gbm, annot=True, fmt='d', cmap='magma', cbar=False, linewidth=0.2)\n",
    "plt.title('Confusion Matrix - Train Set (Gradient Boosting)')\n",
    "plt.show()\n",
    "\n",
    "# Convert the results to DataFrames\n",
    "scores_train_gbm_df = pd.DataFrame(scores_train_gbm)\n",
    "\n",
    "print(\"Train Set Scores - Gradient Boosting\")\n",
    "print(scores_train_gbm_df)"
   ]
  },
  {
   "cell_type": "code",
   "execution_count": 59,
   "id": "16edb48f",
   "metadata": {},
   "outputs": [
    {
     "data": {
      "image/png": "[encoded data removed]",
      "text/plain": [
       "<Figure size 432x288 with 1 Axes>"
      ]
     },
     "metadata": {
      "needs_background": "light"
     },
     "output_type": "display_data"
    },
    {
     "name": "stdout",
     "output_type": "stream",
     "text": [
      "Test Set Scores - Gradient Boosting\n",
      "                        Model  Accuracy  Precision  Recall  F1 Score  \\\n",
      "0  GradientBoostingClassifier       0.9       0.92    0.87      0.89   \n",
      "\n",
      "   Cross_val_score  \n",
      "0             0.87  \n"
     ]
    }
   ],
   "source": [
    "# Store the results for the test set\n",
    "scores_test_gbm = [{\n",
    "    'Model': 'GradientBoostingClassifier',\n",
    "    'Accuracy': round(accuracy_test_gbm, 2),\n",
    "    'Precision': round(precision_test_gbm, 2),\n",
    "    'Recall': round(recall_test_gbm, 2),\n",
    "    'F1 Score': round(f1_test_gbm, 2),\n",
    "    'Cross_val_score': round(cv_scores_test_gbm.mean(), 2)\n",
    "}]\n",
    "\n",
    "# Confusion matrix for the test set\n",
    "cm_test_gbm = confusion_matrix(y_test, y_pred_test_gbm)\n",
    "conf_matrix_test_gbm = pd.DataFrame(cm_test_gbm, columns=['Non_Defaulters:0', 'Defaulters:1'], index=['Non_Defaulters:0', 'Defaulters:1'])\n",
    "sns.heatmap(conf_matrix_test_gbm, annot=True, fmt='d', cmap='magma', cbar=False, linewidth=0.2)\n",
    "plt.title('Confusion Matrix - Test Set (Gradient Boosting)')\n",
    "plt.show()\n",
    "\n",
    "scores_test_gbm_df = pd.DataFrame(scores_test_gbm)\n",
    "\n",
    "print(\"Test Set Scores - Gradient Boosting\")\n",
    "print(scores_test_gbm_df)\n"
   ]
  },
  {
   "cell_type": "code",
   "execution_count": null,
   "id": "f85411b5",
   "metadata": {},
   "outputs": [],
   "source": []
  },
  {
   "cell_type": "markdown",
   "id": "7fe350af",
   "metadata": {},
   "source": [
    "# <font color = 'purple'>XgBoost"
   ]
  },
  {
   "cell_type": "code",
   "execution_count": 60,
   "id": "b4c99a5e",
   "metadata": {},
   "outputs": [],
   "source": [
    "# Fit the XGBoost model\n",
    "xgb_model = XGBClassifier().fit(X_train, y_train)\n",
    "\n",
    "# Predictions for the test set\n",
    "y_pred_test_xgb = xgb_model.predict(X_test)\n",
    "\n",
    "# Predictions for the train set\n",
    "y_pred_train_xgb = xgb_model.predict(X_train)\n",
    "\n",
    "# Calculate scores for the test set\n",
    "accuracy_test_xgb = accuracy_score(y_test, y_pred_test_xgb)\n",
    "precision_test_xgb = precision_score(y_test, y_pred_test_xgb)\n",
    "recall_test_xgb = recall_score(y_test, y_pred_test_xgb)\n",
    "f1_test_xgb = f1_score(y_test, y_pred_test_xgb)\n",
    "cv_scores_test_xgb = cross_val_score(xgb_model, X_train, y_train, cv=5, scoring='recall')\n",
    "\n",
    "# Calculate scores for the train set\n",
    "accuracy_train_xgb = accuracy_score(y_train, y_pred_train_xgb)\n",
    "precision_train_xgb = precision_score(y_train, y_pred_train_xgb)\n",
    "recall_train_xgb = recall_score(y_train, y_pred_train_xgb)\n",
    "f1_train_xgb = f1_score(y_train, y_pred_train_xgb)\n",
    "cv_scores_train_xgb = cross_val_score(xgb_model, X_train, y_train, cv=5, scoring='recall')\n"
   ]
  },
  {
   "cell_type": "code",
   "execution_count": 61,
   "id": "7a06e9bf",
   "metadata": {},
   "outputs": [
    {
     "data": {
      "image/png": "[encoded data removed]",
      "text/plain": [
       "<Figure size 432x288 with 1 Axes>"
      ]
     },
     "metadata": {
      "needs_background": "light"
     },
     "output_type": "display_data"
    },
    {
     "name": "stdout",
     "output_type": "stream",
     "text": [
      "Train Set Scores - XGBoost\n",
      "           Model  Accuracy  Precision  Recall  F1 Score  Cross_val_score\n",
      "0  XGBClassifier      0.99        1.0    0.98      0.99             0.97\n"
     ]
    }
   ],
   "source": [
    "# Store the results for the train set\n",
    "scores_train_xgb = [{\n",
    "    'Model': 'XGBClassifier',\n",
    "    'Accuracy': round(accuracy_train_xgb, 2),\n",
    "    'Precision': round(precision_train_xgb, 2),\n",
    "    'Recall': round(recall_train_xgb, 2),\n",
    "    'F1 Score': round(f1_train_xgb, 2),\n",
    "    'Cross_val_score': round(cv_scores_train_xgb.mean(), 2)\n",
    "}]\n",
    "\n",
    "# Confusion matrix for the train set\n",
    "cm_train_xgb = confusion_matrix(y_train, y_pred_train_xgb)\n",
    "conf_matrix_train_xgb = pd.DataFrame(cm_train_xgb, columns=['Non_Defaulters:0', 'Defaulters:1'], index=['Non_Defaulters:0', 'Defaulters:1'])\n",
    "sns.heatmap(conf_matrix_train_xgb, annot=True, fmt='d', cmap='magma', cbar=False, linewidth=0.2)\n",
    "plt.title('Confusion Matrix - Train Set (XGBoost)')\n",
    "plt.show()\n",
    "\n",
    "# Convert the results to DataFrames\n",
    "scores_train_xgb_df = pd.DataFrame(scores_train_xgb)\n",
    "\n",
    "print(\"Train Set Scores - XGBoost\")\n",
    "print(scores_train_xgb_df)"
   ]
  },
  {
   "cell_type": "code",
   "execution_count": 62,
   "id": "8fb3b3d7",
   "metadata": {},
   "outputs": [
    {
     "data": {
      "image/png": "[encoded data removed]",
      "text/plain": [
       "<Figure size 432x288 with 1 Axes>"
      ]
     },
     "metadata": {
      "needs_background": "light"
     },
     "output_type": "display_data"
    },
    {
     "name": "stdout",
     "output_type": "stream",
     "text": [
      "Test Set Scores - XGBoost\n",
      "           Model  Accuracy  Precision  Recall  F1 Score  Cross_val_score\n",
      "0  XGBClassifier      0.98       0.99    0.98      0.98             0.97\n"
     ]
    }
   ],
   "source": [
    "# Store the results for the test set\n",
    "scores_test_xgb = [{\n",
    "    'Model': 'XGBClassifier',\n",
    "    'Accuracy': round(accuracy_test_xgb, 2),\n",
    "    'Precision': round(precision_test_xgb, 2),\n",
    "    'Recall': round(recall_test_xgb, 2),\n",
    "    'F1 Score': round(f1_test_xgb, 2),\n",
    "    'Cross_val_score': round(cv_scores_test_xgb.mean(), 2)\n",
    "}]\n",
    "\n",
    "# Confusion matrix for the test set\n",
    "cm_test_xgb = confusion_matrix(y_test, y_pred_test_xgb)\n",
    "conf_matrix_test_xgb = pd.DataFrame(cm_test_xgb, columns=['Non_Defaulters:0', 'Defaulters:1'], index=['Non_Defaulters:0', 'Defaulters:1'])\n",
    "sns.heatmap(conf_matrix_test_xgb, annot=True, fmt='d', cmap='magma', cbar=False, linewidth=0.2)\n",
    "plt.title('Confusion Matrix - Test Set (XGBoost)')\n",
    "plt.show()\n",
    "\n",
    "scores_test_xgb_df = pd.DataFrame(scores_test_xgb)\n",
    "\n",
    "print(\"Test Set Scores - XGBoost\")\n",
    "print(scores_test_xgb_df)"
   ]
  },
  {
   "cell_type": "code",
   "execution_count": null,
   "id": "bb9b5ace",
   "metadata": {},
   "outputs": [],
   "source": []
  },
  {
   "cell_type": "code",
   "execution_count": 63,
   "id": "39c6db60",
   "metadata": {},
   "outputs": [
    {
     "data": {
      "text/html": [
       "<div>\n",
       "<style scoped>\n",
       "    .dataframe tbody tr th:only-of-type {\n",
       "        vertical-align: middle;\n",
       "    }\n",
       "\n",
       "    .dataframe tbody tr th {\n",
       "        vertical-align: top;\n",
       "    }\n",
       "\n",
       "    .dataframe thead th {\n",
       "        text-align: right;\n",
       "    }\n",
       "</style>\n",
       "<table border=\"1\" class=\"dataframe\">\n",
       "  <thead>\n",
       "    <tr style=\"text-align: right;\">\n",
       "      <th></th>\n",
       "      <th>Model</th>\n",
       "      <th>Accuracy</th>\n",
       "      <th>Precision</th>\n",
       "      <th>Recall</th>\n",
       "      <th>F1 Score</th>\n",
       "      <th>Cross_val_score</th>\n",
       "    </tr>\n",
       "  </thead>\n",
       "  <tbody>\n",
       "    <tr>\n",
       "      <th>0</th>\n",
       "      <td>KNeighborsClassifier</td>\n",
       "      <td>0.95</td>\n",
       "      <td>0.91</td>\n",
       "      <td>1.00</td>\n",
       "      <td>0.95</td>\n",
       "      <td>0.99</td>\n",
       "    </tr>\n",
       "    <tr>\n",
       "      <th>0</th>\n",
       "      <td>DecisionTreeClassifier</td>\n",
       "      <td>1.00</td>\n",
       "      <td>1.00</td>\n",
       "      <td>1.00</td>\n",
       "      <td>1.00</td>\n",
       "      <td>0.96</td>\n",
       "    </tr>\n",
       "    <tr>\n",
       "      <th>0</th>\n",
       "      <td>RandomForestClassifier</td>\n",
       "      <td>1.00</td>\n",
       "      <td>1.00</td>\n",
       "      <td>1.00</td>\n",
       "      <td>1.00</td>\n",
       "      <td>0.98</td>\n",
       "    </tr>\n",
       "    <tr>\n",
       "      <th>0</th>\n",
       "      <td>XGBClassifier</td>\n",
       "      <td>0.99</td>\n",
       "      <td>1.00</td>\n",
       "      <td>0.98</td>\n",
       "      <td>0.99</td>\n",
       "      <td>0.97</td>\n",
       "    </tr>\n",
       "    <tr>\n",
       "      <th>0</th>\n",
       "      <td>NaiveBayes</td>\n",
       "      <td>0.52</td>\n",
       "      <td>0.51</td>\n",
       "      <td>0.95</td>\n",
       "      <td>0.66</td>\n",
       "      <td>0.94</td>\n",
       "    </tr>\n",
       "    <tr>\n",
       "      <th>0</th>\n",
       "      <td>GradientBoostingClassifier</td>\n",
       "      <td>0.90</td>\n",
       "      <td>0.92</td>\n",
       "      <td>0.88</td>\n",
       "      <td>0.90</td>\n",
       "      <td>0.87</td>\n",
       "    </tr>\n",
       "    <tr>\n",
       "      <th>0</th>\n",
       "      <td>AdaBoostClassifier</td>\n",
       "      <td>0.85</td>\n",
       "      <td>0.85</td>\n",
       "      <td>0.85</td>\n",
       "      <td>0.85</td>\n",
       "      <td>0.84</td>\n",
       "    </tr>\n",
       "    <tr>\n",
       "      <th>0</th>\n",
       "      <td>LogisticRegression</td>\n",
       "      <td>0.70</td>\n",
       "      <td>0.75</td>\n",
       "      <td>0.60</td>\n",
       "      <td>0.67</td>\n",
       "      <td>0.60</td>\n",
       "    </tr>\n",
       "  </tbody>\n",
       "</table>\n",
       "</div>"
      ],
      "text/plain": [
       "                        Model  Accuracy  Precision  Recall  F1 Score  \\\n",
       "0        KNeighborsClassifier      0.95       0.91    1.00      0.95   \n",
       "0      DecisionTreeClassifier      1.00       1.00    1.00      1.00   \n",
       "0      RandomForestClassifier      1.00       1.00    1.00      1.00   \n",
       "0               XGBClassifier      0.99       1.00    0.98      0.99   \n",
       "0                  NaiveBayes      0.52       0.51    0.95      0.66   \n",
       "0  GradientBoostingClassifier      0.90       0.92    0.88      0.90   \n",
       "0          AdaBoostClassifier      0.85       0.85    0.85      0.85   \n",
       "0          LogisticRegression      0.70       0.75    0.60      0.67   \n",
       "\n",
       "   Cross_val_score  \n",
       "0             0.99  \n",
       "0             0.96  \n",
       "0             0.98  \n",
       "0             0.97  \n",
       "0             0.94  \n",
       "0             0.87  \n",
       "0             0.84  \n",
       "0             0.60  "
      ]
     },
     "execution_count": 63,
     "metadata": {},
     "output_type": "execute_result"
    }
   ],
   "source": [
    "train_scores = pd.concat([scores_train_df, scores_train_nb_df, scores_train_knn_df, scores_train_dt_df, scores_train_rf_df, scores_train_ada_df, scores_train_gbm_df, scores_train_xgb_df])\n",
    "train_scores.sort_values(by = 'Recall', ascending = False)"
   ]
  },
  {
   "cell_type": "code",
   "execution_count": 64,
   "id": "53470550",
   "metadata": {},
   "outputs": [
    {
     "data": {
      "text/html": [
       "<div>\n",
       "<style scoped>\n",
       "    .dataframe tbody tr th:only-of-type {\n",
       "        vertical-align: middle;\n",
       "    }\n",
       "\n",
       "    .dataframe tbody tr th {\n",
       "        vertical-align: top;\n",
       "    }\n",
       "\n",
       "    .dataframe thead th {\n",
       "        text-align: right;\n",
       "    }\n",
       "</style>\n",
       "<table border=\"1\" class=\"dataframe\">\n",
       "  <thead>\n",
       "    <tr style=\"text-align: right;\">\n",
       "      <th></th>\n",
       "      <th>Model</th>\n",
       "      <th>Accuracy</th>\n",
       "      <th>Precision</th>\n",
       "      <th>Recall</th>\n",
       "      <th>F1 Score</th>\n",
       "      <th>Cross_val_score</th>\n",
       "    </tr>\n",
       "  </thead>\n",
       "  <tbody>\n",
       "    <tr>\n",
       "      <th>0</th>\n",
       "      <td>KNeighborsClassifier</td>\n",
       "      <td>0.92</td>\n",
       "      <td>0.88</td>\n",
       "      <td>0.99</td>\n",
       "      <td>0.93</td>\n",
       "      <td>0.99</td>\n",
       "    </tr>\n",
       "    <tr>\n",
       "      <th>0</th>\n",
       "      <td>RandomForestClassifier</td>\n",
       "      <td>0.98</td>\n",
       "      <td>0.98</td>\n",
       "      <td>0.98</td>\n",
       "      <td>0.98</td>\n",
       "      <td>0.98</td>\n",
       "    </tr>\n",
       "    <tr>\n",
       "      <th>0</th>\n",
       "      <td>XGBClassifier</td>\n",
       "      <td>0.98</td>\n",
       "      <td>0.99</td>\n",
       "      <td>0.98</td>\n",
       "      <td>0.98</td>\n",
       "      <td>0.97</td>\n",
       "    </tr>\n",
       "    <tr>\n",
       "      <th>0</th>\n",
       "      <td>DecisionTreeClassifier</td>\n",
       "      <td>0.96</td>\n",
       "      <td>0.95</td>\n",
       "      <td>0.97</td>\n",
       "      <td>0.96</td>\n",
       "      <td>0.96</td>\n",
       "    </tr>\n",
       "    <tr>\n",
       "      <th>0</th>\n",
       "      <td>NaiveBayes</td>\n",
       "      <td>0.53</td>\n",
       "      <td>0.52</td>\n",
       "      <td>0.95</td>\n",
       "      <td>0.67</td>\n",
       "      <td>0.94</td>\n",
       "    </tr>\n",
       "    <tr>\n",
       "      <th>0</th>\n",
       "      <td>GradientBoostingClassifier</td>\n",
       "      <td>0.90</td>\n",
       "      <td>0.92</td>\n",
       "      <td>0.87</td>\n",
       "      <td>0.89</td>\n",
       "      <td>0.87</td>\n",
       "    </tr>\n",
       "    <tr>\n",
       "      <th>0</th>\n",
       "      <td>AdaBoostClassifier</td>\n",
       "      <td>0.84</td>\n",
       "      <td>0.85</td>\n",
       "      <td>0.84</td>\n",
       "      <td>0.84</td>\n",
       "      <td>0.84</td>\n",
       "    </tr>\n",
       "    <tr>\n",
       "      <th>0</th>\n",
       "      <td>LogisticRegression</td>\n",
       "      <td>0.70</td>\n",
       "      <td>0.75</td>\n",
       "      <td>0.60</td>\n",
       "      <td>0.67</td>\n",
       "      <td>0.60</td>\n",
       "    </tr>\n",
       "  </tbody>\n",
       "</table>\n",
       "</div>"
      ],
      "text/plain": [
       "                        Model  Accuracy  Precision  Recall  F1 Score  \\\n",
       "0        KNeighborsClassifier      0.92       0.88    0.99      0.93   \n",
       "0      RandomForestClassifier      0.98       0.98    0.98      0.98   \n",
       "0               XGBClassifier      0.98       0.99    0.98      0.98   \n",
       "0      DecisionTreeClassifier      0.96       0.95    0.97      0.96   \n",
       "0                  NaiveBayes      0.53       0.52    0.95      0.67   \n",
       "0  GradientBoostingClassifier      0.90       0.92    0.87      0.89   \n",
       "0          AdaBoostClassifier      0.84       0.85    0.84      0.84   \n",
       "0          LogisticRegression      0.70       0.75    0.60      0.67   \n",
       "\n",
       "   Cross_val_score  \n",
       "0             0.99  \n",
       "0             0.98  \n",
       "0             0.97  \n",
       "0             0.96  \n",
       "0             0.94  \n",
       "0             0.87  \n",
       "0             0.84  \n",
       "0             0.60  "
      ]
     },
     "execution_count": 64,
     "metadata": {},
     "output_type": "execute_result"
    }
   ],
   "source": [
    "test_scores = pd.concat([scores_test_df, scores_test_nb_df, scores_test_knn_df, scores_test_dt_df, scores_test_rf_df, scores_test_ada_df, scores_test_gbm_df, scores_test_xgb_df])\n",
    "test_scores.sort_values(by = 'Recall', ascending = False)"
   ]
  },
  {
   "cell_type": "code",
   "execution_count": null,
   "id": "f5eadeab",
   "metadata": {},
   "outputs": [],
   "source": []
  },
  {
   "cell_type": "markdown",
   "id": "d8d3becf",
   "metadata": {},
   "source": [
    "# <font color = 'green'>Hyper Parameter Tuning"
   ]
  },
  {
   "cell_type": "code",
   "execution_count": 18,
   "id": "7ad2bbcc",
   "metadata": {},
   "outputs": [
    {
     "name": "stdout",
     "output_type": "stream",
     "text": [
      "Best Hyper Parameters for KNN Classifier are : {'metric': 'manhattan', 'n_neighbors': 5, 'weights': 'distance'} \n",
      "\n"
     ]
    }
   ],
   "source": [
    "tune_param = [{'n_neighbors' : [3,5,7,9],\n",
    "              'weights' : ['uniform', 'distance'],\n",
    "              'metric' : ['euclidean', 'manhattan']\n",
    "              }]   # 'algorithm' : ['auto', 'ball_tree', 'kd_tree']\n",
    "\n",
    "knn_model = KNeighborsClassifier()\n",
    "grid_knn = GridSearchCV(estimator = knn_model, param_grid = tune_param, cv = 5, scoring = 'recall').fit(X_train, y_train)\n",
    "print('Best Hyper Parameters for KNN Classifier are :',grid_knn.best_params_,'\\n')"
   ]
  },
  {
   "cell_type": "code",
   "execution_count": 19,
   "id": "cc4d67a2",
   "metadata": {},
   "outputs": [
    {
     "data": {
      "image/png": "[encoded data removed]",
      "text/plain": [
       "<Figure size 432x288 with 1 Axes>"
      ]
     },
     "metadata": {
      "needs_background": "light"
     },
     "output_type": "display_data"
    },
    {
     "data": {
      "text/html": [
       "<div>\n",
       "<style scoped>\n",
       "    .dataframe tbody tr th:only-of-type {\n",
       "        vertical-align: middle;\n",
       "    }\n",
       "\n",
       "    .dataframe tbody tr th {\n",
       "        vertical-align: top;\n",
       "    }\n",
       "\n",
       "    .dataframe thead th {\n",
       "        text-align: right;\n",
       "    }\n",
       "</style>\n",
       "<table border=\"1\" class=\"dataframe\">\n",
       "  <thead>\n",
       "    <tr style=\"text-align: right;\">\n",
       "      <th></th>\n",
       "      <th>Model</th>\n",
       "      <th>Accuracy</th>\n",
       "      <th>Precision</th>\n",
       "      <th>Recall</th>\n",
       "      <th>F1 Score</th>\n",
       "      <th>Cross_val_score</th>\n",
       "    </tr>\n",
       "  </thead>\n",
       "  <tbody>\n",
       "    <tr>\n",
       "      <th>0</th>\n",
       "      <td>KNeighborsClassifier</td>\n",
       "      <td>0.94</td>\n",
       "      <td>0.9</td>\n",
       "      <td>0.99</td>\n",
       "      <td>0.94</td>\n",
       "      <td>0.97</td>\n",
       "    </tr>\n",
       "  </tbody>\n",
       "</table>\n",
       "</div>"
      ],
      "text/plain": [
       "                  Model  Accuracy  Precision  Recall  F1 Score  \\\n",
       "0  KNeighborsClassifier      0.94        0.9    0.99      0.94   \n",
       "\n",
       "   Cross_val_score  \n",
       "0             0.97  "
      ]
     },
     "execution_count": 19,
     "metadata": {},
     "output_type": "execute_result"
    }
   ],
   "source": [
    "knn_hyp_model = KNeighborsClassifier(metric = 'manhattan', n_neighbors = 5, weights = 'distance').fit(X_train, y_train)\n",
    "y_pred_knn = knn_hyp_model.predict(X_test)\n",
    "\n",
    "accuracy = accuracy_score(y_test, y_pred_knn)\n",
    "recall = recall_score(y_test, y_pred_knn)\n",
    "precision = precision_score(y_test, y_pred_knn)\n",
    "f1 = f1_score(y_test, y_pred_knn)\n",
    "cross_val = cross_val_score(knn_hyp_model, X_train, y_train, cv = 5, scoring = 'recall')  \n",
    "\n",
    "hyp_scores = []\n",
    "\n",
    "hyp_scores.append({\n",
    "    'Model' : 'KNeighborsClassifier',\n",
    "    'Accuracy' : round(accuracy,2),\n",
    "    'Precision' : round(precision,2),\n",
    "    'Recall' : round(recall,2),\n",
    "    'F1 Score' : round(f1,2),\n",
    "    'Cross_val_score' : round(cv_scores.mean(),2)\n",
    "})\n",
    "\n",
    "cm = confusion_matrix(y_test, y_pred_knn)\n",
    "conf_matrix = pd.DataFrame(cm, columns = ['Non_Defaulters:0', 'Defaulters:1'], index = ['Non_Defaulters:0', 'Defaulters:1'])\n",
    "sns.heatmap(conf_matrix, annot = True, fmt = 'd', cmap = 'magma', cbar = False, linewidth = 0.2)\n",
    "plt.show()\n",
    "\n",
    "hyp_scores_df = pd.DataFrame(hyp_scores)\n",
    "hyp_scores_df"
   ]
  },
  {
   "cell_type": "code",
   "execution_count": null,
   "id": "3b9a00ea",
   "metadata": {},
   "outputs": [],
   "source": []
  },
  {
   "cell_type": "code",
   "execution_count": 20,
   "id": "2518b2dc",
   "metadata": {},
   "outputs": [
    {
     "name": "stdout",
     "output_type": "stream",
     "text": [
      "Best Hyper Parameters for Decision Tree Classifier are: {'criterion': 'entropy', 'max_depth': 30, 'min_samples_leaf': 1, 'min_samples_split': 2} \n",
      "\n"
     ]
    }
   ],
   "source": [
    "tune_param_dt = {\n",
    "    'max_depth': [20, 30, 40],  # Added None for no limit\n",
    "    'min_samples_split': [2, 5, 10],\n",
    "    'min_samples_leaf': [1, 2, 4],\n",
    "    'criterion': ['gini', 'entropy']  # Including criterion parameter\n",
    "    #'splitter': ['best', 'random']  # Including splitter parameter\n",
    "}\n",
    "\n",
    "dt_model = DecisionTreeClassifier()\n",
    "grid_dt = GridSearchCV(estimator=dt_model, param_grid=tune_param_dt, cv=5, scoring='recall').fit(X_train, y_train)\n",
    "print('Best Hyper Parameters for Decision Tree Classifier are:', grid_dt.best_params_, '\\n')"
   ]
  },
  {
   "cell_type": "code",
   "execution_count": 21,
   "id": "082adc07",
   "metadata": {},
   "outputs": [
    {
     "data": {
      "image/png": "[encoded data removed]",
      "text/plain": [
       "<Figure size 432x288 with 1 Axes>"
      ]
     },
     "metadata": {
      "needs_background": "light"
     },
     "output_type": "display_data"
    },
    {
     "data": {
      "text/html": [
       "<div>\n",
       "<style scoped>\n",
       "    .dataframe tbody tr th:only-of-type {\n",
       "        vertical-align: middle;\n",
       "    }\n",
       "\n",
       "    .dataframe tbody tr th {\n",
       "        vertical-align: top;\n",
       "    }\n",
       "\n",
       "    .dataframe thead th {\n",
       "        text-align: right;\n",
       "    }\n",
       "</style>\n",
       "<table border=\"1\" class=\"dataframe\">\n",
       "  <thead>\n",
       "    <tr style=\"text-align: right;\">\n",
       "      <th></th>\n",
       "      <th>Model</th>\n",
       "      <th>Accuracy</th>\n",
       "      <th>Precision</th>\n",
       "      <th>Recall</th>\n",
       "      <th>F1 Score</th>\n",
       "      <th>Cross_val_score</th>\n",
       "    </tr>\n",
       "  </thead>\n",
       "  <tbody>\n",
       "    <tr>\n",
       "      <th>0</th>\n",
       "      <td>DecisionTreeClassifier</td>\n",
       "      <td>0.96</td>\n",
       "      <td>0.96</td>\n",
       "      <td>0.97</td>\n",
       "      <td>0.96</td>\n",
       "      <td>0.97</td>\n",
       "    </tr>\n",
       "  </tbody>\n",
       "</table>\n",
       "</div>"
      ],
      "text/plain": [
       "                    Model  Accuracy  Precision  Recall  F1 Score  \\\n",
       "0  DecisionTreeClassifier      0.96       0.96    0.97      0.96   \n",
       "\n",
       "   Cross_val_score  \n",
       "0             0.97  "
      ]
     },
     "execution_count": 21,
     "metadata": {},
     "output_type": "execute_result"
    }
   ],
   "source": [
    "dt_hyp_model = DecisionTreeClassifier(criterion =  'entropy', max_depth = 30, min_samples_leaf = 1, min_samples_split = 2).fit(X_train, y_train)\n",
    "y_pred_dt = dt_hyp_model.predict(X_test)\n",
    "\n",
    "accuracy = accuracy_score(y_test, y_pred_dt)\n",
    "recall = recall_score(y_test, y_pred_dt)\n",
    "precision = precision_score(y_test, y_pred_dt)\n",
    "f1 = f1_score(y_test, y_pred_dt)\n",
    "cross_val = cross_val_score(dt_hyp_model, X_train, y_train, cv = 5, scoring = 'recall')  \n",
    "\n",
    "hyp_scores = []\n",
    "\n",
    "hyp_scores.append({\n",
    "    'Model' : 'DecisionTreeClassifier',\n",
    "    'Accuracy' : round(accuracy,2),\n",
    "    'Precision' : round(precision,2),\n",
    "    'Recall' : round(recall,2),\n",
    "    'F1 Score' : round(f1,2),\n",
    "    'Cross_val_score' : round(cv_scores.mean(),2)\n",
    "})\n",
    "\n",
    "cm = confusion_matrix(y_test, y_pred_dt)\n",
    "conf_matrix = pd.DataFrame(cm, columns = ['Non_Defaulters:0', 'Defaulters:1'], index = ['Non_Defaulters:0', 'Defaulters:1'])\n",
    "sns.heatmap(conf_matrix, annot = True, fmt = 'd', cmap = 'magma', cbar = False, linewidth = 0.2)\n",
    "plt.show()\n",
    "\n",
    "hyp_scores_df1 = pd.DataFrame(hyp_scores)\n",
    "hyp_scores_df1"
   ]
  },
  {
   "cell_type": "code",
   "execution_count": null,
   "id": "1ba6bdb1",
   "metadata": {},
   "outputs": [],
   "source": []
  },
  {
   "cell_type": "code",
   "execution_count": 23,
   "id": "bb5f4675",
   "metadata": {
    "scrolled": true
   },
   "outputs": [
    {
     "ename": "KeyboardInterrupt",
     "evalue": "",
     "output_type": "error",
     "traceback": [
      "\u001b[1;31m---------------------------------------------------------------------------\u001b[0m",
      "\u001b[1;31mKeyboardInterrupt\u001b[0m                         Traceback (most recent call last)",
      "\u001b[1;32m~\\AppData\\Local\\Temp/ipykernel_9292/288718903.py\u001b[0m in \u001b[0;36m<module>\u001b[1;34m\u001b[0m\n\u001b[0;32m     10\u001b[0m \u001b[1;33m\u001b[0m\u001b[0m\n\u001b[0;32m     11\u001b[0m \u001b[0mrf_model\u001b[0m \u001b[1;33m=\u001b[0m \u001b[0mRandomForestClassifier\u001b[0m\u001b[1;33m(\u001b[0m\u001b[1;33m)\u001b[0m\u001b[1;33m\u001b[0m\u001b[1;33m\u001b[0m\u001b[0m\n\u001b[1;32m---> 12\u001b[1;33m \u001b[0mgrid_rf\u001b[0m \u001b[1;33m=\u001b[0m \u001b[0mGridSearchCV\u001b[0m\u001b[1;33m(\u001b[0m\u001b[0mrf_model\u001b[0m\u001b[1;33m,\u001b[0m \u001b[0mparam_grid\u001b[0m\u001b[1;33m=\u001b[0m\u001b[0mtune_param_rf\u001b[0m\u001b[1;33m,\u001b[0m \u001b[0mcv\u001b[0m\u001b[1;33m=\u001b[0m\u001b[1;36m5\u001b[0m\u001b[1;33m,\u001b[0m \u001b[0mscoring\u001b[0m\u001b[1;33m=\u001b[0m\u001b[1;34m'recall'\u001b[0m\u001b[1;33m)\u001b[0m\u001b[1;33m.\u001b[0m\u001b[0mfit\u001b[0m\u001b[1;33m(\u001b[0m\u001b[0mX_train\u001b[0m\u001b[1;33m,\u001b[0m \u001b[0my_train\u001b[0m\u001b[1;33m)\u001b[0m\u001b[1;33m\u001b[0m\u001b[1;33m\u001b[0m\u001b[0m\n\u001b[0m\u001b[0;32m     13\u001b[0m \u001b[0mprint\u001b[0m\u001b[1;33m(\u001b[0m\u001b[1;34m'Best Hyper Parameters for Random Forest Classifier are:'\u001b[0m\u001b[1;33m,\u001b[0m \u001b[0mgrid_rf\u001b[0m\u001b[1;33m.\u001b[0m\u001b[0mbest_params_\u001b[0m\u001b[1;33m,\u001b[0m \u001b[1;34m'\\n'\u001b[0m\u001b[1;33m)\u001b[0m\u001b[1;33m\u001b[0m\u001b[1;33m\u001b[0m\u001b[0m\n",
      "\u001b[1;32m~\\anaconda3\\lib\\site-packages\\sklearn\\base.py\u001b[0m in \u001b[0;36mwrapper\u001b[1;34m(estimator, *args, **kwargs)\u001b[0m\n\u001b[0;32m   1471\u001b[0m                 )\n\u001b[0;32m   1472\u001b[0m             ):\n\u001b[1;32m-> 1473\u001b[1;33m                 \u001b[1;32mreturn\u001b[0m \u001b[0mfit_method\u001b[0m\u001b[1;33m(\u001b[0m\u001b[0mestimator\u001b[0m\u001b[1;33m,\u001b[0m \u001b[1;33m*\u001b[0m\u001b[0margs\u001b[0m\u001b[1;33m,\u001b[0m \u001b[1;33m**\u001b[0m\u001b[0mkwargs\u001b[0m\u001b[1;33m)\u001b[0m\u001b[1;33m\u001b[0m\u001b[1;33m\u001b[0m\u001b[0m\n\u001b[0m\u001b[0;32m   1474\u001b[0m \u001b[1;33m\u001b[0m\u001b[0m\n\u001b[0;32m   1475\u001b[0m         \u001b[1;32mreturn\u001b[0m \u001b[0mwrapper\u001b[0m\u001b[1;33m\u001b[0m\u001b[1;33m\u001b[0m\u001b[0m\n",
      "\u001b[1;32m~\\anaconda3\\lib\\site-packages\\sklearn\\model_selection\\_search.py\u001b[0m in \u001b[0;36mfit\u001b[1;34m(self, X, y, **params)\u001b[0m\n\u001b[0;32m   1016\u001b[0m                 \u001b[1;32mreturn\u001b[0m \u001b[0mresults\u001b[0m\u001b[1;33m\u001b[0m\u001b[1;33m\u001b[0m\u001b[0m\n\u001b[0;32m   1017\u001b[0m \u001b[1;33m\u001b[0m\u001b[0m\n\u001b[1;32m-> 1018\u001b[1;33m             \u001b[0mself\u001b[0m\u001b[1;33m.\u001b[0m\u001b[0m_run_search\u001b[0m\u001b[1;33m(\u001b[0m\u001b[0mevaluate_candidates\u001b[0m\u001b[1;33m)\u001b[0m\u001b[1;33m\u001b[0m\u001b[1;33m\u001b[0m\u001b[0m\n\u001b[0m\u001b[0;32m   1019\u001b[0m \u001b[1;33m\u001b[0m\u001b[0m\n\u001b[0;32m   1020\u001b[0m             \u001b[1;31m# multimetric is determined here because in the case of a callable\u001b[0m\u001b[1;33m\u001b[0m\u001b[1;33m\u001b[0m\u001b[0m\n",
      "\u001b[1;32m~\\anaconda3\\lib\\site-packages\\sklearn\\model_selection\\_search.py\u001b[0m in \u001b[0;36m_run_search\u001b[1;34m(self, evaluate_candidates)\u001b[0m\n\u001b[0;32m   1570\u001b[0m     \u001b[1;32mdef\u001b[0m \u001b[0m_run_search\u001b[0m\u001b[1;33m(\u001b[0m\u001b[0mself\u001b[0m\u001b[1;33m,\u001b[0m \u001b[0mevaluate_candidates\u001b[0m\u001b[1;33m)\u001b[0m\u001b[1;33m:\u001b[0m\u001b[1;33m\u001b[0m\u001b[1;33m\u001b[0m\u001b[0m\n\u001b[0;32m   1571\u001b[0m         \u001b[1;34m\"\"\"Search all candidates in param_grid\"\"\"\u001b[0m\u001b[1;33m\u001b[0m\u001b[1;33m\u001b[0m\u001b[0m\n\u001b[1;32m-> 1572\u001b[1;33m         \u001b[0mevaluate_candidates\u001b[0m\u001b[1;33m(\u001b[0m\u001b[0mParameterGrid\u001b[0m\u001b[1;33m(\u001b[0m\u001b[0mself\u001b[0m\u001b[1;33m.\u001b[0m\u001b[0mparam_grid\u001b[0m\u001b[1;33m)\u001b[0m\u001b[1;33m)\u001b[0m\u001b[1;33m\u001b[0m\u001b[1;33m\u001b[0m\u001b[0m\n\u001b[0m\u001b[0;32m   1573\u001b[0m \u001b[1;33m\u001b[0m\u001b[0m\n\u001b[0;32m   1574\u001b[0m \u001b[1;33m\u001b[0m\u001b[0m\n",
      "\u001b[1;32m~\\anaconda3\\lib\\site-packages\\sklearn\\model_selection\\_search.py\u001b[0m in \u001b[0;36mevaluate_candidates\u001b[1;34m(candidate_params, cv, more_results)\u001b[0m\n\u001b[0;32m    962\u001b[0m                     )\n\u001b[0;32m    963\u001b[0m \u001b[1;33m\u001b[0m\u001b[0m\n\u001b[1;32m--> 964\u001b[1;33m                 out = parallel(\n\u001b[0m\u001b[0;32m    965\u001b[0m                     delayed(_fit_and_score)(\n\u001b[0;32m    966\u001b[0m                         \u001b[0mclone\u001b[0m\u001b[1;33m(\u001b[0m\u001b[0mbase_estimator\u001b[0m\u001b[1;33m)\u001b[0m\u001b[1;33m,\u001b[0m\u001b[1;33m\u001b[0m\u001b[1;33m\u001b[0m\u001b[0m\n",
      "\u001b[1;32m~\\anaconda3\\lib\\site-packages\\sklearn\\utils\\parallel.py\u001b[0m in \u001b[0;36m__call__\u001b[1;34m(self, iterable)\u001b[0m\n\u001b[0;32m     72\u001b[0m             \u001b[1;32mfor\u001b[0m \u001b[0mdelayed_func\u001b[0m\u001b[1;33m,\u001b[0m \u001b[0margs\u001b[0m\u001b[1;33m,\u001b[0m \u001b[0mkwargs\u001b[0m \u001b[1;32min\u001b[0m \u001b[0miterable\u001b[0m\u001b[1;33m\u001b[0m\u001b[1;33m\u001b[0m\u001b[0m\n\u001b[0;32m     73\u001b[0m         )\n\u001b[1;32m---> 74\u001b[1;33m         \u001b[1;32mreturn\u001b[0m \u001b[0msuper\u001b[0m\u001b[1;33m(\u001b[0m\u001b[1;33m)\u001b[0m\u001b[1;33m.\u001b[0m\u001b[0m__call__\u001b[0m\u001b[1;33m(\u001b[0m\u001b[0miterable_with_config\u001b[0m\u001b[1;33m)\u001b[0m\u001b[1;33m\u001b[0m\u001b[1;33m\u001b[0m\u001b[0m\n\u001b[0m\u001b[0;32m     75\u001b[0m \u001b[1;33m\u001b[0m\u001b[0m\n\u001b[0;32m     76\u001b[0m \u001b[1;33m\u001b[0m\u001b[0m\n",
      "\u001b[1;32m~\\anaconda3\\lib\\site-packages\\joblib\\parallel.py\u001b[0m in \u001b[0;36m__call__\u001b[1;34m(self, iterable)\u001b[0m\n\u001b[0;32m   1916\u001b[0m             \u001b[0moutput\u001b[0m \u001b[1;33m=\u001b[0m \u001b[0mself\u001b[0m\u001b[1;33m.\u001b[0m\u001b[0m_get_sequential_output\u001b[0m\u001b[1;33m(\u001b[0m\u001b[0miterable\u001b[0m\u001b[1;33m)\u001b[0m\u001b[1;33m\u001b[0m\u001b[1;33m\u001b[0m\u001b[0m\n\u001b[0;32m   1917\u001b[0m             \u001b[0mnext\u001b[0m\u001b[1;33m(\u001b[0m\u001b[0moutput\u001b[0m\u001b[1;33m)\u001b[0m\u001b[1;33m\u001b[0m\u001b[1;33m\u001b[0m\u001b[0m\n\u001b[1;32m-> 1918\u001b[1;33m             \u001b[1;32mreturn\u001b[0m \u001b[0moutput\u001b[0m \u001b[1;32mif\u001b[0m \u001b[0mself\u001b[0m\u001b[1;33m.\u001b[0m\u001b[0mreturn_generator\u001b[0m \u001b[1;32melse\u001b[0m \u001b[0mlist\u001b[0m\u001b[1;33m(\u001b[0m\u001b[0moutput\u001b[0m\u001b[1;33m)\u001b[0m\u001b[1;33m\u001b[0m\u001b[1;33m\u001b[0m\u001b[0m\n\u001b[0m\u001b[0;32m   1919\u001b[0m \u001b[1;33m\u001b[0m\u001b[0m\n\u001b[0;32m   1920\u001b[0m         \u001b[1;31m# Let's create an ID that uniquely identifies the current call. If the\u001b[0m\u001b[1;33m\u001b[0m\u001b[1;33m\u001b[0m\u001b[0m\n",
      "\u001b[1;32m~\\anaconda3\\lib\\site-packages\\joblib\\parallel.py\u001b[0m in \u001b[0;36m_get_sequential_output\u001b[1;34m(self, iterable)\u001b[0m\n\u001b[0;32m   1845\u001b[0m                 \u001b[0mself\u001b[0m\u001b[1;33m.\u001b[0m\u001b[0mn_dispatched_batches\u001b[0m \u001b[1;33m+=\u001b[0m \u001b[1;36m1\u001b[0m\u001b[1;33m\u001b[0m\u001b[1;33m\u001b[0m\u001b[0m\n\u001b[0;32m   1846\u001b[0m                 \u001b[0mself\u001b[0m\u001b[1;33m.\u001b[0m\u001b[0mn_dispatched_tasks\u001b[0m \u001b[1;33m+=\u001b[0m \u001b[1;36m1\u001b[0m\u001b[1;33m\u001b[0m\u001b[1;33m\u001b[0m\u001b[0m\n\u001b[1;32m-> 1847\u001b[1;33m                 \u001b[0mres\u001b[0m \u001b[1;33m=\u001b[0m \u001b[0mfunc\u001b[0m\u001b[1;33m(\u001b[0m\u001b[1;33m*\u001b[0m\u001b[0margs\u001b[0m\u001b[1;33m,\u001b[0m \u001b[1;33m**\u001b[0m\u001b[0mkwargs\u001b[0m\u001b[1;33m)\u001b[0m\u001b[1;33m\u001b[0m\u001b[1;33m\u001b[0m\u001b[0m\n\u001b[0m\u001b[0;32m   1848\u001b[0m                 \u001b[0mself\u001b[0m\u001b[1;33m.\u001b[0m\u001b[0mn_completed_tasks\u001b[0m \u001b[1;33m+=\u001b[0m \u001b[1;36m1\u001b[0m\u001b[1;33m\u001b[0m\u001b[1;33m\u001b[0m\u001b[0m\n\u001b[0;32m   1849\u001b[0m                 \u001b[0mself\u001b[0m\u001b[1;33m.\u001b[0m\u001b[0mprint_progress\u001b[0m\u001b[1;33m(\u001b[0m\u001b[1;33m)\u001b[0m\u001b[1;33m\u001b[0m\u001b[1;33m\u001b[0m\u001b[0m\n",
      "\u001b[1;32m~\\anaconda3\\lib\\site-packages\\sklearn\\utils\\parallel.py\u001b[0m in \u001b[0;36m__call__\u001b[1;34m(self, *args, **kwargs)\u001b[0m\n\u001b[0;32m    134\u001b[0m             \u001b[0mconfig\u001b[0m \u001b[1;33m=\u001b[0m \u001b[1;33m{\u001b[0m\u001b[1;33m}\u001b[0m\u001b[1;33m\u001b[0m\u001b[1;33m\u001b[0m\u001b[0m\n\u001b[0;32m    135\u001b[0m         \u001b[1;32mwith\u001b[0m \u001b[0mconfig_context\u001b[0m\u001b[1;33m(\u001b[0m\u001b[1;33m**\u001b[0m\u001b[0mconfig\u001b[0m\u001b[1;33m)\u001b[0m\u001b[1;33m:\u001b[0m\u001b[1;33m\u001b[0m\u001b[1;33m\u001b[0m\u001b[0m\n\u001b[1;32m--> 136\u001b[1;33m             \u001b[1;32mreturn\u001b[0m \u001b[0mself\u001b[0m\u001b[1;33m.\u001b[0m\u001b[0mfunction\u001b[0m\u001b[1;33m(\u001b[0m\u001b[1;33m*\u001b[0m\u001b[0margs\u001b[0m\u001b[1;33m,\u001b[0m \u001b[1;33m**\u001b[0m\u001b[0mkwargs\u001b[0m\u001b[1;33m)\u001b[0m\u001b[1;33m\u001b[0m\u001b[1;33m\u001b[0m\u001b[0m\n\u001b[0m\u001b[0;32m    137\u001b[0m \u001b[1;33m\u001b[0m\u001b[0m\n\u001b[0;32m    138\u001b[0m \u001b[1;33m\u001b[0m\u001b[0m\n",
      "\u001b[1;32m~\\anaconda3\\lib\\site-packages\\sklearn\\model_selection\\_validation.py\u001b[0m in \u001b[0;36m_fit_and_score\u001b[1;34m(estimator, X, y, scorer, train, test, verbose, parameters, fit_params, score_params, return_train_score, return_parameters, return_n_test_samples, return_times, return_estimator, split_progress, candidate_progress, error_score)\u001b[0m\n\u001b[0;32m    886\u001b[0m             \u001b[0mestimator\u001b[0m\u001b[1;33m.\u001b[0m\u001b[0mfit\u001b[0m\u001b[1;33m(\u001b[0m\u001b[0mX_train\u001b[0m\u001b[1;33m,\u001b[0m \u001b[1;33m**\u001b[0m\u001b[0mfit_params\u001b[0m\u001b[1;33m)\u001b[0m\u001b[1;33m\u001b[0m\u001b[1;33m\u001b[0m\u001b[0m\n\u001b[0;32m    887\u001b[0m         \u001b[1;32melse\u001b[0m\u001b[1;33m:\u001b[0m\u001b[1;33m\u001b[0m\u001b[1;33m\u001b[0m\u001b[0m\n\u001b[1;32m--> 888\u001b[1;33m             \u001b[0mestimator\u001b[0m\u001b[1;33m.\u001b[0m\u001b[0mfit\u001b[0m\u001b[1;33m(\u001b[0m\u001b[0mX_train\u001b[0m\u001b[1;33m,\u001b[0m \u001b[0my_train\u001b[0m\u001b[1;33m,\u001b[0m \u001b[1;33m**\u001b[0m\u001b[0mfit_params\u001b[0m\u001b[1;33m)\u001b[0m\u001b[1;33m\u001b[0m\u001b[1;33m\u001b[0m\u001b[0m\n\u001b[0m\u001b[0;32m    889\u001b[0m \u001b[1;33m\u001b[0m\u001b[0m\n\u001b[0;32m    890\u001b[0m     \u001b[1;32mexcept\u001b[0m \u001b[0mException\u001b[0m\u001b[1;33m:\u001b[0m\u001b[1;33m\u001b[0m\u001b[1;33m\u001b[0m\u001b[0m\n",
      "\u001b[1;32m~\\anaconda3\\lib\\site-packages\\sklearn\\base.py\u001b[0m in \u001b[0;36mwrapper\u001b[1;34m(estimator, *args, **kwargs)\u001b[0m\n\u001b[0;32m   1471\u001b[0m                 )\n\u001b[0;32m   1472\u001b[0m             ):\n\u001b[1;32m-> 1473\u001b[1;33m                 \u001b[1;32mreturn\u001b[0m \u001b[0mfit_method\u001b[0m\u001b[1;33m(\u001b[0m\u001b[0mestimator\u001b[0m\u001b[1;33m,\u001b[0m \u001b[1;33m*\u001b[0m\u001b[0margs\u001b[0m\u001b[1;33m,\u001b[0m \u001b[1;33m**\u001b[0m\u001b[0mkwargs\u001b[0m\u001b[1;33m)\u001b[0m\u001b[1;33m\u001b[0m\u001b[1;33m\u001b[0m\u001b[0m\n\u001b[0m\u001b[0;32m   1474\u001b[0m \u001b[1;33m\u001b[0m\u001b[0m\n\u001b[0;32m   1475\u001b[0m         \u001b[1;32mreturn\u001b[0m \u001b[0mwrapper\u001b[0m\u001b[1;33m\u001b[0m\u001b[1;33m\u001b[0m\u001b[0m\n",
      "\u001b[1;32m~\\anaconda3\\lib\\site-packages\\sklearn\\ensemble\\_forest.py\u001b[0m in \u001b[0;36mfit\u001b[1;34m(self, X, y, sample_weight)\u001b[0m\n\u001b[0;32m    487\u001b[0m             \u001b[1;31m# parallel_backend contexts set at a higher level,\u001b[0m\u001b[1;33m\u001b[0m\u001b[1;33m\u001b[0m\u001b[0m\n\u001b[0;32m    488\u001b[0m             \u001b[1;31m# since correctness does not rely on using threads.\u001b[0m\u001b[1;33m\u001b[0m\u001b[1;33m\u001b[0m\u001b[0m\n\u001b[1;32m--> 489\u001b[1;33m             trees = Parallel(\n\u001b[0m\u001b[0;32m    490\u001b[0m                 \u001b[0mn_jobs\u001b[0m\u001b[1;33m=\u001b[0m\u001b[0mself\u001b[0m\u001b[1;33m.\u001b[0m\u001b[0mn_jobs\u001b[0m\u001b[1;33m,\u001b[0m\u001b[1;33m\u001b[0m\u001b[1;33m\u001b[0m\u001b[0m\n\u001b[0;32m    491\u001b[0m                 \u001b[0mverbose\u001b[0m\u001b[1;33m=\u001b[0m\u001b[0mself\u001b[0m\u001b[1;33m.\u001b[0m\u001b[0mverbose\u001b[0m\u001b[1;33m,\u001b[0m\u001b[1;33m\u001b[0m\u001b[1;33m\u001b[0m\u001b[0m\n",
      "\u001b[1;32m~\\anaconda3\\lib\\site-packages\\sklearn\\utils\\parallel.py\u001b[0m in \u001b[0;36m__call__\u001b[1;34m(self, iterable)\u001b[0m\n\u001b[0;32m     72\u001b[0m             \u001b[1;32mfor\u001b[0m \u001b[0mdelayed_func\u001b[0m\u001b[1;33m,\u001b[0m \u001b[0margs\u001b[0m\u001b[1;33m,\u001b[0m \u001b[0mkwargs\u001b[0m \u001b[1;32min\u001b[0m \u001b[0miterable\u001b[0m\u001b[1;33m\u001b[0m\u001b[1;33m\u001b[0m\u001b[0m\n\u001b[0;32m     73\u001b[0m         )\n\u001b[1;32m---> 74\u001b[1;33m         \u001b[1;32mreturn\u001b[0m \u001b[0msuper\u001b[0m\u001b[1;33m(\u001b[0m\u001b[1;33m)\u001b[0m\u001b[1;33m.\u001b[0m\u001b[0m__call__\u001b[0m\u001b[1;33m(\u001b[0m\u001b[0miterable_with_config\u001b[0m\u001b[1;33m)\u001b[0m\u001b[1;33m\u001b[0m\u001b[1;33m\u001b[0m\u001b[0m\n\u001b[0m\u001b[0;32m     75\u001b[0m \u001b[1;33m\u001b[0m\u001b[0m\n\u001b[0;32m     76\u001b[0m \u001b[1;33m\u001b[0m\u001b[0m\n",
      "\u001b[1;32m~\\anaconda3\\lib\\site-packages\\joblib\\parallel.py\u001b[0m in \u001b[0;36m__call__\u001b[1;34m(self, iterable)\u001b[0m\n\u001b[0;32m   1916\u001b[0m             \u001b[0moutput\u001b[0m \u001b[1;33m=\u001b[0m \u001b[0mself\u001b[0m\u001b[1;33m.\u001b[0m\u001b[0m_get_sequential_output\u001b[0m\u001b[1;33m(\u001b[0m\u001b[0miterable\u001b[0m\u001b[1;33m)\u001b[0m\u001b[1;33m\u001b[0m\u001b[1;33m\u001b[0m\u001b[0m\n\u001b[0;32m   1917\u001b[0m             \u001b[0mnext\u001b[0m\u001b[1;33m(\u001b[0m\u001b[0moutput\u001b[0m\u001b[1;33m)\u001b[0m\u001b[1;33m\u001b[0m\u001b[1;33m\u001b[0m\u001b[0m\n\u001b[1;32m-> 1918\u001b[1;33m             \u001b[1;32mreturn\u001b[0m \u001b[0moutput\u001b[0m \u001b[1;32mif\u001b[0m \u001b[0mself\u001b[0m\u001b[1;33m.\u001b[0m\u001b[0mreturn_generator\u001b[0m \u001b[1;32melse\u001b[0m \u001b[0mlist\u001b[0m\u001b[1;33m(\u001b[0m\u001b[0moutput\u001b[0m\u001b[1;33m)\u001b[0m\u001b[1;33m\u001b[0m\u001b[1;33m\u001b[0m\u001b[0m\n\u001b[0m\u001b[0;32m   1919\u001b[0m \u001b[1;33m\u001b[0m\u001b[0m\n\u001b[0;32m   1920\u001b[0m         \u001b[1;31m# Let's create an ID that uniquely identifies the current call. If the\u001b[0m\u001b[1;33m\u001b[0m\u001b[1;33m\u001b[0m\u001b[0m\n",
      "\u001b[1;32m~\\anaconda3\\lib\\site-packages\\joblib\\parallel.py\u001b[0m in \u001b[0;36m_get_sequential_output\u001b[1;34m(self, iterable)\u001b[0m\n\u001b[0;32m   1845\u001b[0m                 \u001b[0mself\u001b[0m\u001b[1;33m.\u001b[0m\u001b[0mn_dispatched_batches\u001b[0m \u001b[1;33m+=\u001b[0m \u001b[1;36m1\u001b[0m\u001b[1;33m\u001b[0m\u001b[1;33m\u001b[0m\u001b[0m\n\u001b[0;32m   1846\u001b[0m                 \u001b[0mself\u001b[0m\u001b[1;33m.\u001b[0m\u001b[0mn_dispatched_tasks\u001b[0m \u001b[1;33m+=\u001b[0m \u001b[1;36m1\u001b[0m\u001b[1;33m\u001b[0m\u001b[1;33m\u001b[0m\u001b[0m\n\u001b[1;32m-> 1847\u001b[1;33m                 \u001b[0mres\u001b[0m \u001b[1;33m=\u001b[0m \u001b[0mfunc\u001b[0m\u001b[1;33m(\u001b[0m\u001b[1;33m*\u001b[0m\u001b[0margs\u001b[0m\u001b[1;33m,\u001b[0m \u001b[1;33m**\u001b[0m\u001b[0mkwargs\u001b[0m\u001b[1;33m)\u001b[0m\u001b[1;33m\u001b[0m\u001b[1;33m\u001b[0m\u001b[0m\n\u001b[0m\u001b[0;32m   1848\u001b[0m                 \u001b[0mself\u001b[0m\u001b[1;33m.\u001b[0m\u001b[0mn_completed_tasks\u001b[0m \u001b[1;33m+=\u001b[0m \u001b[1;36m1\u001b[0m\u001b[1;33m\u001b[0m\u001b[1;33m\u001b[0m\u001b[0m\n\u001b[0;32m   1849\u001b[0m                 \u001b[0mself\u001b[0m\u001b[1;33m.\u001b[0m\u001b[0mprint_progress\u001b[0m\u001b[1;33m(\u001b[0m\u001b[1;33m)\u001b[0m\u001b[1;33m\u001b[0m\u001b[1;33m\u001b[0m\u001b[0m\n",
      "\u001b[1;32m~\\anaconda3\\lib\\site-packages\\sklearn\\utils\\parallel.py\u001b[0m in \u001b[0;36m__call__\u001b[1;34m(self, *args, **kwargs)\u001b[0m\n\u001b[0;32m    134\u001b[0m             \u001b[0mconfig\u001b[0m \u001b[1;33m=\u001b[0m \u001b[1;33m{\u001b[0m\u001b[1;33m}\u001b[0m\u001b[1;33m\u001b[0m\u001b[1;33m\u001b[0m\u001b[0m\n\u001b[0;32m    135\u001b[0m         \u001b[1;32mwith\u001b[0m \u001b[0mconfig_context\u001b[0m\u001b[1;33m(\u001b[0m\u001b[1;33m**\u001b[0m\u001b[0mconfig\u001b[0m\u001b[1;33m)\u001b[0m\u001b[1;33m:\u001b[0m\u001b[1;33m\u001b[0m\u001b[1;33m\u001b[0m\u001b[0m\n\u001b[1;32m--> 136\u001b[1;33m             \u001b[1;32mreturn\u001b[0m \u001b[0mself\u001b[0m\u001b[1;33m.\u001b[0m\u001b[0mfunction\u001b[0m\u001b[1;33m(\u001b[0m\u001b[1;33m*\u001b[0m\u001b[0margs\u001b[0m\u001b[1;33m,\u001b[0m \u001b[1;33m**\u001b[0m\u001b[0mkwargs\u001b[0m\u001b[1;33m)\u001b[0m\u001b[1;33m\u001b[0m\u001b[1;33m\u001b[0m\u001b[0m\n\u001b[0m\u001b[0;32m    137\u001b[0m \u001b[1;33m\u001b[0m\u001b[0m\n\u001b[0;32m    138\u001b[0m \u001b[1;33m\u001b[0m\u001b[0m\n",
      "\u001b[1;32m~\\anaconda3\\lib\\site-packages\\sklearn\\ensemble\\_forest.py\u001b[0m in \u001b[0;36m_parallel_build_trees\u001b[1;34m(tree, bootstrap, X, y, sample_weight, tree_idx, n_trees, verbose, class_weight, n_samples_bootstrap, missing_values_in_feature_mask)\u001b[0m\n\u001b[0;32m    190\u001b[0m             \u001b[0mcurr_sample_weight\u001b[0m \u001b[1;33m*=\u001b[0m \u001b[0mcompute_sample_weight\u001b[0m\u001b[1;33m(\u001b[0m\u001b[1;34m\"balanced\"\u001b[0m\u001b[1;33m,\u001b[0m \u001b[0my\u001b[0m\u001b[1;33m,\u001b[0m \u001b[0mindices\u001b[0m\u001b[1;33m=\u001b[0m\u001b[0mindices\u001b[0m\u001b[1;33m)\u001b[0m\u001b[1;33m\u001b[0m\u001b[1;33m\u001b[0m\u001b[0m\n\u001b[0;32m    191\u001b[0m \u001b[1;33m\u001b[0m\u001b[0m\n\u001b[1;32m--> 192\u001b[1;33m         tree._fit(\n\u001b[0m\u001b[0;32m    193\u001b[0m             \u001b[0mX\u001b[0m\u001b[1;33m,\u001b[0m\u001b[1;33m\u001b[0m\u001b[1;33m\u001b[0m\u001b[0m\n\u001b[0;32m    194\u001b[0m             \u001b[0my\u001b[0m\u001b[1;33m,\u001b[0m\u001b[1;33m\u001b[0m\u001b[1;33m\u001b[0m\u001b[0m\n",
      "\u001b[1;32m~\\anaconda3\\lib\\site-packages\\sklearn\\tree\\_classes.py\u001b[0m in \u001b[0;36m_fit\u001b[1;34m(self, X, y, sample_weight, check_input, missing_values_in_feature_mask)\u001b[0m\n\u001b[0;32m    470\u001b[0m             )\n\u001b[0;32m    471\u001b[0m \u001b[1;33m\u001b[0m\u001b[0m\n\u001b[1;32m--> 472\u001b[1;33m         \u001b[0mbuilder\u001b[0m\u001b[1;33m.\u001b[0m\u001b[0mbuild\u001b[0m\u001b[1;33m(\u001b[0m\u001b[0mself\u001b[0m\u001b[1;33m.\u001b[0m\u001b[0mtree_\u001b[0m\u001b[1;33m,\u001b[0m \u001b[0mX\u001b[0m\u001b[1;33m,\u001b[0m \u001b[0my\u001b[0m\u001b[1;33m,\u001b[0m \u001b[0msample_weight\u001b[0m\u001b[1;33m,\u001b[0m \u001b[0mmissing_values_in_feature_mask\u001b[0m\u001b[1;33m)\u001b[0m\u001b[1;33m\u001b[0m\u001b[1;33m\u001b[0m\u001b[0m\n\u001b[0m\u001b[0;32m    473\u001b[0m \u001b[1;33m\u001b[0m\u001b[0m\n\u001b[0;32m    474\u001b[0m         \u001b[1;32mif\u001b[0m \u001b[0mself\u001b[0m\u001b[1;33m.\u001b[0m\u001b[0mn_outputs_\u001b[0m \u001b[1;33m==\u001b[0m \u001b[1;36m1\u001b[0m \u001b[1;32mand\u001b[0m \u001b[0mis_classifier\u001b[0m\u001b[1;33m(\u001b[0m\u001b[0mself\u001b[0m\u001b[1;33m)\u001b[0m\u001b[1;33m:\u001b[0m\u001b[1;33m\u001b[0m\u001b[1;33m\u001b[0m\u001b[0m\n",
      "\u001b[1;31mKeyboardInterrupt\u001b[0m: "
     ]
    }
   ],
   "source": [
    "tune_param_rf = [{\n",
    "    'n_estimators': [10, 50, 100],\n",
    "    'max_depth': [10, 20, 30],\n",
    "    'min_samples_split': [2, 5, 10],\n",
    "    'min_samples_leaf': [1, 2, 4],\n",
    "    #'max_features': ['auto', 'sqrt', 'log2'],  \n",
    "    #'bootstrap': [True, False],  \n",
    "    'criterion': ['gini', 'entropy']\n",
    "}]\n",
    "\n",
    "rf_model = RandomForestClassifier()\n",
    "grid_rf = GridSearchCV(rf_model, param_grid=tune_param_rf, cv=5, scoring='recall').fit(X_train, y_train)\n",
    "print('Best Hyper Parameters for Random Forest Classifier are:', grid_rf.best_params_, '\\n')"
   ]
  },
  {
   "cell_type": "code",
   "execution_count": null,
   "id": "7f161605",
   "metadata": {},
   "outputs": [],
   "source": [
    "rf_hyp_model = RandomForestClassifier().fit(X_train, y_train)\n",
    "y_pred_rf = rf_hyp_model.predict(X_test)\n",
    "\n",
    "accuracy = accuracy_score(y_test, y_pred_rf)\n",
    "recall = recall_score(y_test, y_pred_rf)\n",
    "precision = precision_score(y_test, y_pred_rf)\n",
    "f1 = f1_score(y_test, y_pred_rf)\n",
    "cross_val = cross_val_score(rf_hyp_model, X_train, y_train, cv = 5, scoring = 'recall')  \n",
    "\n",
    "hyp_scores = []\n",
    "\n",
    "hyp_scores.append({\n",
    "    'Model' : 'RandomForestClassifier',\n",
    "    'Accuracy' : round(accuracy,2),\n",
    "    'Precision' : round(precision,2),\n",
    "    'Recall' : round(recall,2),\n",
    "    'F1 Score' : round(f1,2),\n",
    "    'Cross_val_score' : round(cv_scores.mean(),2)\n",
    "})\n",
    "\n",
    "cm = confusion_matrix(y_test, y_pred_rf)\n",
    "conf_matrix = pd.DataFrame(cm, columns = ['Non_Defaulters:0', 'Defaulters:1'], index = ['Non_Defaulters:0', 'Defaulters:1'])\n",
    "sns.heatmap(conf_matrix, annot = True, fmt = 'd', cmap = 'magma', cbar = False, linewidth = 0.2)\n",
    "plt.show()\n",
    "\n",
    "hyp_scores_df2 = pd.DataFrame(hyp_scores)\n",
    "hyp_scores_df2"
   ]
  },
  {
   "cell_type": "code",
   "execution_count": null,
   "id": "17e50206",
   "metadata": {},
   "outputs": [],
   "source": []
  },
  {
   "cell_type": "code",
   "execution_count": null,
   "id": "2dd2cb44",
   "metadata": {},
   "outputs": [],
   "source": [
    "tune_param_ada = {\n",
    "    'n_estimators': [50, 100, 200],\n",
    "    'learning_rate': [0.01, 0.1, 1, 10],\n",
    "    'algorithm': ['SAMME', 'SAMME.R'],\n",
    "    'base_estimator__max_depth': [1, 2, 3, 4],\n",
    "    'base_estimator__min_samples_split': [2, 5, 10],\n",
    "    'base_estimator__min_samples_leaf': [1, 2, 4],\n",
    "    'base_estimator__max_features': ['auto', 'sqrt', 'log2', None],\n",
    "    'base_estimator__criterion': ['gini', 'entropy'],\n",
    "    'base_estimator__splitter': ['best', 'random']\n",
    "}\n",
    "\n",
    "ada_model = AdaBoostClassifier(base_estimator=DecisionTreeClassifier())\n",
    "grid_ada = GridSearchCV(estimator=ada_model, param_grid=tune_param_ada, cv=5, scoring='recall').fit(X_train, y_train)\n",
    "print('Best Hyper Parameters for AdaBoost Classifier are:', grid_ada.best_params_, '\\n')"
   ]
  },
  {
   "cell_type": "code",
   "execution_count": null,
   "id": "f9b0c33e",
   "metadata": {},
   "outputs": [],
   "source": [
    "ada_hyp_model = AdaBoostClassifier().fit(X_train, y_train)\n",
    "y_pred_ada = ada_hyp_model.predict(X_test)\n",
    "\n",
    "accuracy = accuracy_score(y_test, y_pred_ada)\n",
    "recall = recall_score(y_test, y_pred_ada)\n",
    "precision = precision_score(y_test, y_pred_ada)\n",
    "f1 = f1_score(y_test, y_pred_ada)\n",
    "cross_val = cross_val_score(ada_hyp_model, X_train, y_train, cv = 5, scoring = 'recall')  \n",
    "\n",
    "hyp_scores = []\n",
    "\n",
    "hyp_scores.append({\n",
    "    'Model' : 'AdaBoostClassifier',\n",
    "    'Accuracy' : round(accuracy,2),\n",
    "    'Precision' : round(precision,2),\n",
    "    'Recall' : round(recall,2),\n",
    "    'F1 Score' : round(f1,2),\n",
    "    'Cross_val_score' : round(cv_scores.mean(),2)\n",
    "})\n",
    "\n",
    "cm = confusion_matrix(y_test, y_pred_ada)\n",
    "conf_matrix = pd.DataFrame(cm, columns = ['Non_Defaulters:0', 'Defaulters:1'], index = ['Non_Defaulters:0', 'Defaulters:1'])\n",
    "sns.heatmap(conf_matrix, annot = True, fmt = 'd', cmap = 'magma', cbar = False, linewidth = 0.2)\n",
    "plt.show()\n",
    "\n",
    "hyp_scores_df3 = pd.DataFrame(hyp_scores)\n",
    "hyp_scores_df = pd.concat([hyp_scores_df3, hyp_scores_df])\n",
    "hyp_scores_df"
   ]
  },
  {
   "cell_type": "code",
   "execution_count": null,
   "id": "854dea65",
   "metadata": {},
   "outputs": [],
   "source": []
  },
  {
   "cell_type": "code",
   "execution_count": null,
   "id": "b26b0223",
   "metadata": {},
   "outputs": [],
   "source": [
    "from sklearn.ensemble import GradientBoostingClassifier\n",
    "\n",
    "tune_param_gb = {\n",
    "    'n_estimators': [50, 100, 200],\n",
    "    'learning_rate': [0.01, 0.1, 0.2, 0.3],\n",
    "    'max_depth': [3, 5, 7, 9],\n",
    "    'min_samples_split': [2, 5, 10],\n",
    "    'min_samples_leaf': [1, 2, 4],\n",
    "    'max_features': ['auto', 'sqrt', 'log2', None],\n",
    "    'subsample': [0.7, 0.8, 0.9, 1.0],\n",
    "    'loss': ['deviance', 'exponential']  # Including loss parameter\n",
    "}\n",
    "\n",
    "gb_model = GradientBoostingClassifier()\n",
    "grid_gb = GridSearchCV(estimator=gb_model, param_grid=tune_param_gb, cv=5, scoring='recall').fit(X_train, y_train)\n",
    "print('Best Hyper Parameters for Gradient Boosting Classifier are:', grid_gb.best_params_, '\\n')"
   ]
  },
  {
   "cell_type": "code",
   "execution_count": null,
   "id": "968fad21",
   "metadata": {},
   "outputs": [],
   "source": [
    "gbm_hyp_model = GradientBoostingClassifier().fit(X_train, y_train)\n",
    "y_pred_gbm = gbm_hyp_model.predict(X_test)\n",
    "\n",
    "accuracy = accuracy_score(y_test, y_pred_gbm)\n",
    "recall = recall_score(y_test, y_pred_gbm)\n",
    "precision = precision_score(y_test, y_pred_gbm)\n",
    "f1 = f1_score(y_test, y_pred_gbm)\n",
    "cross_val = cross_val_score(gbm_hyp_model, X_train, y_train, cv = 5, scoring = 'recall')  \n",
    "\n",
    "hyp_scores = []\n",
    "\n",
    "hyp_scores.append({\n",
    "    'Model' : 'GradientBoostingClassifier',\n",
    "    'Accuracy' : round(accuracy,2),\n",
    "    'Precision' : round(precision,2),\n",
    "    'Recall' : round(recall,2),\n",
    "    'F1 Score' : round(f1,2),\n",
    "    'Cross_val_score' : round(cv_scores.mean(),2)\n",
    "})\n",
    "\n",
    "cm = confusion_matrix(y_test, y_pred_gbm)\n",
    "conf_matrix = pd.DataFrame(cm, columns = ['Non_Defaulters:0', 'Defaulters:1'], index = ['Non_Defaulters:0', 'Defaulters:1'])\n",
    "sns.heatmap(conf_matrix, annot = True, fmt = 'd', cmap = 'magma', cbar = False, linewidth = 0.2)\n",
    "plt.show()\n",
    "\n",
    "hyp_scores_df4 = pd.DataFrame(hyp_scores)\n",
    "hyp_scores_df = pd.concat([hyp_scores_df4, hyp_scores_df])\n",
    "hyp_scores_df"
   ]
  },
  {
   "cell_type": "code",
   "execution_count": null,
   "id": "02ebe699",
   "metadata": {},
   "outputs": [],
   "source": []
  },
  {
   "cell_type": "code",
   "execution_count": null,
   "id": "8c6702f1",
   "metadata": {},
   "outputs": [],
   "source": [
    "from xgboost import XGBClassifier\n",
    "\n",
    "tune_param_xgb = {\n",
    "    'n_estimators': [50, 100, 200],\n",
    "    'learning_rate': [0.01, 0.1, 0.2, 0.3],\n",
    "    'max_depth': [3, 5, 7, 9],\n",
    "    'min_child_weight': [1, 3, 5],\n",
    "    'gamma': [0, 0.1, 0.3, 0.5],\n",
    "    'subsample': [0.7, 0.8, 0.9, 1.0],\n",
    "    'colsample_bytree': [0.7, 0.8, 0.9, 1.0],\n",
    "    'reg_alpha': [0, 0.01, 0.1, 1],\n",
    "    'reg_lambda': [1, 0.1, 0.01],\n",
    "    'scale_pos_weight': [1, 3, 5]\n",
    "}\n",
    "\n",
    "xgb_model = XGBClassifier(use_label_encoder=False, eval_metric='logloss')\n",
    "grid_xgb = GridSearchCV(estimator=xgb_model, param_grid=tune_param_xgb, cv=5, scoring='recall').fit(X_train, y_train)\n",
    "print('Best Hyper Parameters for XGBoost Classifier are:', grid_xgb.best_params_, '\\n')"
   ]
  },
  {
   "cell_type": "code",
   "execution_count": null,
   "id": "ab5d9f1a",
   "metadata": {},
   "outputs": [],
   "source": [
    "xgb_hyp_model = XGBClassifier().fit(X_train, y_train)\n",
    "y_pred_xgb = xgb_hyp_model.predict(X_test)\n",
    "\n",
    "accuracy = accuracy_score(y_test, y_pred_xgb)\n",
    "recall = recall_score(y_test, y_pred_xgb)\n",
    "precision = precision_score(y_test, y_pred_xgb)\n",
    "f1 = f1_score(y_test, y_pred_xgb)\n",
    "cross_val = cross_val_score(xgb_hyp_model, X_train, y_train, cv = 5, scoring = 'recall')  \n",
    "\n",
    "hyp_scores = []\n",
    "\n",
    "hyp_scores.append({\n",
    "    'Model' : 'XGBClassifier',\n",
    "    'Accuracy' : round(accuracy,2),\n",
    "    'Precision' : round(precision,2),\n",
    "    'Recall' : round(recall,2),\n",
    "    'F1 Score' : round(f1,2),\n",
    "    'Cross_val_score' : round(cv_scores.mean(),2)\n",
    "})\n",
    "\n",
    "cm = confusion_matrix(y_test, y_pred_xgb)\n",
    "conf_matrix = pd.DataFrame(cm, columns = ['Non_Defaulters:0', 'Defaulters:1'], index = ['Non_Defaulters:0', 'Defaulters:1'])\n",
    "sns.heatmap(conf_matrix, annot = True, fmt = 'd', cmap = 'magma', cbar = False, linewidth = 0.2)\n",
    "plt.show()\n",
    "\n",
    "hyp_scores_df5 = pd.DataFrame(hyp_scores)\n",
    "hyp_scores_df = pd.concat([hyp_scores_df5, hyp_scores_df])\n",
    "hyp_scores_df"
   ]
  },
  {
   "cell_type": "code",
   "execution_count": null,
   "id": "e63be4e1",
   "metadata": {},
   "outputs": [],
   "source": []
  },
  {
   "cell_type": "code",
   "execution_count": null,
   "id": "bddff670",
   "metadata": {},
   "outputs": [],
   "source": []
  },
  {
   "cell_type": "code",
   "execution_count": null,
   "id": "aeef5797",
   "metadata": {},
   "outputs": [],
   "source": []
  }
 ],
 "metadata": {
  "kernelspec": {
   "display_name": "Python 3 (ipykernel)",
   "language": "python",
   "name": "python3"
  },
  "language_info": {
   "codemirror_mode": {
    "name": "ipython",
    "version": 3
   },
   "file_extension": ".py",
   "mimetype": "text/x-python",
   "name": "python",
   "nbconvert_exporter": "python",
   "pygments_lexer": "ipython3",
   "version": "3.9.7"
  }
 },
 "nbformat": 4,
 "nbformat_minor": 5
}
