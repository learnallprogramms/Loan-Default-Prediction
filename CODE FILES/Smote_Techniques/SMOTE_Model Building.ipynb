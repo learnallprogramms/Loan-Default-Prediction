{
 "cells": [
  {
   "cell_type": "code",
   "execution_count": 10,
   "id": "c4b7f106",
   "metadata": {},
   "outputs": [],
   "source": [
    "# Import necessary libraries\n",
    "import numpy as np  # For numerical operations\n",
    "import pandas as pd  # For data manipulation and analysis\n",
    "import matplotlib.pyplot as plt  # For data visualization\n",
    "import seaborn as sns  # For enhanced data visualization\n",
    "\n",
    "# Suppress warnings\n",
    "import warnings  # For managing warnings in the code\n",
    "warnings.filterwarnings('ignore')  # Ignore all warnings\n",
    "\n",
    "## display all columns of the dataframe\n",
    "pd.options.display.max_columns=None\n",
    "## display all rows of the dataframe\n",
    "pd.options.display.max_rows=None\n",
    "\n",
    "from sklearn.preprocessing import StandardScaler\n",
    "from sklearn.preprocessing import MinMaxScaler\n",
    "\n",
    "from sklearn.feature_selection import SelectFromModel, RFECV\n",
    "from sklearn.model_selection import train_test_split, GridSearchCV, cross_val_score\n",
    "from sklearn.linear_model import LogisticRegression, LassoCV\n",
    "from sklearn.neighbors import KNeighborsClassifier\n",
    "from sklearn.naive_bayes import GaussianNB\n",
    "from sklearn.tree import DecisionTreeClassifier\n",
    "from sklearn.ensemble import RandomForestClassifier, GradientBoostingClassifier, AdaBoostClassifier, StackingClassifier, ExtraTreesClassifier\n",
    "import xgboost as xgb\n",
    "from xgboost import XGBClassifier\n",
    "\n",
    "\n",
    "from sklearn import metrics\n",
    "from sklearn.metrics import accuracy_score, recall_score, precision_score,f1_score, classification_report, confusion_matrix, roc_auc_score, roc_curve, auc\n",
    "\n",
    "from scipy import stats\n",
    "from scipy.stats import shapiro, levene, mannwhitneyu\n",
    "from scipy.stats import chi2_contingency"
   ]
  },
  {
   "cell_type": "code",
   "execution_count": 11,
   "id": "91d658d7",
   "metadata": {},
   "outputs": [
    {
     "name": "stdout",
     "output_type": "stream",
     "text": [
      "(85048, 26)\n",
      "\n",
      "0    83194\n",
      "1     1854\n",
      "Name: V32, dtype: int64\n"
     ]
    }
   ],
   "source": [
    "df = pd.read_csv('data_with_encoding.csv')\n",
    "print(df.shape)\n",
    "print()\n",
    "print(df.V32.value_counts())"
   ]
  },
  {
   "cell_type": "code",
   "execution_count": 12,
   "id": "bff84642",
   "metadata": {},
   "outputs": [],
   "source": [
    "# Define columns and target variable\n",
    "columns = ['V3', 'V9', 'V17', 'V19', 'V20', 'Total_Interest_Paid', 'Total_Past_Due', 'LoanBurden', 'Loan_Affordability_Index']\n",
    "X = df[columns]\n",
    "y = df['V32']\n",
    "\n",
    "# Replace infinity values with NaNs\n",
    "X.replace([np.inf, -np.inf], np.nan, inplace=True)\n",
    "\n",
    "# Handle NaN values - here we drop rows with NaNs\n",
    "X.dropna(inplace=True)\n",
    "\n",
    "# Ensure the target variable 'y' matches the cleaned features 'X'\n",
    "y = y.loc[X.index]\n",
    "\n",
    "# Split data into training and testing sets\n",
    "X_train, X_test, y_train, y_test = train_test_split(X, y, test_size=0.2, random_state=50)\n",
    "\n",
    "# Feature scaling\n",
    "scaler = StandardScaler()\n",
    "X_train_scaled = scaler.fit_transform(X_train)\n",
    "X_test_scaled = scaler.transform(X_test)\n",
    "\n",
    "# Convert scaled features back to DataFrame\n",
    "X_train_scaled = pd.DataFrame(X_train_scaled, columns=X_train.columns)\n",
    "X_test_scaled = pd.DataFrame(X_test_scaled, columns=X_train.columns)\n"
   ]
  },
  {
   "cell_type": "code",
   "execution_count": 13,
   "id": "ab11c3c1",
   "metadata": {},
   "outputs": [
    {
     "name": "stdout",
     "output_type": "stream",
     "text": [
      "Before Counter({0: 64724, 1: 1469})\n",
      "After Counter({0: 64724, 1: 64724})\n"
     ]
    }
   ],
   "source": [
    "from imblearn.over_sampling import SMOTE\n",
    "from collections import Counter\n",
    "\n",
    "counter = Counter(y_train)\n",
    "print('Before',counter)\n",
    "# oversampling the train dataset using SMOTE\n",
    "smt = SMOTE()\n",
    "#X_train, y_train = smt.fit_resample(X_train, y_train)\n",
    "X_train_sm, y_train_sm = smt.fit_resample(X_train_scaled, y_train)\n",
    "\n",
    "counter = Counter(y_train_sm)\n",
    "print('After',counter)"
   ]
  },
  {
   "cell_type": "code",
   "execution_count": 14,
   "id": "fbccde9b",
   "metadata": {},
   "outputs": [],
   "source": [
    "features = pd.DataFrame(X_train_sm, columns = X_train.columns)\n",
    "target = y_train_sm"
   ]
  },
  {
   "cell_type": "code",
   "execution_count": 15,
   "id": "8f978e0c",
   "metadata": {},
   "outputs": [
    {
     "name": "stdout",
     "output_type": "stream",
     "text": [
      "(90613, 9) (38835, 9)\n",
      "\n",
      "(90613,) (38835,)\n"
     ]
    }
   ],
   "source": [
    "X_train, X_test, y_train, y_test = train_test_split(features, target, test_size = 0.3, random_state = 10)\n",
    "\n",
    "print(X_train.shape, X_test.shape)\n",
    "print()\n",
    "print(y_train.shape, y_test.shape)"
   ]
  },
  {
   "cell_type": "code",
   "execution_count": null,
   "id": "9a4dde4f",
   "metadata": {},
   "outputs": [],
   "source": []
  },
  {
   "cell_type": "raw",
   "id": "e6c20219",
   "metadata": {},
   "source": [
    "Logistic regression relies on several key assumptions for reliable results:\n",
    "\n",
    "1.Binary Outcome: The dependent variable must be binary.\n",
    "2.Independence of Observations: Each observation should be independent.\n",
    "3.Linearity of Logits: There should be a linear relationship between the independent variables and the logit (log-odds) of the dependent variable.\n",
    "4.No Multicollinearity: Independent variables should not be highly correlated with each other.\n",
    "5.Large Sample Size: A large sample size is needed for reliable results, especially if the event is rare.\n",
    "6.Absence of Outliers and High Leverage Points: Outliers and high leverage points should be identified and assessed as they can influence the model disproportionately."
   ]
  },
  {
   "cell_type": "code",
   "execution_count": null,
   "id": "c50686d2",
   "metadata": {},
   "outputs": [],
   "source": []
  },
  {
   "cell_type": "code",
   "execution_count": null,
   "id": "074b4f0a",
   "metadata": {},
   "outputs": [],
   "source": []
  },
  {
   "cell_type": "code",
   "execution_count": 16,
   "id": "4149b78f",
   "metadata": {},
   "outputs": [],
   "source": [
    "# Fit the model\n",
    "lr_model = LogisticRegression().fit(X_train, y_train)\n",
    "\n",
    "# Predictions for the test set\n",
    "y_pred_test = lr_model.predict(X_test)\n",
    "\n",
    "# Predictions for the train set\n",
    "y_pred_train = lr_model.predict(X_train)\n",
    "\n",
    "# Calculate scores for the test set\n",
    "accuracy_test = accuracy_score(y_test, y_pred_test)\n",
    "precision_test = precision_score(y_test, y_pred_test)\n",
    "recall_test = recall_score(y_test, y_pred_test)\n",
    "f1_test = f1_score(y_test, y_pred_test)\n",
    "cv_scores_test = cross_val_score(lr_model, X_train, y_train, cv=5, scoring='recall')\n",
    "\n",
    "# Calculate scores for the train set\n",
    "accuracy_train = accuracy_score(y_train, y_pred_train)\n",
    "precision_train = precision_score(y_train, y_pred_train)\n",
    "recall_train = recall_score(y_train, y_pred_train)\n",
    "f1_train = f1_score(y_train, y_pred_train)\n",
    "cv_scores_train = cross_val_score(lr_model, X_train, y_train, cv=5, scoring='recall')"
   ]
  },
  {
   "cell_type": "code",
   "execution_count": 17,
   "id": "380e2908",
   "metadata": {},
   "outputs": [
    {
     "data": {
      "image/png": "[encoded data removed]",
      "text/plain": [
       "<Figure size 432x288 with 1 Axes>"
      ]
     },
     "metadata": {
      "needs_background": "light"
     },
     "output_type": "display_data"
    },
    {
     "name": "stdout",
     "output_type": "stream",
     "text": [
      "Train Set Scores\n"
     ]
    },
    {
     "data": {
      "text/html": [
       "<div>\n",
       "<style scoped>\n",
       "    .dataframe tbody tr th:only-of-type {\n",
       "        vertical-align: middle;\n",
       "    }\n",
       "\n",
       "    .dataframe tbody tr th {\n",
       "        vertical-align: top;\n",
       "    }\n",
       "\n",
       "    .dataframe thead th {\n",
       "        text-align: right;\n",
       "    }\n",
       "</style>\n",
       "<table border=\"1\" class=\"dataframe\">\n",
       "  <thead>\n",
       "    <tr style=\"text-align: right;\">\n",
       "      <th></th>\n",
       "      <th>Model</th>\n",
       "      <th>Accuracy</th>\n",
       "      <th>Precision</th>\n",
       "      <th>Recall</th>\n",
       "      <th>F1 Score</th>\n",
       "      <th>Cross_val_score</th>\n",
       "    </tr>\n",
       "  </thead>\n",
       "  <tbody>\n",
       "    <tr>\n",
       "      <th>0</th>\n",
       "      <td>LogisticRegression</td>\n",
       "      <td>0.71</td>\n",
       "      <td>0.76</td>\n",
       "      <td>0.62</td>\n",
       "      <td>0.68</td>\n",
       "      <td>0.62</td>\n",
       "    </tr>\n",
       "  </tbody>\n",
       "</table>\n",
       "</div>"
      ],
      "text/plain": [
       "                Model  Accuracy  Precision  Recall  F1 Score  Cross_val_score\n",
       "0  LogisticRegression      0.71       0.76    0.62      0.68             0.62"
      ]
     },
     "execution_count": 17,
     "metadata": {},
     "output_type": "execute_result"
    }
   ],
   "source": [
    "# Store the results for the train set\n",
    "scores_train = []\n",
    "scores_train.append({\n",
    "    'Model': 'LogisticRegression',\n",
    "    'Accuracy': round(accuracy_train, 2),\n",
    "    'Precision': round(precision_train, 2),\n",
    "    'Recall': round(recall_train, 2),\n",
    "    'F1 Score': round(f1_train, 2),\n",
    "    'Cross_val_score': round(cv_scores_train.mean(), 2)\n",
    "})\n",
    "\n",
    "\n",
    "# Confusion matrix for the train set\n",
    "cm_train = confusion_matrix(y_train, y_pred_train)\n",
    "conf_matrix_train = pd.DataFrame(cm_train, columns=['Non_Defaulters:0', 'Defaulters:1'], index=['Non_Defaulters:0', 'Defaulters:1'])\n",
    "sns.heatmap(conf_matrix_train, annot=True, fmt='d', cmap='magma', cbar=False, linewidth=0.2)\n",
    "plt.title('Confusion Matrix - Train Set')\n",
    "plt.show()\n",
    "\n",
    "# Convert the results to DataFrames\n",
    "scores_train_df = pd.DataFrame(scores_train)\n",
    "\n",
    "\n",
    "print(\"Train Set Scores\")\n",
    "scores_train_df\n",
    "\n"
   ]
  },
  {
   "cell_type": "code",
   "execution_count": 18,
   "id": "d6234467",
   "metadata": {},
   "outputs": [
    {
     "data": {
      "image/png": "[encoded data removed]",
      "text/plain": [
       "<Figure size 432x288 with 1 Axes>"
      ]
     },
     "metadata": {
      "needs_background": "light"
     },
     "output_type": "display_data"
    },
    {
     "name": "stdout",
     "output_type": "stream",
     "text": [
      "Test Set Scores\n"
     ]
    },
    {
     "data": {
      "text/html": [
       "<div>\n",
       "<style scoped>\n",
       "    .dataframe tbody tr th:only-of-type {\n",
       "        vertical-align: middle;\n",
       "    }\n",
       "\n",
       "    .dataframe tbody tr th {\n",
       "        vertical-align: top;\n",
       "    }\n",
       "\n",
       "    .dataframe thead th {\n",
       "        text-align: right;\n",
       "    }\n",
       "</style>\n",
       "<table border=\"1\" class=\"dataframe\">\n",
       "  <thead>\n",
       "    <tr style=\"text-align: right;\">\n",
       "      <th></th>\n",
       "      <th>Model</th>\n",
       "      <th>Accuracy</th>\n",
       "      <th>Precision</th>\n",
       "      <th>Recall</th>\n",
       "      <th>F1 Score</th>\n",
       "      <th>Cross_val_score</th>\n",
       "    </tr>\n",
       "  </thead>\n",
       "  <tbody>\n",
       "    <tr>\n",
       "      <th>0</th>\n",
       "      <td>LogisticRegression</td>\n",
       "      <td>0.71</td>\n",
       "      <td>0.76</td>\n",
       "      <td>0.62</td>\n",
       "      <td>0.68</td>\n",
       "      <td>0.62</td>\n",
       "    </tr>\n",
       "  </tbody>\n",
       "</table>\n",
       "</div>"
      ],
      "text/plain": [
       "                Model  Accuracy  Precision  Recall  F1 Score  Cross_val_score\n",
       "0  LogisticRegression      0.71       0.76    0.62      0.68             0.62"
      ]
     },
     "execution_count": 18,
     "metadata": {},
     "output_type": "execute_result"
    }
   ],
   "source": [
    "# Store the results for the test set\n",
    "scores_test = []\n",
    "scores_test.append({\n",
    "    'Model': 'LogisticRegression',\n",
    "    'Accuracy': round(accuracy_test, 2),\n",
    "    'Precision': round(precision_test, 2),\n",
    "    'Recall': round(recall_test, 2),\n",
    "    'F1 Score': round(f1_test, 2),\n",
    "    'Cross_val_score': round(cv_scores_test.mean(), 2)\n",
    "})\n",
    "\n",
    "# Confusion matrix for the test set\n",
    "cm_test = confusion_matrix(y_test, y_pred_test)\n",
    "conf_matrix_test = pd.DataFrame(cm_test, columns=['Non_Defaulters:0', 'Defaulters:1'], index=['Non_Defaulters:0', 'Defaulters:1'])\n",
    "sns.heatmap(conf_matrix_test, annot=True, fmt='d', cmap='magma', cbar=False, linewidth=0.2)\n",
    "plt.title('Confusion Matrix - Test Set')\n",
    "plt.show()\n",
    "\n",
    "scores_test_df = pd.DataFrame(scores_test)\n",
    "\n",
    "print(\"Test Set Scores\")\n",
    "scores_test_df"
   ]
  },
  {
   "cell_type": "code",
   "execution_count": null,
   "id": "9f5eb922",
   "metadata": {},
   "outputs": [],
   "source": []
  },
  {
   "cell_type": "code",
   "execution_count": null,
   "id": "19c0e2df",
   "metadata": {},
   "outputs": [],
   "source": []
  },
  {
   "cell_type": "code",
   "execution_count": 19,
   "id": "a374b196",
   "metadata": {},
   "outputs": [],
   "source": [
    "from sklearn.naive_bayes import GaussianNB\n",
    "\n",
    "# Fit the Naive Bayes model\n",
    "nb_model = GaussianNB().fit(X_train, y_train)\n",
    "\n",
    "# Predictions for the test set\n",
    "y_pred_test_nb = nb_model.predict(X_test)\n",
    "\n",
    "# Predictions for the train set\n",
    "y_pred_train_nb = nb_model.predict(X_train)\n",
    "\n",
    "# Calculate scores for the test set\n",
    "accuracy_test_nb = accuracy_score(y_test, y_pred_test_nb)\n",
    "precision_test_nb = precision_score(y_test, y_pred_test_nb)\n",
    "recall_test_nb = recall_score(y_test, y_pred_test_nb)\n",
    "f1_test_nb = f1_score(y_test, y_pred_test_nb)\n",
    "cv_scores_test_nb = cross_val_score(nb_model, X_train, y_train, cv=5, scoring='recall')\n",
    "\n",
    "# Calculate scores for the train set\n",
    "accuracy_train_nb = accuracy_score(y_train, y_pred_train_nb)\n",
    "precision_train_nb = precision_score(y_train, y_pred_train_nb)\n",
    "recall_train_nb = recall_score(y_train, y_pred_train_nb)\n",
    "f1_train_nb = f1_score(y_train, y_pred_train_nb)\n",
    "cv_scores_train_nb = cross_val_score(nb_model, X_train, y_train, cv=5, scoring='recall')\n"
   ]
  },
  {
   "cell_type": "code",
   "execution_count": 20,
   "id": "77569d2d",
   "metadata": {},
   "outputs": [
    {
     "data": {
      "image/png": "[encoded data removed]",
      "text/plain": [
       "<Figure size 432x288 with 1 Axes>"
      ]
     },
     "metadata": {
      "needs_background": "light"
     },
     "output_type": "display_data"
    },
    {
     "name": "stdout",
     "output_type": "stream",
     "text": [
      "Train Set Scores - Naive Bayes\n",
      "        Model  Accuracy  Precision  Recall  F1 Score  Cross_val_score\n",
      "0  NaiveBayes      0.54       0.52    0.93      0.67             0.85\n"
     ]
    }
   ],
   "source": [
    "# Store the results for the train set\n",
    "scores_train_nb = [{\n",
    "    'Model': 'NaiveBayes',\n",
    "    'Accuracy': round(accuracy_train_nb, 2),\n",
    "    'Precision': round(precision_train_nb, 2),\n",
    "    'Recall': round(recall_train_nb, 2),\n",
    "    'F1 Score': round(f1_train_nb, 2),\n",
    "    'Cross_val_score': round(cv_scores_train_nb.mean(), 2)\n",
    "}]\n",
    "\n",
    "# Confusion matrix for the train set\n",
    "cm_train_nb = confusion_matrix(y_train, y_pred_train_nb)\n",
    "conf_matrix_train_nb = pd.DataFrame(cm_train_nb, columns=['Non_Defaulters:0', 'Defaulters:1'], index=['Non_Defaulters:0', 'Defaulters:1'])\n",
    "sns.heatmap(conf_matrix_train_nb, annot=True, fmt='d', cmap='magma', cbar=False, linewidth=0.2)\n",
    "plt.title('Confusion Matrix - Train Set (Naive Bayes)')\n",
    "plt.show()\n",
    "\n",
    "# Convert the results to DataFrames\n",
    "scores_train_nb_df = pd.DataFrame(scores_train_nb)\n",
    "\n",
    "print(\"Train Set Scores - Naive Bayes\")\n",
    "print(scores_train_nb_df)\n"
   ]
  },
  {
   "cell_type": "code",
   "execution_count": 21,
   "id": "b052264e",
   "metadata": {},
   "outputs": [
    {
     "data": {
      "image/png": "[encoded data removed]",
      "text/plain": [
       "<Figure size 432x288 with 1 Axes>"
      ]
     },
     "metadata": {
      "needs_background": "light"
     },
     "output_type": "display_data"
    },
    {
     "name": "stdout",
     "output_type": "stream",
     "text": [
      "Test Set Scores - Naive Bayes\n",
      "        Model  Accuracy  Precision  Recall  F1 Score  Cross_val_score\n",
      "0  NaiveBayes      0.54       0.52    0.93      0.67             0.85\n"
     ]
    }
   ],
   "source": [
    "# Store the results for the test set\n",
    "scores_test_nb = [{\n",
    "    'Model': 'NaiveBayes',\n",
    "    'Accuracy': round(accuracy_test_nb, 2),\n",
    "    'Precision': round(precision_test_nb, 2),\n",
    "    'Recall': round(recall_test_nb, 2),\n",
    "    'F1 Score': round(f1_test_nb, 2),\n",
    "    'Cross_val_score': round(cv_scores_test_nb.mean(), 2)\n",
    "}]\n",
    "\n",
    "# Confusion matrix for the test set\n",
    "cm_test_nb = confusion_matrix(y_test, y_pred_test_nb)\n",
    "conf_matrix_test_nb = pd.DataFrame(cm_test_nb, columns=['Non_Defaulters:0', 'Defaulters:1'], index=['Non_Defaulters:0', 'Defaulters:1'])\n",
    "sns.heatmap(conf_matrix_test_nb, annot=True, fmt='d', cmap='magma', cbar=False, linewidth=0.2)\n",
    "plt.title('Confusion Matrix - Test Set (Naive Bayes)')\n",
    "plt.show()\n",
    "\n",
    "scores_test_nb_df = pd.DataFrame(scores_test_nb)\n",
    "\n",
    "print(\"Test Set Scores - Naive Bayes\")\n",
    "print(scores_test_nb_df)"
   ]
  },
  {
   "cell_type": "code",
   "execution_count": null,
   "id": "9685dfde",
   "metadata": {},
   "outputs": [],
   "source": []
  },
  {
   "cell_type": "code",
   "execution_count": null,
   "id": "734f3fb6",
   "metadata": {},
   "outputs": [],
   "source": []
  },
  {
   "cell_type": "code",
   "execution_count": 22,
   "id": "ff0ead9d",
   "metadata": {},
   "outputs": [],
   "source": [
    "# Fit the KNN model\n",
    "knn_model = KNeighborsClassifier().fit(X_train, y_train)\n",
    "\n",
    "# Predictions for the test set\n",
    "y_pred_test_knn = knn_model.predict(X_test)\n",
    "\n",
    "# Predictions for the train set\n",
    "y_pred_train_knn = knn_model.predict(X_train)\n",
    "\n",
    "# Calculate scores for the test set\n",
    "accuracy_test_knn = accuracy_score(y_test, y_pred_test_knn)\n",
    "precision_test_knn = precision_score(y_test, y_pred_test_knn)\n",
    "recall_test_knn = recall_score(y_test, y_pred_test_knn)\n",
    "f1_test_knn = f1_score(y_test, y_pred_test_knn)\n",
    "cv_scores_test_knn = cross_val_score(knn_model, X_train, y_train, cv=5, scoring='recall')\n",
    "\n",
    "# Calculate scores for the train set\n",
    "accuracy_train_knn = accuracy_score(y_train, y_pred_train_knn)\n",
    "precision_train_knn = precision_score(y_train, y_pred_train_knn)\n",
    "recall_train_knn = recall_score(y_train, y_pred_train_knn)\n",
    "f1_train_knn = f1_score(y_train, y_pred_train_knn)\n",
    "cv_scores_train_knn = cross_val_score(knn_model, X_train, y_train, cv=5, scoring='recall')\n"
   ]
  },
  {
   "cell_type": "code",
   "execution_count": 23,
   "id": "4144ebcb",
   "metadata": {},
   "outputs": [
    {
     "data": {
      "image/png": "[encoded data removed]",
      "text/plain": [
       "<Figure size 432x288 with 1 Axes>"
      ]
     },
     "metadata": {
      "needs_background": "light"
     },
     "output_type": "display_data"
    },
    {
     "name": "stdout",
     "output_type": "stream",
     "text": [
      "Train Set Scores - KNN\n",
      "                  Model  Accuracy  Precision  Recall  F1 Score  \\\n",
      "0  KNeighborsClassifier      0.95       0.91     1.0      0.95   \n",
      "\n",
      "   Cross_val_score  \n",
      "0             0.99  \n"
     ]
    }
   ],
   "source": [
    "# Store the results for the train set\n",
    "scores_train_knn = [{\n",
    "    'Model': 'KNeighborsClassifier',\n",
    "    'Accuracy': round(accuracy_train_knn, 2),\n",
    "    'Precision': round(precision_train_knn, 2),\n",
    "    'Recall': round(recall_train_knn, 2),\n",
    "    'F1 Score': round(f1_train_knn, 2),\n",
    "    'Cross_val_score': round(cv_scores_train_knn.mean(), 2)\n",
    "}]\n",
    "\n",
    "# Confusion matrix for the train set\n",
    "cm_train_knn = confusion_matrix(y_train, y_pred_train_knn)\n",
    "conf_matrix_train_knn = pd.DataFrame(cm_train_knn, columns=['Non_Defaulters:0', 'Defaulters:1'], index=['Non_Defaulters:0', 'Defaulters:1'])\n",
    "sns.heatmap(conf_matrix_train_knn, annot=True, fmt='d', cmap='magma', cbar=False, linewidth=0.2)\n",
    "plt.title('Confusion Matrix - Train Set (KNN)')\n",
    "plt.show()\n",
    "\n",
    "# Convert the results to DataFrames\n",
    "scores_train_knn_df = pd.DataFrame(scores_train_knn)\n",
    "\n",
    "print(\"Train Set Scores - KNN\")\n",
    "print(scores_train_knn_df)\n"
   ]
  },
  {
   "cell_type": "code",
   "execution_count": 24,
   "id": "a4bfe6da",
   "metadata": {},
   "outputs": [
    {
     "data": {
      "image/png": "[encoded data removed]",
      "text/plain": [
       "<Figure size 432x288 with 1 Axes>"
      ]
     },
     "metadata": {
      "needs_background": "light"
     },
     "output_type": "display_data"
    },
    {
     "name": "stdout",
     "output_type": "stream",
     "text": [
      "Test Set Scores - KNN\n",
      "                  Model  Accuracy  Precision  Recall  F1 Score  \\\n",
      "0  KNeighborsClassifier      0.93       0.88    0.99      0.93   \n",
      "\n",
      "   Cross_val_score  \n",
      "0             0.99  \n"
     ]
    }
   ],
   "source": [
    "# Store the results for the test set\n",
    "scores_test_knn = [{\n",
    "    'Model': 'KNeighborsClassifier',\n",
    "    'Accuracy': round(accuracy_test_knn, 2),\n",
    "    'Precision': round(precision_test_knn, 2),\n",
    "    'Recall': round(recall_test_knn, 2),\n",
    "    'F1 Score': round(f1_test_knn, 2),\n",
    "    'Cross_val_score': round(cv_scores_test_knn.mean(), 2)\n",
    "}]\n",
    "\n",
    "# Confusion matrix for the test set\n",
    "cm_test_knn = confusion_matrix(y_test, y_pred_test_knn)\n",
    "conf_matrix_test_knn = pd.DataFrame(cm_test_knn, columns=['Non_Defaulters:0', 'Defaulters:1'], index=['Non_Defaulters:0', 'Defaulters:1'])\n",
    "sns.heatmap(conf_matrix_test_knn, annot=True, fmt='d', cmap='magma', cbar=False, linewidth=0.2)\n",
    "plt.title('Confusion Matrix - Test Set (KNN)')\n",
    "plt.show()\n",
    "\n",
    "scores_test_knn_df = pd.DataFrame(scores_test_knn)\n",
    "\n",
    "print(\"Test Set Scores - KNN\")\n",
    "print(scores_test_knn_df)\n"
   ]
  },
  {
   "cell_type": "code",
   "execution_count": null,
   "id": "67ac5889",
   "metadata": {},
   "outputs": [],
   "source": []
  },
  {
   "cell_type": "code",
   "execution_count": null,
   "id": "b4b591c0",
   "metadata": {},
   "outputs": [],
   "source": []
  },
  {
   "cell_type": "code",
   "execution_count": 25,
   "id": "952974c9",
   "metadata": {},
   "outputs": [],
   "source": [
    "# Fit the Decision Tree model\n",
    "dt_model = DecisionTreeClassifier().fit(X_train, y_train)\n",
    "\n",
    "# Predictions for the test set\n",
    "y_pred_test_dt = dt_model.predict(X_test)\n",
    "\n",
    "# Predictions for the train set\n",
    "y_pred_train_dt = dt_model.predict(X_train)\n",
    "\n",
    "# Calculate scores for the test set\n",
    "accuracy_test_dt = accuracy_score(y_test, y_pred_test_dt)\n",
    "precision_test_dt = precision_score(y_test, y_pred_test_dt)\n",
    "recall_test_dt = recall_score(y_test, y_pred_test_dt)\n",
    "f1_test_dt = f1_score(y_test, y_pred_test_dt)\n",
    "cv_scores_test_dt = cross_val_score(dt_model, X_train, y_train, cv=5, scoring='recall')\n",
    "\n",
    "# Calculate scores for the train set\n",
    "accuracy_train_dt = accuracy_score(y_train, y_pred_train_dt)\n",
    "precision_train_dt = precision_score(y_train, y_pred_train_dt)\n",
    "recall_train_dt = recall_score(y_train, y_pred_train_dt)\n",
    "f1_train_dt = f1_score(y_train, y_pred_train_dt)\n",
    "cv_scores_train_dt = cross_val_score(dt_model, X_train, y_train, cv=5, scoring='recall')"
   ]
  },
  {
   "cell_type": "code",
   "execution_count": 26,
   "id": "c1a29a79",
   "metadata": {},
   "outputs": [
    {
     "data": {
      "image/png": "[encoded data removed]",
      "text/plain": [
       "<Figure size 432x288 with 1 Axes>"
      ]
     },
     "metadata": {
      "needs_background": "light"
     },
     "output_type": "display_data"
    },
    {
     "name": "stdout",
     "output_type": "stream",
     "text": [
      "Train Set Scores - Decision Tree\n",
      "                    Model  Accuracy  Precision  Recall  F1 Score  \\\n",
      "0  DecisionTreeClassifier       1.0        1.0     1.0       1.0   \n",
      "\n",
      "   Cross_val_score  \n",
      "0             0.96  \n"
     ]
    }
   ],
   "source": [
    "# Store the results for the train set\n",
    "scores_train_dt = [{\n",
    "    'Model': 'DecisionTreeClassifier',\n",
    "    'Accuracy': round(accuracy_train_dt, 2),\n",
    "    'Precision': round(precision_train_dt, 2),\n",
    "    'Recall': round(recall_train_dt, 2),\n",
    "    'F1 Score': round(f1_train_dt, 2),\n",
    "    'Cross_val_score': round(cv_scores_train_dt.mean(), 2)\n",
    "}]\n",
    "\n",
    "# Confusion matrix for the train set\n",
    "cm_train_dt = confusion_matrix(y_train, y_pred_train_dt)\n",
    "conf_matrix_train_dt = pd.DataFrame(cm_train_dt, columns=['Non_Defaulters:0', 'Defaulters:1'], index=['Non_Defaulters:0', 'Defaulters:1'])\n",
    "sns.heatmap(conf_matrix_train_dt, annot=True, fmt='d', cmap='magma', cbar=False, linewidth=0.2)\n",
    "plt.title('Confusion Matrix - Train Set (Decision Tree)')\n",
    "plt.show()\n",
    "\n",
    "# Convert the results to DataFrames\n",
    "scores_train_dt_df = pd.DataFrame(scores_train_dt)\n",
    "\n",
    "print(\"Train Set Scores - Decision Tree\")\n",
    "print(scores_train_dt_df)\n"
   ]
  },
  {
   "cell_type": "code",
   "execution_count": 27,
   "id": "69fbf977",
   "metadata": {},
   "outputs": [
    {
     "data": {
      "image/png": "[encoded data removed]",
      "text/plain": [
       "<Figure size 432x288 with 1 Axes>"
      ]
     },
     "metadata": {
      "needs_background": "light"
     },
     "output_type": "display_data"
    },
    {
     "name": "stdout",
     "output_type": "stream",
     "text": [
      "Test Set Scores - Decision Tree\n",
      "                    Model  Accuracy  Precision  Recall  F1 Score  \\\n",
      "0  DecisionTreeClassifier      0.96       0.96    0.97      0.96   \n",
      "\n",
      "   Cross_val_score  \n",
      "0             0.96  \n"
     ]
    }
   ],
   "source": [
    "# Store the results for the test set\n",
    "scores_test_dt = [{\n",
    "    'Model': 'DecisionTreeClassifier',\n",
    "    'Accuracy': round(accuracy_test_dt, 2),\n",
    "    'Precision': round(precision_test_dt, 2),\n",
    "    'Recall': round(recall_test_dt, 2),\n",
    "    'F1 Score': round(f1_test_dt, 2),\n",
    "    'Cross_val_score': round(cv_scores_test_dt.mean(), 2)\n",
    "}]\n",
    "\n",
    "# Confusion matrix for the test set\n",
    "cm_test_dt = confusion_matrix(y_test, y_pred_test_dt)\n",
    "conf_matrix_test_dt = pd.DataFrame(cm_test_dt, columns=['Non_Defaulters:0', 'Defaulters:1'], index=['Non_Defaulters:0', 'Defaulters:1'])\n",
    "sns.heatmap(conf_matrix_test_dt, annot=True, fmt='d', cmap='magma', cbar=False, linewidth=0.2)\n",
    "plt.title('Confusion Matrix - Test Set (Decision Tree)')\n",
    "plt.show()\n",
    "\n",
    "scores_test_dt_df = pd.DataFrame(scores_test_dt)\n",
    "\n",
    "print(\"Test Set Scores - Decision Tree\")\n",
    "print(scores_test_dt_df)\n"
   ]
  },
  {
   "cell_type": "code",
   "execution_count": null,
   "id": "ee519323",
   "metadata": {},
   "outputs": [],
   "source": []
  },
  {
   "cell_type": "code",
   "execution_count": null,
   "id": "d83ddd23",
   "metadata": {},
   "outputs": [],
   "source": []
  },
  {
   "cell_type": "code",
   "execution_count": 28,
   "id": "f71e128e",
   "metadata": {},
   "outputs": [],
   "source": [
    "# Fit the Random Forest model\n",
    "rf_model = RandomForestClassifier().fit(X_train, y_train)\n",
    "\n",
    "# Predictions for the test set\n",
    "y_pred_test_rf = rf_model.predict(X_test)\n",
    "\n",
    "# Predictions for the train set\n",
    "y_pred_train_rf = rf_model.predict(X_train)\n",
    "\n",
    "# Calculate scores for the test set\n",
    "accuracy_test_rf = accuracy_score(y_test, y_pred_test_rf)\n",
    "precision_test_rf = precision_score(y_test, y_pred_test_rf)\n",
    "recall_test_rf = recall_score(y_test, y_pred_test_rf)\n",
    "f1_test_rf = f1_score(y_test, y_pred_test_rf)\n",
    "cv_scores_test_rf = cross_val_score(rf_model, X_train, y_train, cv=5, scoring='recall')\n",
    "\n",
    "# Calculate scores for the train set\n",
    "accuracy_train_rf = accuracy_score(y_train, y_pred_train_rf)\n",
    "precision_train_rf = precision_score(y_train, y_pred_train_rf)\n",
    "recall_train_rf = recall_score(y_train, y_pred_train_rf)\n",
    "f1_train_rf = f1_score(y_train, y_pred_train_rf)\n",
    "cv_scores_train_rf = cross_val_score(rf_model, X_train, y_train, cv=5, scoring='recall')"
   ]
  },
  {
   "cell_type": "code",
   "execution_count": 29,
   "id": "f7019637",
   "metadata": {},
   "outputs": [
    {
     "data": {
      "image/png": "[encoded data removed]",
      "text/plain": [
       "<Figure size 432x288 with 1 Axes>"
      ]
     },
     "metadata": {
      "needs_background": "light"
     },
     "output_type": "display_data"
    },
    {
     "name": "stdout",
     "output_type": "stream",
     "text": [
      "Train Set Scores - Random Forest\n",
      "                    Model  Accuracy  Precision  Recall  F1 Score  \\\n",
      "0  RandomForestClassifier       1.0        1.0     1.0       1.0   \n",
      "\n",
      "   Cross_val_score  \n",
      "0             0.98  \n"
     ]
    }
   ],
   "source": [
    "# Store the results for the train set\n",
    "scores_train_rf = [{\n",
    "    'Model': 'RandomForestClassifier',\n",
    "    'Accuracy': round(accuracy_train_rf, 2),\n",
    "    'Precision': round(precision_train_rf, 2),\n",
    "    'Recall': round(recall_train_rf, 2),\n",
    "    'F1 Score': round(f1_train_rf, 2),\n",
    "    'Cross_val_score': round(cv_scores_train_rf.mean(), 2)\n",
    "}]\n",
    "\n",
    "# Confusion matrix for the train set\n",
    "cm_train_rf = confusion_matrix(y_train, y_pred_train_rf)\n",
    "conf_matrix_train_rf = pd.DataFrame(cm_train_rf, columns=['Non_Defaulters:0', 'Defaulters:1'], index=['Non_Defaulters:0', 'Defaulters:1'])\n",
    "sns.heatmap(conf_matrix_train_rf, annot=True, fmt='d', cmap='magma', cbar=False, linewidth=0.2)\n",
    "plt.title('Confusion Matrix - Train Set (Random Forest)')\n",
    "plt.show()\n",
    "\n",
    "# Convert the results to DataFrames\n",
    "scores_train_rf_df = pd.DataFrame(scores_train_rf)\n",
    "\n",
    "print(\"Train Set Scores - Random Forest\")\n",
    "print(scores_train_rf_df)"
   ]
  },
  {
   "cell_type": "code",
   "execution_count": 30,
   "id": "1e22d9d4",
   "metadata": {},
   "outputs": [
    {
     "data": {
      "image/png": "[encoded data removed]",
      "text/plain": [
       "<Figure size 432x288 with 1 Axes>"
      ]
     },
     "metadata": {
      "needs_background": "light"
     },
     "output_type": "display_data"
    },
    {
     "name": "stdout",
     "output_type": "stream",
     "text": [
      "Test Set Scores - Random Forest\n",
      "                    Model  Accuracy  Precision  Recall  F1 Score  \\\n",
      "0  RandomForestClassifier      0.98       0.98    0.98      0.98   \n",
      "\n",
      "   Cross_val_score  \n",
      "0             0.98  \n"
     ]
    }
   ],
   "source": [
    "# Store the results for the test set\n",
    "scores_test_rf = [{\n",
    "    'Model': 'RandomForestClassifier',\n",
    "    'Accuracy': round(accuracy_test_rf, 2),\n",
    "    'Precision': round(precision_test_rf, 2),\n",
    "    'Recall': round(recall_test_rf, 2),\n",
    "    'F1 Score': round(f1_test_rf, 2),\n",
    "    'Cross_val_score': round(cv_scores_test_rf.mean(), 2)\n",
    "}]\n",
    "\n",
    "# Confusion matrix for the test set\n",
    "cm_test_rf = confusion_matrix(y_test, y_pred_test_rf)\n",
    "conf_matrix_test_rf = pd.DataFrame(cm_test_rf, columns=['Non_Defaulters:0', 'Defaulters:1'], index=['Non_Defaulters:0', 'Defaulters:1'])\n",
    "sns.heatmap(conf_matrix_test_rf, annot=True, fmt='d', cmap='magma', cbar=False, linewidth=0.2)\n",
    "plt.title('Confusion Matrix - Test Set (Random Forest)')\n",
    "plt.show()\n",
    "\n",
    "scores_test_rf_df = pd.DataFrame(scores_test_rf)\n",
    "\n",
    "print(\"Test Set Scores - Random Forest\")\n",
    "print(scores_test_rf_df)\n"
   ]
  },
  {
   "cell_type": "code",
   "execution_count": null,
   "id": "28256912",
   "metadata": {},
   "outputs": [],
   "source": []
  },
  {
   "cell_type": "code",
   "execution_count": null,
   "id": "b32647de",
   "metadata": {},
   "outputs": [],
   "source": []
  },
  {
   "cell_type": "code",
   "execution_count": 31,
   "id": "f0f12544",
   "metadata": {},
   "outputs": [],
   "source": [
    "# Fit the AdaBoost model\n",
    "ada_model = AdaBoostClassifier().fit(X_train, y_train)\n",
    "\n",
    "# Predictions for the test set\n",
    "y_pred_test_ada = ada_model.predict(X_test)\n",
    "\n",
    "# Predictions for the train set\n",
    "y_pred_train_ada = ada_model.predict(X_train)\n",
    "\n",
    "# Calculate scores for the test set\n",
    "accuracy_test_ada = accuracy_score(y_test, y_pred_test_ada)\n",
    "precision_test_ada = precision_score(y_test, y_pred_test_ada)\n",
    "recall_test_ada = recall_score(y_test, y_pred_test_ada)\n",
    "f1_test_ada = f1_score(y_test, y_pred_test_ada)\n",
    "cv_scores_test_ada = cross_val_score(ada_model, X_train, y_train, cv=5, scoring='recall')\n",
    "\n",
    "# Calculate scores for the train set\n",
    "accuracy_train_ada = accuracy_score(y_train, y_pred_train_ada)\n",
    "precision_train_ada = precision_score(y_train, y_pred_train_ada)\n",
    "recall_train_ada = recall_score(y_train, y_pred_train_ada)\n",
    "f1_train_ada = f1_score(y_train, y_pred_train_ada)\n",
    "cv_scores_train_ada = cross_val_score(ada_model, X_train, y_train, cv=5, scoring='recall')\n"
   ]
  },
  {
   "cell_type": "code",
   "execution_count": 32,
   "id": "5aeb1ebd",
   "metadata": {},
   "outputs": [
    {
     "data": {
      "image/png": "[encoded data removed]",
      "text/plain": [
       "<Figure size 432x288 with 1 Axes>"
      ]
     },
     "metadata": {
      "needs_background": "light"
     },
     "output_type": "display_data"
    },
    {
     "name": "stdout",
     "output_type": "stream",
     "text": [
      "Train Set Scores - AdaBoost\n",
      "                Model  Accuracy  Precision  Recall  F1 Score  Cross_val_score\n",
      "0  AdaBoostClassifier      0.85       0.86    0.84      0.85             0.85\n"
     ]
    }
   ],
   "source": [
    "# Store the results for the train set\n",
    "scores_train_ada = [{\n",
    "    'Model': 'AdaBoostClassifier',\n",
    "    'Accuracy': round(accuracy_train_ada, 2),\n",
    "    'Precision': round(precision_train_ada, 2),\n",
    "    'Recall': round(recall_train_ada, 2),\n",
    "    'F1 Score': round(f1_train_ada, 2),\n",
    "    'Cross_val_score': round(cv_scores_train_ada.mean(), 2)\n",
    "}]\n",
    "\n",
    "# Confusion matrix for the train set\n",
    "cm_train_ada = confusion_matrix(y_train, y_pred_train_ada)\n",
    "conf_matrix_train_ada = pd.DataFrame(cm_train_ada, columns=['Non_Defaulters:0', 'Defaulters:1'], index=['Non_Defaulters:0', 'Defaulters:1'])\n",
    "sns.heatmap(conf_matrix_train_ada, annot=True, fmt='d', cmap='magma', cbar=False, linewidth=0.2)\n",
    "plt.title('Confusion Matrix - Train Set (AdaBoost)')\n",
    "plt.show()\n",
    "\n",
    "# Convert the results to DataFrames\n",
    "scores_train_ada_df = pd.DataFrame(scores_train_ada)\n",
    "\n",
    "print(\"Train Set Scores - AdaBoost\")\n",
    "print(scores_train_ada_df)\n"
   ]
  },
  {
   "cell_type": "code",
   "execution_count": 33,
   "id": "2c61ffaf",
   "metadata": {},
   "outputs": [
    {
     "data": {
      "image/png": "[encoded data removed]",
      "text/plain": [
       "<Figure size 432x288 with 1 Axes>"
      ]
     },
     "metadata": {
      "needs_background": "light"
     },
     "output_type": "display_data"
    },
    {
     "name": "stdout",
     "output_type": "stream",
     "text": [
      "Test Set Scores - AdaBoost\n",
      "                Model  Accuracy  Precision  Recall  F1 Score  Cross_val_score\n",
      "0  AdaBoostClassifier      0.85       0.86    0.84      0.85             0.85\n"
     ]
    }
   ],
   "source": [
    "# Store the results for the test set\n",
    "scores_test_ada = [{\n",
    "    'Model': 'AdaBoostClassifier',\n",
    "    'Accuracy': round(accuracy_test_ada, 2),\n",
    "    'Precision': round(precision_test_ada, 2),\n",
    "    'Recall': round(recall_test_ada, 2),\n",
    "    'F1 Score': round(f1_test_ada, 2),\n",
    "    'Cross_val_score': round(cv_scores_test_ada.mean(), 2)\n",
    "}]\n",
    "\n",
    "# Confusion matrix for the test set\n",
    "cm_test_ada = confusion_matrix(y_test, y_pred_test_ada)\n",
    "conf_matrix_test_ada = pd.DataFrame(cm_test_ada, columns=['Non_Defaulters:0', 'Defaulters:1'], index=['Non_Defaulters:0', 'Defaulters:1'])\n",
    "sns.heatmap(conf_matrix_test_ada, annot=True, fmt='d', cmap='magma', cbar=False, linewidth=0.2)\n",
    "plt.title('Confusion Matrix - Test Set (AdaBoost)')\n",
    "plt.show()\n",
    "\n",
    "scores_test_ada_df = pd.DataFrame(scores_test_ada)\n",
    "\n",
    "print(\"Test Set Scores - AdaBoost\")\n",
    "print(scores_test_ada_df)\n"
   ]
  },
  {
   "cell_type": "code",
   "execution_count": null,
   "id": "bbb6ad82",
   "metadata": {},
   "outputs": [],
   "source": []
  },
  {
   "cell_type": "code",
   "execution_count": null,
   "id": "eb3a17db",
   "metadata": {},
   "outputs": [],
   "source": []
  },
  {
   "cell_type": "code",
   "execution_count": 34,
   "id": "974d6598",
   "metadata": {},
   "outputs": [],
   "source": [
    "# Fit the Gradient Boosting model\n",
    "gbm_model = GradientBoostingClassifier().fit(X_train, y_train)\n",
    "\n",
    "# Predictions for the test set\n",
    "y_pred_test_gbm = gbm_model.predict(X_test)\n",
    "\n",
    "# Predictions for the train set\n",
    "y_pred_train_gbm = gbm_model.predict(X_train)\n",
    "\n",
    "# Calculate scores for the test set\n",
    "accuracy_test_gbm = accuracy_score(y_test, y_pred_test_gbm)\n",
    "precision_test_gbm = precision_score(y_test, y_pred_test_gbm)\n",
    "recall_test_gbm = recall_score(y_test, y_pred_test_gbm)\n",
    "f1_test_gbm = f1_score(y_test, y_pred_test_gbm)\n",
    "cv_scores_test_gbm = cross_val_score(gbm_model, X_train, y_train, cv=5, scoring='recall')\n",
    "\n",
    "# Calculate scores for the train set\n",
    "accuracy_train_gbm = accuracy_score(y_train, y_pred_train_gbm)\n",
    "precision_train_gbm = precision_score(y_train, y_pred_train_gbm)\n",
    "recall_train_gbm = recall_score(y_train, y_pred_train_gbm)\n",
    "f1_train_gbm = f1_score(y_train, y_pred_train_gbm)\n",
    "cv_scores_train_gbm = cross_val_score(gbm_model, X_train, y_train, cv=5, scoring='recall')"
   ]
  },
  {
   "cell_type": "code",
   "execution_count": 35,
   "id": "2d929bc8",
   "metadata": {},
   "outputs": [
    {
     "data": {
      "image/png": "[encoded data removed]",
      "text/plain": [
       "<Figure size 432x288 with 1 Axes>"
      ]
     },
     "metadata": {
      "needs_background": "light"
     },
     "output_type": "display_data"
    },
    {
     "name": "stdout",
     "output_type": "stream",
     "text": [
      "Train Set Scores - Gradient Boosting\n",
      "                        Model  Accuracy  Precision  Recall  F1 Score  \\\n",
      "0  GradientBoostingClassifier       0.9       0.92    0.87       0.9   \n",
      "\n",
      "   Cross_val_score  \n",
      "0             0.88  \n"
     ]
    }
   ],
   "source": [
    "# Store the results for the train set\n",
    "scores_train_gbm = [{\n",
    "    'Model': 'GradientBoostingClassifier',\n",
    "    'Accuracy': round(accuracy_train_gbm, 2),\n",
    "    'Precision': round(precision_train_gbm, 2),\n",
    "    'Recall': round(recall_train_gbm, 2),\n",
    "    'F1 Score': round(f1_train_gbm, 2),\n",
    "    'Cross_val_score': round(cv_scores_train_gbm.mean(), 2)\n",
    "}]\n",
    "\n",
    "# Confusion matrix for the train set\n",
    "cm_train_gbm = confusion_matrix(y_train, y_pred_train_gbm)\n",
    "conf_matrix_train_gbm = pd.DataFrame(cm_train_gbm, columns=['Non_Defaulters:0', 'Defaulters:1'], index=['Non_Defaulters:0', 'Defaulters:1'])\n",
    "sns.heatmap(conf_matrix_train_gbm, annot=True, fmt='d', cmap='magma', cbar=False, linewidth=0.2)\n",
    "plt.title('Confusion Matrix - Train Set (Gradient Boosting)')\n",
    "plt.show()\n",
    "\n",
    "# Convert the results to DataFrames\n",
    "scores_train_gbm_df = pd.DataFrame(scores_train_gbm)\n",
    "\n",
    "print(\"Train Set Scores - Gradient Boosting\")\n",
    "print(scores_train_gbm_df)"
   ]
  },
  {
   "cell_type": "code",
   "execution_count": 36,
   "id": "26884765",
   "metadata": {},
   "outputs": [
    {
     "data": {
      "image/png": "[encoded data removed]",
      "text/plain": [
       "<Figure size 432x288 with 1 Axes>"
      ]
     },
     "metadata": {
      "needs_background": "light"
     },
     "output_type": "display_data"
    },
    {
     "name": "stdout",
     "output_type": "stream",
     "text": [
      "Test Set Scores - Gradient Boosting\n",
      "                        Model  Accuracy  Precision  Recall  F1 Score  \\\n",
      "0  GradientBoostingClassifier       0.9       0.92    0.87       0.9   \n",
      "\n",
      "   Cross_val_score  \n",
      "0             0.88  \n"
     ]
    }
   ],
   "source": [
    "# Store the results for the test set\n",
    "scores_test_gbm = [{\n",
    "    'Model': 'GradientBoostingClassifier',\n",
    "    'Accuracy': round(accuracy_test_gbm, 2),\n",
    "    'Precision': round(precision_test_gbm, 2),\n",
    "    'Recall': round(recall_test_gbm, 2),\n",
    "    'F1 Score': round(f1_test_gbm, 2),\n",
    "    'Cross_val_score': round(cv_scores_test_gbm.mean(), 2)\n",
    "}]\n",
    "\n",
    "# Confusion matrix for the test set\n",
    "cm_test_gbm = confusion_matrix(y_test, y_pred_test_gbm)\n",
    "conf_matrix_test_gbm = pd.DataFrame(cm_test_gbm, columns=['Non_Defaulters:0', 'Defaulters:1'], index=['Non_Defaulters:0', 'Defaulters:1'])\n",
    "sns.heatmap(conf_matrix_test_gbm, annot=True, fmt='d', cmap='magma', cbar=False, linewidth=0.2)\n",
    "plt.title('Confusion Matrix - Test Set (Gradient Boosting)')\n",
    "plt.show()\n",
    "\n",
    "scores_test_gbm_df = pd.DataFrame(scores_test_gbm)\n",
    "\n",
    "print(\"Test Set Scores - Gradient Boosting\")\n",
    "print(scores_test_gbm_df)\n"
   ]
  },
  {
   "cell_type": "code",
   "execution_count": null,
   "id": "9c8dbcfb",
   "metadata": {},
   "outputs": [],
   "source": []
  },
  {
   "cell_type": "code",
   "execution_count": null,
   "id": "26ce6e4c",
   "metadata": {},
   "outputs": [],
   "source": []
  },
  {
   "cell_type": "code",
   "execution_count": 37,
   "id": "c145d9c5",
   "metadata": {},
   "outputs": [],
   "source": [
    "# Fit the XGBoost model\n",
    "xgb_model = XGBClassifier().fit(X_train, y_train)\n",
    "\n",
    "# Predictions for the test set\n",
    "y_pred_test_xgb = xgb_model.predict(X_test)\n",
    "\n",
    "# Predictions for the train set\n",
    "y_pred_train_xgb = xgb_model.predict(X_train)\n",
    "\n",
    "# Calculate scores for the test set\n",
    "accuracy_test_xgb = accuracy_score(y_test, y_pred_test_xgb)\n",
    "precision_test_xgb = precision_score(y_test, y_pred_test_xgb)\n",
    "recall_test_xgb = recall_score(y_test, y_pred_test_xgb)\n",
    "f1_test_xgb = f1_score(y_test, y_pred_test_xgb)\n",
    "cv_scores_test_xgb = cross_val_score(xgb_model, X_train, y_train, cv=5, scoring='recall')\n",
    "\n",
    "# Calculate scores for the train set\n",
    "accuracy_train_xgb = accuracy_score(y_train, y_pred_train_xgb)\n",
    "precision_train_xgb = precision_score(y_train, y_pred_train_xgb)\n",
    "recall_train_xgb = recall_score(y_train, y_pred_train_xgb)\n",
    "f1_train_xgb = f1_score(y_train, y_pred_train_xgb)\n",
    "cv_scores_train_xgb = cross_val_score(xgb_model, X_train, y_train, cv=5, scoring='recall')\n"
   ]
  },
  {
   "cell_type": "code",
   "execution_count": 38,
   "id": "348a92bc",
   "metadata": {},
   "outputs": [
    {
     "data": {
      "image/png": "[encoded data removed]",
      "text/plain": [
       "<Figure size 432x288 with 1 Axes>"
      ]
     },
     "metadata": {
      "needs_background": "light"
     },
     "output_type": "display_data"
    },
    {
     "name": "stdout",
     "output_type": "stream",
     "text": [
      "Train Set Scores - XGBoost\n",
      "           Model  Accuracy  Precision  Recall  F1 Score  Cross_val_score\n",
      "0  XGBClassifier      0.99        1.0    0.98      0.99             0.97\n"
     ]
    }
   ],
   "source": [
    "# Store the results for the train set\n",
    "scores_train_xgb = [{\n",
    "    'Model': 'XGBClassifier',\n",
    "    'Accuracy': round(accuracy_train_xgb, 2),\n",
    "    'Precision': round(precision_train_xgb, 2),\n",
    "    'Recall': round(recall_train_xgb, 2),\n",
    "    'F1 Score': round(f1_train_xgb, 2),\n",
    "    'Cross_val_score': round(cv_scores_train_xgb.mean(), 2)\n",
    "}]\n",
    "\n",
    "# Confusion matrix for the train set\n",
    "cm_train_xgb = confusion_matrix(y_train, y_pred_train_xgb)\n",
    "conf_matrix_train_xgb = pd.DataFrame(cm_train_xgb, columns=['Non_Defaulters:0', 'Defaulters:1'], index=['Non_Defaulters:0', 'Defaulters:1'])\n",
    "sns.heatmap(conf_matrix_train_xgb, annot=True, fmt='d', cmap='magma', cbar=False, linewidth=0.2)\n",
    "plt.title('Confusion Matrix - Train Set (XGBoost)')\n",
    "plt.show()\n",
    "\n",
    "# Convert the results to DataFrames\n",
    "scores_train_xgb_df = pd.DataFrame(scores_train_xgb)\n",
    "\n",
    "print(\"Train Set Scores - XGBoost\")\n",
    "print(scores_train_xgb_df)"
   ]
  },
  {
   "cell_type": "code",
   "execution_count": 39,
   "id": "1171d856",
   "metadata": {},
   "outputs": [
    {
     "data": {
      "image/png": "[encoded data removed]",
      "text/plain": [
       "<Figure size 432x288 with 1 Axes>"
      ]
     },
     "metadata": {
      "needs_background": "light"
     },
     "output_type": "display_data"
    },
    {
     "name": "stdout",
     "output_type": "stream",
     "text": [
      "Test Set Scores - XGBoost\n",
      "           Model  Accuracy  Precision  Recall  F1 Score  Cross_val_score\n",
      "0  XGBClassifier      0.98       0.99    0.97      0.98             0.97\n"
     ]
    }
   ],
   "source": [
    "# Store the results for the test set\n",
    "scores_test_xgb = [{\n",
    "    'Model': 'XGBClassifier',\n",
    "    'Accuracy': round(accuracy_test_xgb, 2),\n",
    "    'Precision': round(precision_test_xgb, 2),\n",
    "    'Recall': round(recall_test_xgb, 2),\n",
    "    'F1 Score': round(f1_test_xgb, 2),\n",
    "    'Cross_val_score': round(cv_scores_test_xgb.mean(), 2)\n",
    "}]\n",
    "\n",
    "# Confusion matrix for the test set\n",
    "cm_test_xgb = confusion_matrix(y_test, y_pred_test_xgb)\n",
    "conf_matrix_test_xgb = pd.DataFrame(cm_test_xgb, columns=['Non_Defaulters:0', 'Defaulters:1'], index=['Non_Defaulters:0', 'Defaulters:1'])\n",
    "sns.heatmap(conf_matrix_test_xgb, annot=True, fmt='d', cmap='magma', cbar=False, linewidth=0.2)\n",
    "plt.title('Confusion Matrix - Test Set (XGBoost)')\n",
    "plt.show()\n",
    "\n",
    "scores_test_xgb_df = pd.DataFrame(scores_test_xgb)\n",
    "\n",
    "print(\"Test Set Scores - XGBoost\")\n",
    "print(scores_test_xgb_df)"
   ]
  },
  {
   "cell_type": "code",
   "execution_count": null,
   "id": "e992c5b4",
   "metadata": {},
   "outputs": [],
   "source": []
  },
  {
   "cell_type": "code",
   "execution_count": 42,
   "id": "5a3813a7",
   "metadata": {},
   "outputs": [
    {
     "data": {
      "text/html": [
       "<div>\n",
       "<style scoped>\n",
       "    .dataframe tbody tr th:only-of-type {\n",
       "        vertical-align: middle;\n",
       "    }\n",
       "\n",
       "    .dataframe tbody tr th {\n",
       "        vertical-align: top;\n",
       "    }\n",
       "\n",
       "    .dataframe thead th {\n",
       "        text-align: right;\n",
       "    }\n",
       "</style>\n",
       "<table border=\"1\" class=\"dataframe\">\n",
       "  <thead>\n",
       "    <tr style=\"text-align: right;\">\n",
       "      <th></th>\n",
       "      <th>Model</th>\n",
       "      <th>Accuracy</th>\n",
       "      <th>Precision</th>\n",
       "      <th>Recall</th>\n",
       "      <th>F1 Score</th>\n",
       "      <th>Cross_val_score</th>\n",
       "    </tr>\n",
       "  </thead>\n",
       "  <tbody>\n",
       "    <tr>\n",
       "      <th>0</th>\n",
       "      <td>KNeighborsClassifier</td>\n",
       "      <td>0.95</td>\n",
       "      <td>0.91</td>\n",
       "      <td>1.00</td>\n",
       "      <td>0.95</td>\n",
       "      <td>0.99</td>\n",
       "    </tr>\n",
       "    <tr>\n",
       "      <th>0</th>\n",
       "      <td>DecisionTreeClassifier</td>\n",
       "      <td>1.00</td>\n",
       "      <td>1.00</td>\n",
       "      <td>1.00</td>\n",
       "      <td>1.00</td>\n",
       "      <td>0.96</td>\n",
       "    </tr>\n",
       "    <tr>\n",
       "      <th>0</th>\n",
       "      <td>RandomForestClassifier</td>\n",
       "      <td>1.00</td>\n",
       "      <td>1.00</td>\n",
       "      <td>1.00</td>\n",
       "      <td>1.00</td>\n",
       "      <td>0.98</td>\n",
       "    </tr>\n",
       "    <tr>\n",
       "      <th>0</th>\n",
       "      <td>XGBClassifier</td>\n",
       "      <td>0.99</td>\n",
       "      <td>1.00</td>\n",
       "      <td>0.98</td>\n",
       "      <td>0.99</td>\n",
       "      <td>0.97</td>\n",
       "    </tr>\n",
       "    <tr>\n",
       "      <th>0</th>\n",
       "      <td>NaiveBayes</td>\n",
       "      <td>0.54</td>\n",
       "      <td>0.52</td>\n",
       "      <td>0.93</td>\n",
       "      <td>0.67</td>\n",
       "      <td>0.85</td>\n",
       "    </tr>\n",
       "    <tr>\n",
       "      <th>0</th>\n",
       "      <td>GradientBoostingClassifier</td>\n",
       "      <td>0.90</td>\n",
       "      <td>0.92</td>\n",
       "      <td>0.87</td>\n",
       "      <td>0.90</td>\n",
       "      <td>0.88</td>\n",
       "    </tr>\n",
       "    <tr>\n",
       "      <th>0</th>\n",
       "      <td>AdaBoostClassifier</td>\n",
       "      <td>0.85</td>\n",
       "      <td>0.86</td>\n",
       "      <td>0.84</td>\n",
       "      <td>0.85</td>\n",
       "      <td>0.85</td>\n",
       "    </tr>\n",
       "    <tr>\n",
       "      <th>0</th>\n",
       "      <td>LogisticRegression</td>\n",
       "      <td>0.71</td>\n",
       "      <td>0.76</td>\n",
       "      <td>0.62</td>\n",
       "      <td>0.68</td>\n",
       "      <td>0.62</td>\n",
       "    </tr>\n",
       "  </tbody>\n",
       "</table>\n",
       "</div>"
      ],
      "text/plain": [
       "                        Model  Accuracy  Precision  Recall  F1 Score  \\\n",
       "0        KNeighborsClassifier      0.95       0.91    1.00      0.95   \n",
       "0      DecisionTreeClassifier      1.00       1.00    1.00      1.00   \n",
       "0      RandomForestClassifier      1.00       1.00    1.00      1.00   \n",
       "0               XGBClassifier      0.99       1.00    0.98      0.99   \n",
       "0                  NaiveBayes      0.54       0.52    0.93      0.67   \n",
       "0  GradientBoostingClassifier      0.90       0.92    0.87      0.90   \n",
       "0          AdaBoostClassifier      0.85       0.86    0.84      0.85   \n",
       "0          LogisticRegression      0.71       0.76    0.62      0.68   \n",
       "\n",
       "   Cross_val_score  \n",
       "0             0.99  \n",
       "0             0.96  \n",
       "0             0.98  \n",
       "0             0.97  \n",
       "0             0.85  \n",
       "0             0.88  \n",
       "0             0.85  \n",
       "0             0.62  "
      ]
     },
     "execution_count": 42,
     "metadata": {},
     "output_type": "execute_result"
    }
   ],
   "source": [
    "train_scores = pd.concat([scores_train_df, scores_train_nb_df, scores_train_knn_df, scores_train_dt_df, scores_train_rf_df, scores_train_ada_df, scores_train_gbm_df, scores_train_xgb_df])\n",
    "train_scores.sort_values(by = 'Recall', ascending = False)"
   ]
  },
  {
   "cell_type": "code",
   "execution_count": 43,
   "id": "9e9b1926",
   "metadata": {},
   "outputs": [
    {
     "data": {
      "text/html": [
       "<div>\n",
       "<style scoped>\n",
       "    .dataframe tbody tr th:only-of-type {\n",
       "        vertical-align: middle;\n",
       "    }\n",
       "\n",
       "    .dataframe tbody tr th {\n",
       "        vertical-align: top;\n",
       "    }\n",
       "\n",
       "    .dataframe thead th {\n",
       "        text-align: right;\n",
       "    }\n",
       "</style>\n",
       "<table border=\"1\" class=\"dataframe\">\n",
       "  <thead>\n",
       "    <tr style=\"text-align: right;\">\n",
       "      <th></th>\n",
       "      <th>Model</th>\n",
       "      <th>Accuracy</th>\n",
       "      <th>Precision</th>\n",
       "      <th>Recall</th>\n",
       "      <th>F1 Score</th>\n",
       "      <th>Cross_val_score</th>\n",
       "    </tr>\n",
       "  </thead>\n",
       "  <tbody>\n",
       "    <tr>\n",
       "      <th>0</th>\n",
       "      <td>KNeighborsClassifier</td>\n",
       "      <td>0.93</td>\n",
       "      <td>0.88</td>\n",
       "      <td>0.99</td>\n",
       "      <td>0.93</td>\n",
       "      <td>0.99</td>\n",
       "    </tr>\n",
       "    <tr>\n",
       "      <th>0</th>\n",
       "      <td>RandomForestClassifier</td>\n",
       "      <td>0.98</td>\n",
       "      <td>0.98</td>\n",
       "      <td>0.98</td>\n",
       "      <td>0.98</td>\n",
       "      <td>0.98</td>\n",
       "    </tr>\n",
       "    <tr>\n",
       "      <th>0</th>\n",
       "      <td>DecisionTreeClassifier</td>\n",
       "      <td>0.96</td>\n",
       "      <td>0.96</td>\n",
       "      <td>0.97</td>\n",
       "      <td>0.96</td>\n",
       "      <td>0.96</td>\n",
       "    </tr>\n",
       "    <tr>\n",
       "      <th>0</th>\n",
       "      <td>XGBClassifier</td>\n",
       "      <td>0.98</td>\n",
       "      <td>0.99</td>\n",
       "      <td>0.97</td>\n",
       "      <td>0.98</td>\n",
       "      <td>0.97</td>\n",
       "    </tr>\n",
       "    <tr>\n",
       "      <th>0</th>\n",
       "      <td>NaiveBayes</td>\n",
       "      <td>0.54</td>\n",
       "      <td>0.52</td>\n",
       "      <td>0.93</td>\n",
       "      <td>0.67</td>\n",
       "      <td>0.85</td>\n",
       "    </tr>\n",
       "    <tr>\n",
       "      <th>0</th>\n",
       "      <td>GradientBoostingClassifier</td>\n",
       "      <td>0.90</td>\n",
       "      <td>0.92</td>\n",
       "      <td>0.87</td>\n",
       "      <td>0.90</td>\n",
       "      <td>0.88</td>\n",
       "    </tr>\n",
       "    <tr>\n",
       "      <th>0</th>\n",
       "      <td>AdaBoostClassifier</td>\n",
       "      <td>0.85</td>\n",
       "      <td>0.86</td>\n",
       "      <td>0.84</td>\n",
       "      <td>0.85</td>\n",
       "      <td>0.85</td>\n",
       "    </tr>\n",
       "    <tr>\n",
       "      <th>0</th>\n",
       "      <td>LogisticRegression</td>\n",
       "      <td>0.71</td>\n",
       "      <td>0.76</td>\n",
       "      <td>0.62</td>\n",
       "      <td>0.68</td>\n",
       "      <td>0.62</td>\n",
       "    </tr>\n",
       "  </tbody>\n",
       "</table>\n",
       "</div>"
      ],
      "text/plain": [
       "                        Model  Accuracy  Precision  Recall  F1 Score  \\\n",
       "0        KNeighborsClassifier      0.93       0.88    0.99      0.93   \n",
       "0      RandomForestClassifier      0.98       0.98    0.98      0.98   \n",
       "0      DecisionTreeClassifier      0.96       0.96    0.97      0.96   \n",
       "0               XGBClassifier      0.98       0.99    0.97      0.98   \n",
       "0                  NaiveBayes      0.54       0.52    0.93      0.67   \n",
       "0  GradientBoostingClassifier      0.90       0.92    0.87      0.90   \n",
       "0          AdaBoostClassifier      0.85       0.86    0.84      0.85   \n",
       "0          LogisticRegression      0.71       0.76    0.62      0.68   \n",
       "\n",
       "   Cross_val_score  \n",
       "0             0.99  \n",
       "0             0.98  \n",
       "0             0.96  \n",
       "0             0.97  \n",
       "0             0.85  \n",
       "0             0.88  \n",
       "0             0.85  \n",
       "0             0.62  "
      ]
     },
     "execution_count": 43,
     "metadata": {},
     "output_type": "execute_result"
    }
   ],
   "source": [
    "test_scores = pd.concat([scores_test_df, scores_test_nb_df, scores_test_knn_df, scores_test_dt_df, scores_test_rf_df, scores_test_ada_df, scores_test_gbm_df, scores_test_xgb_df])\n",
    "test_scores.sort_values(by = 'Recall', ascending = False)"
   ]
  },
  {
   "cell_type": "code",
   "execution_count": null,
   "id": "6c5987d0",
   "metadata": {},
   "outputs": [],
   "source": []
  },
  {
   "cell_type": "code",
   "execution_count": null,
   "id": "bfd043b8",
   "metadata": {},
   "outputs": [],
   "source": []
  },
  {
   "cell_type": "markdown",
   "id": "48ab720f",
   "metadata": {},
   "source": [
    "# <font color = 'green'>Hyper Parameter Tuning"
   ]
  },
  {
   "cell_type": "code",
   "execution_count": null,
   "id": "6ef2a27a",
   "metadata": {},
   "outputs": [],
   "source": [
    "tune_param = [{'n_neighbors' : [3,5,7,9],\n",
    "              'weights' : ['uniform', 'distance'],\n",
    "              'metric' : ['euclidean', 'manhattan'],\n",
    "              'algorithm' : ['auto', 'ball_tree', 'kd_tree']}]\n",
    "\n",
    "knn_model = KNeighborsClassifier()\n",
    "grid_knn = GridSearchCV(estimator = knn_model, param_grid = tune_param, cv = 5, scoring = 'recall').fit(X_train, y_train)\n",
    "print('Best Hyper Parameters for KNN Classifier are :',grid_knn.best_params_,'\\n')"
   ]
  },
  {
   "cell_type": "code",
   "execution_count": null,
   "id": "bdfe380f",
   "metadata": {},
   "outputs": [],
   "source": [
    "knn_hyp_model = KNeighborsClassifier().fit(X_train, y_train)\n",
    "y_pred_knn = knn_hyp_model.predict(X_test)\n",
    "\n",
    "accuracy = accuracy_score(y_test, y_pred_knn)\n",
    "recall = recall_score(y_test, y_pred_knn)\n",
    "precision = precision_score(y_test, y_pred_knn)\n",
    "f1 = f1_score(y_test, y_pred_knn)\n",
    "cross_val = cross_val_score(knn_hyp_model, X_train, y_train, cv = 5, scoring = 'recall')  \n",
    "\n",
    "hyp_scores = []\n",
    "\n",
    "hyp_scores.append({\n",
    "    'Model' : 'KNeighborsClassifier',\n",
    "    'Accuracy' : round(accuracy,2),\n",
    "    'Precision' : round(precision,2),\n",
    "    'Recall' : round(recall,2),\n",
    "    'F1 Score' : round(f1,2),\n",
    "    'Cross_val_score' : round(cv_scores.mean(),2)\n",
    "})\n",
    "\n",
    "cm = confusion_matrix(y_test, y_pred_knn)\n",
    "conf_matrix = pd.DataFrame(cm, columns = ['Non_Defaulters:0', 'Defaulters:1'], index = ['Non_Defaulters:0', 'Defaulters:1'])\n",
    "sns.heatmap(conf_matrix, annot = True, fmt = 'd', cmap = 'magma', cbar = False, linewidth = 0.2)\n",
    "plt.show()\n",
    "\n",
    "hyp_scores_df = pd.DataFrame(hyp_scores)\n",
    "hyp_scores_df"
   ]
  },
  {
   "cell_type": "code",
   "execution_count": null,
   "id": "86dcf170",
   "metadata": {},
   "outputs": [],
   "source": []
  },
  {
   "cell_type": "code",
   "execution_count": null,
   "id": "7fe5f531",
   "metadata": {},
   "outputs": [],
   "source": [
    "tune_param_dt = {\n",
    "    'max_depth': [10, 20, 30],  # Added None for no limit\n",
    "    'min_samples_split': [2, 5, 10],\n",
    "    'min_samples_leaf': [1, 2, 4],\n",
    "    'max_features': ['auto', 'sqrt', 'log2'],  # Added None for no limit\n",
    "    'criterion': ['gini', 'entropy'],  # Including criterion parameter\n",
    "    'splitter': ['best', 'random']  # Including splitter parameter\n",
    "}\n",
    "\n",
    "dt_model = DecisionTreeClassifier()\n",
    "grid_dt = GridSearchCV(estimator=dt_model, param_grid=tune_param_dt, cv=5, scoring='recall').fit(X_train, y_train)\n",
    "print('Best Hyper Parameters for Decision Tree Classifier are:', grid_dt.best_params_, '\\n')"
   ]
  },
  {
   "cell_type": "code",
   "execution_count": null,
   "id": "2db2caf3",
   "metadata": {},
   "outputs": [],
   "source": [
    "dt_hyp_model = DecisionTreeClassifier().fit(X_train, y_train)\n",
    "y_pred_dt = dt_hyp_model.predict(X_test)\n",
    "\n",
    "accuracy = accuracy_score(y_test, y_pred_dt)\n",
    "recall = recall_score(y_test, y_pred_dt)\n",
    "precision = precision_score(y_test, y_pred_dt)\n",
    "f1 = f1_score(y_test, y_pred_dt)\n",
    "cross_val = cross_val_score(dt_hyp_model, X_train, y_train, cv = 5, scoring = 'recall')  \n",
    "\n",
    "hyp_scores = []\n",
    "\n",
    "hyp_scores.append({\n",
    "    'Model' : 'DecisionTreeClassifier',\n",
    "    'Accuracy' : round(accuracy,2),\n",
    "    'Precision' : round(precision,2),\n",
    "    'Recall' : round(recall,2),\n",
    "    'F1 Score' : round(f1,2),\n",
    "    'Cross_val_score' : round(cv_scores.mean(),2)\n",
    "})\n",
    "\n",
    "cm = confusion_matrix(y_test, y_pred_dt)\n",
    "conf_matrix = pd.DataFrame(cm, columns = ['Non_Defaulters:0', 'Defaulters:1'], index = ['Non_Defaulters:0', 'Defaulters:1'])\n",
    "sns.heatmap(conf_matrix, annot = True, fmt = 'd', cmap = 'magma', cbar = False, linewidth = 0.2)\n",
    "plt.show()\n",
    "\n",
    "hyp_scores_df1 = pd.DataFrame(hyp_scores)\n",
    "hyp_scores_df = pd.concat([hyp_scores_df1, hyp_scores_df])\n",
    "hyp_scores_df"
   ]
  },
  {
   "cell_type": "code",
   "execution_count": null,
   "id": "ae1ef96d",
   "metadata": {},
   "outputs": [],
   "source": []
  },
  {
   "cell_type": "code",
   "execution_count": null,
   "id": "488162d9",
   "metadata": {},
   "outputs": [],
   "source": [
    "tune_param_rf = [{\n",
    "    'n_estimators': [10, 50, 100],\n",
    "    'max_depth': [10, 20, 30],\n",
    "    'min_samples_split': [2, 5, 10],\n",
    "    'min_samples_leaf': [1, 2, 4],\n",
    "    'max_features': ['auto', 'sqrt', 'log2'],  \n",
    "    'bootstrap': [True, False],  \n",
    "    'criterion': ['gini', 'entropy']\n",
    "}]\n",
    "\n",
    "rf_model = RandomForestClassifier()\n",
    "grid_rf = GridSearchCV(estimator=rf_model, param_grid=tune_param_rf, cv=5, scoring='recall').fit(X_train, y_train)\n",
    "print('Best Hyper Parameters for Random Forest Classifier are:', grid_rf.best_params_, '\\n')"
   ]
  },
  {
   "cell_type": "code",
   "execution_count": null,
   "id": "6bbc6cf3",
   "metadata": {},
   "outputs": [],
   "source": [
    "rf_hyp_model = RandomForestClassifier().fit(X_train, y_train)\n",
    "y_pred_rf = rf_hyp_model.predict(X_test)\n",
    "\n",
    "accuracy = accuracy_score(y_test, y_pred_rf)\n",
    "recall = recall_score(y_test, y_pred_rf)\n",
    "precision = precision_score(y_test, y_pred_rf)\n",
    "f1 = f1_score(y_test, y_pred_rf)\n",
    "cross_val = cross_val_score(rf_hyp_model, X_train, y_train, cv = 5, scoring = 'recall')  \n",
    "\n",
    "hyp_scores = []\n",
    "\n",
    "hyp_scores.append({\n",
    "    'Model' : 'RandomForestClassifier',\n",
    "    'Accuracy' : round(accuracy,2),\n",
    "    'Precision' : round(precision,2),\n",
    "    'Recall' : round(recall,2),\n",
    "    'F1 Score' : round(f1,2),\n",
    "    'Cross_val_score' : round(cv_scores.mean(),2)\n",
    "})\n",
    "\n",
    "cm = confusion_matrix(y_test, y_pred_rf)\n",
    "conf_matrix = pd.DataFrame(cm, columns = ['Non_Defaulters:0', 'Defaulters:1'], index = ['Non_Defaulters:0', 'Defaulters:1'])\n",
    "sns.heatmap(conf_matrix, annot = True, fmt = 'd', cmap = 'magma', cbar = False, linewidth = 0.2)\n",
    "plt.show()\n",
    "\n",
    "hyp_scores_df2 = pd.DataFrame(hyp_scores)\n",
    "hyp_scores_df = pd.concat([hyp_scores_df2, hyp_scores_df])\n",
    "hyp_scores_df"
   ]
  },
  {
   "cell_type": "code",
   "execution_count": null,
   "id": "8a433edd",
   "metadata": {},
   "outputs": [],
   "source": []
  },
  {
   "cell_type": "code",
   "execution_count": null,
   "id": "d7a51113",
   "metadata": {},
   "outputs": [],
   "source": [
    "tune_param_ada = {\n",
    "    'n_estimators': [50, 100, 200],\n",
    "    'learning_rate': [0.01, 0.1, 1, 10],\n",
    "    'algorithm': ['SAMME', 'SAMME.R'],\n",
    "    'base_estimator__max_depth': [1, 2, 3, 4],\n",
    "    'base_estimator__min_samples_split': [2, 5, 10],\n",
    "    'base_estimator__min_samples_leaf': [1, 2, 4],\n",
    "    'base_estimator__max_features': ['auto', 'sqrt', 'log2', None],\n",
    "    'base_estimator__criterion': ['gini', 'entropy'],\n",
    "    'base_estimator__splitter': ['best', 'random']\n",
    "}\n",
    "\n",
    "ada_model = AdaBoostClassifier(base_estimator=DecisionTreeClassifier())\n",
    "grid_ada = GridSearchCV(estimator=ada_model, param_grid=tune_param_ada, cv=5, scoring='recall').fit(X_train, y_train)\n",
    "print('Best Hyper Parameters for AdaBoost Classifier are:', grid_ada.best_params_, '\\n')"
   ]
  },
  {
   "cell_type": "code",
   "execution_count": null,
   "id": "514aaba2",
   "metadata": {},
   "outputs": [],
   "source": [
    "ada_hyp_model = AdaBoostClassifier().fit(X_train, y_train)\n",
    "y_pred_ada = ada_hyp_model.predict(X_test)\n",
    "\n",
    "accuracy = accuracy_score(y_test, y_pred_ada)\n",
    "recall = recall_score(y_test, y_pred_ada)\n",
    "precision = precision_score(y_test, y_pred_ada)\n",
    "f1 = f1_score(y_test, y_pred_ada)\n",
    "cross_val = cross_val_score(ada_hyp_model, X_train, y_train, cv = 5, scoring = 'recall')  \n",
    "\n",
    "hyp_scores = []\n",
    "\n",
    "hyp_scores.append({\n",
    "    'Model' : 'AdaBoostClassifier',\n",
    "    'Accuracy' : round(accuracy,2),\n",
    "    'Precision' : round(precision,2),\n",
    "    'Recall' : round(recall,2),\n",
    "    'F1 Score' : round(f1,2),\n",
    "    'Cross_val_score' : round(cv_scores.mean(),2)\n",
    "})\n",
    "\n",
    "cm = confusion_matrix(y_test, y_pred_ada)\n",
    "conf_matrix = pd.DataFrame(cm, columns = ['Non_Defaulters:0', 'Defaulters:1'], index = ['Non_Defaulters:0', 'Defaulters:1'])\n",
    "sns.heatmap(conf_matrix, annot = True, fmt = 'd', cmap = 'magma', cbar = False, linewidth = 0.2)\n",
    "plt.show()\n",
    "\n",
    "hyp_scores_df3 = pd.DataFrame(hyp_scores)\n",
    "hyp_scores_df = pd.concat([hyp_scores_df3, hyp_scores_df])\n",
    "hyp_scores_df"
   ]
  },
  {
   "cell_type": "code",
   "execution_count": null,
   "id": "b7df4ffd",
   "metadata": {},
   "outputs": [],
   "source": []
  },
  {
   "cell_type": "code",
   "execution_count": null,
   "id": "96f0fd3e",
   "metadata": {},
   "outputs": [],
   "source": [
    "from sklearn.ensemble import GradientBoostingClassifier\n",
    "\n",
    "tune_param_gb = {\n",
    "    'n_estimators': [50, 100, 200],\n",
    "    'learning_rate': [0.01, 0.1, 0.2, 0.3],\n",
    "    'max_depth': [3, 5, 7, 9],\n",
    "    'min_samples_split': [2, 5, 10],\n",
    "    'min_samples_leaf': [1, 2, 4],\n",
    "    'max_features': ['auto', 'sqrt', 'log2', None],\n",
    "    'subsample': [0.7, 0.8, 0.9, 1.0],\n",
    "    'loss': ['deviance', 'exponential']  # Including loss parameter\n",
    "}\n",
    "\n",
    "gb_model = GradientBoostingClassifier()\n",
    "grid_gb = GridSearchCV(estimator=gb_model, param_grid=tune_param_gb, cv=5, scoring='recall').fit(X_train, y_train)\n",
    "print('Best Hyper Parameters for Gradient Boosting Classifier are:', grid_gb.best_params_, '\\n')"
   ]
  },
  {
   "cell_type": "code",
   "execution_count": null,
   "id": "54c3741a",
   "metadata": {},
   "outputs": [],
   "source": [
    "gbm_hyp_model = GradientBoostingClassifier().fit(X_train, y_train)\n",
    "y_pred_gbm = gbm_hyp_model.predict(X_test)\n",
    "\n",
    "accuracy = accuracy_score(y_test, y_pred_gbm)\n",
    "recall = recall_score(y_test, y_pred_gbm)\n",
    "precision = precision_score(y_test, y_pred_gbm)\n",
    "f1 = f1_score(y_test, y_pred_gbm)\n",
    "cross_val = cross_val_score(gbm_hyp_model, X_train, y_train, cv = 5, scoring = 'recall')  \n",
    "\n",
    "hyp_scores = []\n",
    "\n",
    "hyp_scores.append({\n",
    "    'Model' : 'GradientBoostingClassifier',\n",
    "    'Accuracy' : round(accuracy,2),\n",
    "    'Precision' : round(precision,2),\n",
    "    'Recall' : round(recall,2),\n",
    "    'F1 Score' : round(f1,2),\n",
    "    'Cross_val_score' : round(cv_scores.mean(),2)\n",
    "})\n",
    "\n",
    "cm = confusion_matrix(y_test, y_pred_gbm)\n",
    "conf_matrix = pd.DataFrame(cm, columns = ['Non_Defaulters:0', 'Defaulters:1'], index = ['Non_Defaulters:0', 'Defaulters:1'])\n",
    "sns.heatmap(conf_matrix, annot = True, fmt = 'd', cmap = 'magma', cbar = False, linewidth = 0.2)\n",
    "plt.show()\n",
    "\n",
    "hyp_scores_df4 = pd.DataFrame(hyp_scores)\n",
    "hyp_scores_df = pd.concat([hyp_scores_df4, hyp_scores_df])\n",
    "hyp_scores_df"
   ]
  },
  {
   "cell_type": "code",
   "execution_count": null,
   "id": "b266f2de",
   "metadata": {},
   "outputs": [],
   "source": []
  },
  {
   "cell_type": "code",
   "execution_count": null,
   "id": "83200791",
   "metadata": {},
   "outputs": [],
   "source": [
    "from xgboost import XGBClassifier\n",
    "\n",
    "tune_param_xgb = {\n",
    "    'n_estimators': [50, 100, 200],\n",
    "    'learning_rate': [0.01, 0.1, 0.2, 0.3],\n",
    "    'max_depth': [3, 5, 7, 9],\n",
    "    'min_child_weight': [1, 3, 5],\n",
    "    'gamma': [0, 0.1, 0.3, 0.5],\n",
    "    'subsample': [0.7, 0.8, 0.9, 1.0],\n",
    "    'colsample_bytree': [0.7, 0.8, 0.9, 1.0],\n",
    "    'reg_alpha': [0, 0.01, 0.1, 1],\n",
    "    'reg_lambda': [1, 0.1, 0.01],\n",
    "    'scale_pos_weight': [1, 3, 5]\n",
    "}\n",
    "\n",
    "xgb_model = XGBClassifier(use_label_encoder=False, eval_metric='logloss')\n",
    "grid_xgb = GridSearchCV(estimator=xgb_model, param_grid=tune_param_xgb, cv=5, scoring='recall').fit(X_train, y_train)\n",
    "print('Best Hyper Parameters for XGBoost Classifier are:', grid_xgb.best_params_, '\\n')"
   ]
  },
  {
   "cell_type": "code",
   "execution_count": null,
   "id": "d045493c",
   "metadata": {},
   "outputs": [],
   "source": [
    "xgb_hyp_model = XGBClassifier().fit(X_train, y_train)\n",
    "y_pred_xgb = xgb_hyp_model.predict(X_test)\n",
    "\n",
    "accuracy = accuracy_score(y_test, y_pred_xgb)\n",
    "recall = recall_score(y_test, y_pred_xgb)\n",
    "precision = precision_score(y_test, y_pred_xgb)\n",
    "f1 = f1_score(y_test, y_pred_xgb)\n",
    "cross_val = cross_val_score(xgb_hyp_model, X_train, y_train, cv = 5, scoring = 'recall')  \n",
    "\n",
    "hyp_scores = []\n",
    "\n",
    "hyp_scores.append({\n",
    "    'Model' : 'XGBClassifier',\n",
    "    'Accuracy' : round(accuracy,2),\n",
    "    'Precision' : round(precision,2),\n",
    "    'Recall' : round(recall,2),\n",
    "    'F1 Score' : round(f1,2),\n",
    "    'Cross_val_score' : round(cv_scores.mean(),2)\n",
    "})\n",
    "\n",
    "cm = confusion_matrix(y_test, y_pred_xgb)\n",
    "conf_matrix = pd.DataFrame(cm, columns = ['Non_Defaulters:0', 'Defaulters:1'], index = ['Non_Defaulters:0', 'Defaulters:1'])\n",
    "sns.heatmap(conf_matrix, annot = True, fmt = 'd', cmap = 'magma', cbar = False, linewidth = 0.2)\n",
    "plt.show()\n",
    "\n",
    "hyp_scores_df5 = pd.DataFrame(hyp_scores)\n",
    "hyp_scores_df = pd.concat([hyp_scores_df5, hyp_scores_df])\n",
    "hyp_scores_df"
   ]
  },
  {
   "cell_type": "code",
   "execution_count": null,
   "id": "8fec7e43",
   "metadata": {},
   "outputs": [],
   "source": []
  },
  {
   "cell_type": "code",
   "execution_count": null,
   "id": "4a45b47d",
   "metadata": {},
   "outputs": [],
   "source": []
  },
  {
   "cell_type": "code",
   "execution_count": null,
   "id": "0cf4d746",
   "metadata": {},
   "outputs": [],
   "source": []
  }
 ],
 "metadata": {
  "kernelspec": {
   "display_name": "Python 3 (ipykernel)",
   "language": "python",
   "name": "python3"
  },
  "language_info": {
   "codemirror_mode": {
    "name": "ipython",
    "version": 3
   },
   "file_extension": ".py",
   "mimetype": "text/x-python",
   "name": "python",
   "nbconvert_exporter": "python",
   "pygments_lexer": "ipython3",
   "version": "3.9.7"
  }
 },
 "nbformat": 4,
 "nbformat_minor": 5
}
