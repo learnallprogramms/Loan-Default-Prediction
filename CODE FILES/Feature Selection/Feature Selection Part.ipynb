{
 "cells": [
  {
   "cell_type": "code",
   "execution_count": 1,
   "id": "ebdcfa33",
   "metadata": {},
   "outputs": [],
   "source": [
    "# Import necessary libraries\n",
    "import numpy as np  # For numerical operations\n",
    "import pandas as pd  # For data manipulation and analysis\n",
    "import matplotlib.pyplot as plt  # For data visualization\n",
    "import seaborn as sns  # For enhanced data visualization\n",
    "\n",
    "# Suppress warnings\n",
    "import warnings  # For managing warnings in the code\n",
    "warnings.filterwarnings('ignore')  # Ignore all warnings\n",
    "\n",
    "## display all columns of the dataframe\n",
    "pd.options.display.max_columns=None\n",
    "## display all rows of the dataframe\n",
    "pd.options.display.max_rows=None\n",
    "\n",
    "from sklearn.preprocessing import StandardScaler\n",
    "from sklearn.preprocessing import MinMaxScaler\n",
    "\n",
    "from sklearn.feature_selection import SelectFromModel, RFECV\n",
    "from sklearn.model_selection import train_test_split\n",
    "from sklearn.linear_model import LogisticRegression, LassoCV\n",
    "from sklearn.neighbors import KNeighborsClassifier\n",
    "from sklearn.naive_bayes import GaussianNB\n",
    "from sklearn.tree import DecisionTreeClassifier\n",
    "from sklearn.ensemble import RandomForestClassifier, GradientBoostingClassifier, AdaBoostClassifier, StackingClassifier, ExtraTreesClassifier\n",
    "from xgboost import XGBClassifier\n",
    "\n",
    "\n",
    "from sklearn import metrics\n",
    "from sklearn.metrics import accuracy_score, recall_score, precision_score,f1_score, classification_report, confusion_matrix, roc_auc_score, roc_curve, auc\n",
    "\n",
    "from scipy import stats\n",
    "from scipy.stats import shapiro, levene, mannwhitneyu\n",
    "from scipy.stats import chi2_contingency"
   ]
  },
  {
   "cell_type": "code",
   "execution_count": 2,
   "id": "8b027ac9",
   "metadata": {},
   "outputs": [],
   "source": [
    "df = pd.read_csv('Data_without_Scaling_&_without_Outliers_Treatment.csv')"
   ]
  },
  {
   "cell_type": "code",
   "execution_count": 3,
   "id": "bb6f5735",
   "metadata": {},
   "outputs": [],
   "source": [
    "# Assuming df is your DataFrame\n",
    "df['Total_Repayment'] = df['V6'] * df['V8']\n",
    "df['Total_Interest_Paid'] = df['V7'] * (df['V12'] / 100) * df['V8']\n",
    "df['Total_Past_Due'] = df['V29'] + df['V28'] + df['V30']\n",
    "df['RepaymentRiskScore'] = (df['V29'] * 2) + (df['V28'] * 1.5) + (df['V30'] * 3) + (df['V5'] * 2)\n",
    "df['LoanBurden'] = (df['V7'] / df['V8']) + df['V6']\n",
    "df['Default_Risk_Score'] = (df['V29'] + df['V28'] + df['V30'] + df['V5']) / 4\n",
    "df['Loan_Affordability_Index'] = df['V6'] / df['V12']\n",
    "\n",
    "\n",
    "# Drop or keep the original columns as necessary\n",
    "df.drop(['V5','V6', 'V8', 'V7', 'V12', 'V29', 'V28', 'V30'], axis=1, inplace=True)\n"
   ]
  },
  {
   "cell_type": "code",
   "execution_count": 4,
   "id": "c2c9c9fb",
   "metadata": {},
   "outputs": [
    {
     "name": "stdout",
     "output_type": "stream",
     "text": [
      "                     feature         VIF\n",
      "16        Default_Risk_Score  977.272398\n",
      "14        RepaymentRiskScore  702.123663\n",
      "13            Total_Past_Due  232.702680\n",
      "11           Total_Repayment  199.875248\n",
      "15                LoanBurden   55.604280\n",
      "12       Total_Interest_Paid   47.668877\n",
      "9                        V25   30.883121\n",
      "2                         V4   21.360281\n",
      "6                        V18   19.308391\n",
      "7                        V19   13.204559\n",
      "5                        V17   11.708599\n",
      "1                         V3    4.815238\n",
      "8                        V20    3.851674\n",
      "4                        V11    2.039439\n",
      "3                         V9    1.991506\n",
      "0                         V2    1.122952\n",
      "10                       V32    1.060361\n",
      "17  Loan_Affordability_Index    1.035865\n"
     ]
    }
   ],
   "source": [
    "import statsmodels.api as sm\n",
    "from statsmodels.stats.outliers_influence import variance_inflation_factor\n",
    "\n",
    "# Select only numeric columns (VIF is calculated for numeric data)\n",
    "numeric_df = df.select_dtypes(include=np.number)\n",
    "\n",
    "# Handle missing values - option 1: drop rows with missing values\n",
    "numeric_df = numeric_df.dropna()\n",
    "\n",
    "# Alternatively, handle missing values - option 2: fill missing values\n",
    "# numeric_df = numeric_df.fillna(numeric_df.mean())\n",
    "\n",
    "# Check for infinite values and replace them with NaNs\n",
    "numeric_df.replace([np.inf, -np.inf], np.nan, inplace=True)\n",
    "\n",
    "# Drop rows with NaNs after replacing inf values\n",
    "numeric_df.dropna(inplace=True)\n",
    "\n",
    "# Calculate VIF for each numeric feature\n",
    "vif_data = pd.DataFrame()\n",
    "vif_data[\"feature\"] = numeric_df.columns\n",
    "vif_data[\"VIF\"] = [variance_inflation_factor(numeric_df.values, i) for i in range(numeric_df.shape[1])]\n",
    "\n",
    "print(vif_data.sort_values(by='VIF',ascending=False))"
   ]
  },
  {
   "cell_type": "code",
   "execution_count": 5,
   "id": "619ffdb2",
   "metadata": {},
   "outputs": [
    {
     "name": "stdout",
     "output_type": "stream",
     "text": [
      "                     feature       VIF\n",
      "10                LoanBurden  8.791182\n",
      "4                        V17  7.981317\n",
      "8        Total_Interest_Paid  3.910787\n",
      "2                         V9  1.912674\n",
      "3                        V11  1.504192\n",
      "1                         V3  1.309438\n",
      "5                        V19  1.301457\n",
      "6                        V20  1.257824\n",
      "9             Total_Past_Due  1.247883\n",
      "7                        V32  1.052889\n",
      "11  Loan_Affordability_Index  1.035704\n",
      "0                         V2  1.031324\n"
     ]
    }
   ],
   "source": [
    "import statsmodels.api as sm\n",
    "from statsmodels.stats.outliers_influence import variance_inflation_factor\n",
    "\n",
    "# Drop the 'Default_Risk_Score' column\n",
    "numeric_df = numeric_df.drop(columns=['Default_Risk_Score', 'Total_Repayment', 'RepaymentRiskScore', 'V25', 'V18', 'V4']) \n",
    "\n",
    "# Recalculate VIF for the remaining features\n",
    "numeric_df.replace([np.inf, -np.inf], np.nan, inplace=True)\n",
    "numeric_df.dropna(inplace=True)\n",
    "\n",
    "vif_data = pd.DataFrame()\n",
    "vif_data[\"feature\"] = numeric_df.columns\n",
    "vif_data[\"VIF\"] = [variance_inflation_factor(numeric_df.values, i) for i in range(numeric_df.shape[1])]\n",
    "\n",
    "print(vif_data.sort_values(by='VIF', ascending=False))\n"
   ]
  },
  {
   "cell_type": "code",
   "execution_count": 6,
   "id": "c450f3ef",
   "metadata": {},
   "outputs": [],
   "source": [
    "df.drop(['Default_Risk_Score', 'Total_Repayment', 'RepaymentRiskScore', 'V25', 'V18', 'V4'], axis = 1, inplace = True)"
   ]
  },
  {
   "cell_type": "code",
   "execution_count": 8,
   "id": "5db6b601",
   "metadata": {},
   "outputs": [],
   "source": [
    "# Save the cleaned data to a CSV file\n",
    "df.to_csv('Data_for_Feature_Selection.csv', index=False)"
   ]
  },
  {
   "cell_type": "markdown",
   "id": "b26e3f87",
   "metadata": {},
   "source": [
    "**High VIFs: Features LoanBurden, V17 (> 5).**\n",
    "\n",
    "**Moderate VIFs: Features Total_Interest_Paid (between 5 and 1).**\n",
    "\n",
    "**Low VIFs: Features V9, V19, V20, Total_Past_Due, Loan_Affordability_Index ( = 1).**\n",
    "\n",
    "**Removing features is not an option, explore alternative modeling techniques like ridge regression or LASSO regression that are less sensitive to multicollinearity**"
   ]
  },
  {
   "cell_type": "code",
   "execution_count": null,
   "id": "9cba8e85",
   "metadata": {},
   "outputs": [],
   "source": []
  },
  {
   "cell_type": "markdown",
   "id": "af483feb",
   "metadata": {},
   "source": [
    "# <font color = 'green'>Feature Selection"
   ]
  },
  {
   "cell_type": "code",
   "execution_count": 11,
   "id": "de3020a1",
   "metadata": {},
   "outputs": [
    {
     "data": {
      "text/plain": [
       "(85048, 26)"
      ]
     },
     "execution_count": 11,
     "metadata": {},
     "output_type": "execute_result"
    }
   ],
   "source": [
    "encode_df = pd.read_csv('Data_for_Feature_Selection.csv')\n",
    "\n",
    "\n",
    "# Columns to be one-hot encoded\n",
    "columns_to_encode = ['V10', 'V13', 'V14', 'V15', 'V31']\n",
    "\n",
    "\n",
    "# One-Hot Encoding\n",
    "encoded_data = pd.get_dummies(encode_df, columns=columns_to_encode, prefix=columns_to_encode, drop_first=True)\n",
    "\n",
    "encoded_data.to_csv('Data_with_encoding.csv', index=False)\n",
    "\n",
    "dt = pd.read_csv('Data_with_encoding.csv')\n",
    "dt.shape"
   ]
  },
  {
   "cell_type": "code",
   "execution_count": null,
   "id": "a2686058",
   "metadata": {},
   "outputs": [],
   "source": []
  },
  {
   "cell_type": "markdown",
   "id": "87a448ad",
   "metadata": {},
   "source": [
    "## <font color = 'purple'>Feature Selection using LassoCV Method"
   ]
  },
  {
   "cell_type": "code",
   "execution_count": 12,
   "id": "dbc488df",
   "metadata": {},
   "outputs": [
    {
     "name": "stdout",
     "output_type": "stream",
     "text": [
      "(82742, 25)\n",
      "Max value in X_train: 475084.8000000001\n",
      "Min value in X_train: 0.0\n",
      "Selected Features: Index(['V2', 'V3', 'V9', 'V11', 'V17', 'V19', 'V20', 'Total_Interest_Paid',\n",
      "       'Total_Past_Due', 'LoanBurden', 'V10_MO', 'V10_SC', 'V10_TL',\n",
      "       'V13_MALE', 'V14_SELF', 'V14_STUDENT', 'V15_RENT', 'V31_TIER 2',\n",
      "       'V31_TIER 3', 'V31_TIER 4'],\n",
      "      dtype='object')\n",
      "Accuracy: 0.9779236997945454\n"
     ]
    }
   ],
   "source": [
    "# Drop feature V32 and define target variable\n",
    "X = dt.drop('V32', axis=1)\n",
    "y = dt['V32']\n",
    "\n",
    "# Replace infinity values with NaNs\n",
    "X.replace([np.inf, -np.inf], np.nan, inplace=True)\n",
    "\n",
    "# Handle missing values in X (drop rows with NaN values)\n",
    "X.dropna(inplace=True)\n",
    "print(X.shape)\n",
    "\n",
    "# Ensure the target variable 'y' matches the cleaned features 'X'\n",
    "y = y.loc[X.index]\n",
    "\n",
    "# Split data into training and testing sets\n",
    "X_train, X_test, y_train, y_test = train_test_split(X, y, test_size=0.3, random_state=50)\n",
    "\n",
    "# Check for remaining infinity values or very large values\n",
    "print(\"Max value in X_train:\", X_train.max().max())\n",
    "print(\"Min value in X_train:\", X_train.min().min())\n",
    "\n",
    "# Feature scaling\n",
    "scaler = StandardScaler()\n",
    "X_train_scaled = scaler.fit_transform(X_train)\n",
    "X_test_scaled = scaler.transform(X_test)\n",
    "\n",
    "# Convert scaled features back to DataFrame\n",
    "X_train_scaled = pd.DataFrame(X_train_scaled, columns=X_train.columns)\n",
    "X_test_scaled = pd.DataFrame(X_test_scaled, columns=X_test.columns)\n",
    "\n",
    "# LassoCV for feature selection\n",
    "lasso_cv = LassoCV(cv=5).fit(X_train_scaled, y_train)\n",
    "model = SelectFromModel(lasso_cv, prefit=True)\n",
    "X_train_selected = model.transform(X_train_scaled)\n",
    "X_test_selected = model.transform(X_test_scaled)\n",
    "\n",
    "# Get selected features by model\n",
    "selected_features = X_train.columns[model.get_support()]\n",
    "print(\"Selected Features:\", selected_features)\n",
    "\n",
    "# Train Logistic Regression model\n",
    "classifier = LogisticRegression().fit(X_train_selected, y_train)\n",
    "\n",
    "# Make predictions and calculate accuracy\n",
    "y_pred = classifier.predict(X_test_selected)\n",
    "accuracy = accuracy_score(y_test, y_pred)\n",
    "print(\"Accuracy:\", accuracy)\n"
   ]
  },
  {
   "cell_type": "code",
   "execution_count": null,
   "id": "7bb8beb8",
   "metadata": {},
   "outputs": [],
   "source": []
  },
  {
   "cell_type": "markdown",
   "id": "b33b4c27",
   "metadata": {},
   "source": [
    "## <font color = 'purple'>Feature Selection using RFECV Method"
   ]
  },
  {
   "cell_type": "code",
   "execution_count": 13,
   "id": "c262bfb6",
   "metadata": {},
   "outputs": [
    {
     "name": "stdout",
     "output_type": "stream",
     "text": [
      "Selected Features with RFE: Index(['V2', 'V3', 'V9', 'V11', 'V17', 'V19', 'V20', 'Total_Interest_Paid',\n",
      "       'Total_Past_Due', 'V10_MO', 'V10_TL', 'V13_MALE', 'V14_SELF',\n",
      "       'V14_STUDENT', 'V31_TIER 2', 'V31_TIER 3', 'V31_TIER 4'],\n",
      "      dtype='object')\n",
      "Accuracy: 0.9779639850138984\n"
     ]
    }
   ],
   "source": [
    "# Recursive Feature Elimination with Cross-Validation\n",
    "estimator = LogisticRegression(max_iter = 1000)  # Use LogisticRegression as estimator\n",
    "selector = RFECV(estimator, min_features_to_select = 10, step = 1)\n",
    "selector.fit(X_train_scaled, y_train)\n",
    "\n",
    "# Get selected features by model\n",
    "selected_features = X_train.columns[selector.support_]\n",
    "print(\"Selected Features with RFE:\", selected_features)\n",
    "\n",
    "X_train_rfe_selected = selector.transform(X_train_scaled)\n",
    "X_test_rfe_selected = selector.transform(X_test_scaled)\n",
    "\n",
    "classifier = LogisticRegression(max_iter = 1000).fit(X_train_rfe_selected, y_train)\n",
    "\n",
    "# Make predictions and calculate accuracy\n",
    "y_pred = classifier.predict(X_test_rfe_selected)\n",
    "accuracy = accuracy_score(y_test, y_pred)\n",
    "print(\"Accuracy:\", accuracy)\n"
   ]
  },
  {
   "cell_type": "code",
   "execution_count": null,
   "id": "6ee57426",
   "metadata": {},
   "outputs": [],
   "source": []
  },
  {
   "cell_type": "markdown",
   "id": "8c354fdf",
   "metadata": {},
   "source": [
    "## <font color = 'purple'>Feature Selection using Tree Method"
   ]
  },
  {
   "cell_type": "code",
   "execution_count": 14,
   "id": "5b7d4033",
   "metadata": {},
   "outputs": [
    {
     "name": "stdout",
     "output_type": "stream",
     "text": [
      "Selected Features: Index(['V3', 'V9', 'V17', 'V19', 'V20', 'Total_Interest_Paid',\n",
      "       'Total_Past_Due', 'LoanBurden', 'Loan_Affordability_Index'],\n",
      "      dtype='object')\n",
      "Accuracy: 0.9778431293558394\n"
     ]
    }
   ],
   "source": [
    "# Tree-based method for feature selection\n",
    "tree_clf = ExtraTreesClassifier(n_estimators=100)\n",
    "tree_clf = tree_clf.fit(X_train_scaled, y_train)\n",
    "\n",
    "# Select features based on importance\n",
    "model = SelectFromModel(tree_clf, prefit=True)\n",
    "X_train_selected = model.transform(X_train_scaled)\n",
    "X_test_selected = model.transform(X_test_scaled)\n",
    "\n",
    "# Get selected features by model\n",
    "selected_features = X_train.columns[model.get_support()]\n",
    "print(\"Selected Features:\", selected_features)\n",
    "\n",
    "# Train Logistic Regression model\n",
    "classifier = LogisticRegression(max_iter=1000).fit(X_train_selected, y_train)\n",
    "\n",
    "# Make predictions and calculate accuracy\n",
    "y_pred = classifier.predict(X_test_selected)\n",
    "accuracy = accuracy_score(y_test, y_pred)\n",
    "print(\"Accuracy:\", accuracy)"
   ]
  },
  {
   "cell_type": "code",
   "execution_count": null,
   "id": "3fa7016c",
   "metadata": {},
   "outputs": [],
   "source": []
  },
  {
   "cell_type": "code",
   "execution_count": null,
   "id": "e9fb04ea",
   "metadata": {},
   "outputs": [],
   "source": []
  },
  {
   "cell_type": "code",
   "execution_count": null,
   "id": "02c7d154",
   "metadata": {},
   "outputs": [],
   "source": []
  },
  {
   "cell_type": "code",
   "execution_count": null,
   "id": "db24c59f",
   "metadata": {},
   "outputs": [],
   "source": []
  },
  {
   "cell_type": "code",
   "execution_count": null,
   "id": "a137ea79",
   "metadata": {},
   "outputs": [],
   "source": []
  }
 ],
 "metadata": {
  "kernelspec": {
   "display_name": "Python 3 (ipykernel)",
   "language": "python",
   "name": "python3"
  },
  "language_info": {
   "codemirror_mode": {
    "name": "ipython",
    "version": 3
   },
   "file_extension": ".py",
   "mimetype": "text/x-python",
   "name": "python",
   "nbconvert_exporter": "python",
   "pygments_lexer": "ipython3",
   "version": "3.9.7"
  }
 },
 "nbformat": 4,
 "nbformat_minor": 5
}
